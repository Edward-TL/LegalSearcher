{
 "cells": [
  {
   "cell_type": "markdown",
   "metadata": {},
   "source": [
    "# Colombian Constitution EDA.\n",
    "    Brief resume about the methodology and the results that we got."
   ]
  },
  {
   "cell_type": "markdown",
   "metadata": {},
   "source": [
    "## About the Document\n",
    "    The Political Constitution of the Republic of Colombia of 1991 is the Magna Carta of the Republic of Colombia. It was promulgated in the Constitutional Gazette number 114 of Thursday, July 4, 1991, and is also known as the Constitution of Human Rights. It replaced the Political Constitution of 1886 and was issued during the presidency of the liberal César Gaviria.1"
   ]
  },
  {
   "cell_type": "markdown",
   "metadata": {},
   "source": [
    "## DS Pipeline\n",
    "\n"
   ]
  },
  {
   "cell_type": "markdown",
   "metadata": {},
   "source": [
    "## Document Data Model\n",
    "\n",
    "PowerPoint graph, meanwhile we can use the hierarchy of the articles dictionary\n",
    "\n",
    "```\n",
    "hierarchy = {\n",
    "    'TITULO' : 'h1',\n",
    "    'DISPOSICIONES' : 'h1',\n",
    "    'CAPITULO' : 'h2',\n",
    "    'ARTÍCULO' : 'p'\n",
    "\n",
    "}\n",
    "```"
   ]
  },
  {
   "cell_type": "markdown",
   "metadata": {},
   "source": [
    "## EDA"
   ]
  },
  {
   "cell_type": "markdown",
   "metadata": {},
   "source": [
    "### Libraries "
   ]
  },
  {
   "cell_type": "code",
   "execution_count": 1,
   "metadata": {},
   "outputs": [],
   "source": [
    "import numpy as np\n",
    "import pandas as pd\n",
    "# For visualizations\n",
    "import matplotlib.pyplot as plt\n",
    "# For regular expressions\n",
    "import re\n",
    "# For handling string\n",
    "import string\n",
    "# import tensorflow  as tf\n",
    "# # tf.disable_v2_behavior()\n",
    "# import tensorflow_hub as hub\n",
    "# import tensorflow_text\n",
    "import os \n",
    "from tf_model import embed_text\n"
   ]
  },
  {
   "cell_type": "code",
   "execution_count": 10,
   "metadata": {},
   "outputs": [
    {
     "data": {
      "text/html": "<div>\n<style scoped>\n    .dataframe tbody tr th:only-of-type {\n        vertical-align: middle;\n    }\n\n    .dataframe tbody tr th {\n        vertical-align: top;\n    }\n\n    .dataframe thead th {\n        text-align: right;\n    }\n</style>\n<table border=\"1\" class=\"dataframe\">\n  <thead>\n    <tr style=\"text-align: right;\">\n      <th></th>\n      <th>index</th>\n      <th>legal_source</th>\n      <th>id</th>\n      <th>book</th>\n      <th>headline</th>\n      <th>chapter</th>\n      <th>section</th>\n      <th>part</th>\n      <th>article</th>\n      <th>dot_comma_sep</th>\n    </tr>\n  </thead>\n  <tbody>\n    <tr>\n      <th>0</th>\n      <td>constitucion</td>\n      <td>CONSTITUCION POLITICA DE COLOMBIA\\n</td>\n      <td>constitucion00000100000001</td>\n      <td>{'title': None, 'name': None}</td>\n      <td>{'title': 'DISPOSICIONES TRANSITORIAS\n', 'name...</td>\n      <td>{'title': None, 'name': None}</td>\n      <td>{'title': None, 'name': None}</td>\n      <td>{'title': None, 'name': None}</td>\n      <td>{'name': 'Artículo 1.', 'content': ['Artículo ...</td>\n      <td>[Artículo 1., Colombia es un Estado social de ...</td>\n    </tr>\n    <tr>\n      <th>1</th>\n      <td>constitucion</td>\n      <td>CONSTITUCION POLITICA DE COLOMBIA\\n</td>\n      <td>constitucion00000100000002</td>\n      <td>{'title': None, 'name': None}</td>\n      <td>{'title': 'DISPOSICIONES TRANSITORIAS\n', 'name...</td>\n      <td>{'title': None, 'name': None}</td>\n      <td>{'title': None, 'name': None}</td>\n      <td>{'title': None, 'name': None}</td>\n      <td>{'name': 'Artículo 2.', 'content': ['Artículo ...</td>\n      <td>[Artículo 2., Son fines esenciales del Estado:...</td>\n    </tr>\n    <tr>\n      <th>2</th>\n      <td>constitucion</td>\n      <td>CONSTITUCION POLITICA DE COLOMBIA\\n</td>\n      <td>constitucion00000100000003</td>\n      <td>{'title': None, 'name': None}</td>\n      <td>{'title': 'DISPOSICIONES TRANSITORIAS\n', 'name...</td>\n      <td>{'title': None, 'name': None}</td>\n      <td>{'title': None, 'name': None}</td>\n      <td>{'title': None, 'name': None}</td>\n      <td>{'name': 'Artículo 3.', 'content': ['Artículo ...</td>\n      <td>[Artículo 3., La soberanía reside exclusivamen...</td>\n    </tr>\n    <tr>\n      <th>3</th>\n      <td>constitucion</td>\n      <td>CONSTITUCION POLITICA DE COLOMBIA\\n</td>\n      <td>constitucion00000100000004</td>\n      <td>{'title': None, 'name': None}</td>\n      <td>{'title': 'DISPOSICIONES TRANSITORIAS\n', 'name...</td>\n      <td>{'title': None, 'name': None}</td>\n      <td>{'title': None, 'name': None}</td>\n      <td>{'title': None, 'name': None}</td>\n      <td>{'name': 'Artículo 4.', 'content': ['Artículo ...</td>\n      <td>[Artículo 4., La Constitución es norma de norm...</td>\n    </tr>\n    <tr>\n      <th>4</th>\n      <td>constitucion</td>\n      <td>CONSTITUCION POLITICA DE COLOMBIA\\n</td>\n      <td>constitucion00000100000005</td>\n      <td>{'title': None, 'name': None}</td>\n      <td>{'title': 'DISPOSICIONES TRANSITORIAS\n', 'name...</td>\n      <td>{'title': None, 'name': None}</td>\n      <td>{'title': None, 'name': None}</td>\n      <td>{'title': None, 'name': None}</td>\n      <td>{'name': 'Artículo 5.', 'content': ['Artículo ...</td>\n      <td>[Artículo 5., El Estado reconoce, sin discrimi...</td>\n    </tr>\n    <tr>\n      <th>...</th>\n      <td>...</td>\n      <td>...</td>\n      <td>...</td>\n      <td>...</td>\n      <td>...</td>\n      <td>...</td>\n      <td>...</td>\n      <td>...</td>\n      <td>...</td>\n      <td>...</td>\n    </tr>\n    <tr>\n      <th>435</th>\n      <td>constitucion</td>\n      <td>CONSTITUCION POLITICA DE COLOMBIA\\n</td>\n      <td>constitucion00001408000436</td>\n      <td>{'title': None, 'name': None}</td>\n      <td>{'title': 'DISPOSICIONES TRANSITORIAS\n', 'name...</td>\n      <td>{'title': 'CAPITULO 8\n', 'name': '\n'}</td>\n      <td>{'title': None, 'name': None}</td>\n      <td>{'title': None, 'name': None}</td>\n      <td>{'name': 'Artículo transitorio 56.', 'content'...</td>\n      <td>[Artículo transitorio 56., Mientras se expide ...</td>\n    </tr>\n    <tr>\n      <th>436</th>\n      <td>constitucion</td>\n      <td>CONSTITUCION POLITICA DE COLOMBIA\\n</td>\n      <td>constitucion00001408000437</td>\n      <td>{'title': None, 'name': None}</td>\n      <td>{'title': 'DISPOSICIONES TRANSITORIAS\n', 'name...</td>\n      <td>{'title': 'CAPITULO 8\n', 'name': '\n'}</td>\n      <td>{'title': None, 'name': None}</td>\n      <td>{'title': None, 'name': None}</td>\n      <td>{'name': 'Artículo transitorio 57.', 'content'...</td>\n      <td>[Artículo transitorio 57., El Gobierno formará...</td>\n    </tr>\n    <tr>\n      <th>437</th>\n      <td>constitucion</td>\n      <td>CONSTITUCION POLITICA DE COLOMBIA\\n</td>\n      <td>constitucion00001408000438</td>\n      <td>{'title': None, 'name': None}</td>\n      <td>{'title': 'DISPOSICIONES TRANSITORIAS\n', 'name...</td>\n      <td>{'title': 'CAPITULO 8\n', 'name': '\n'}</td>\n      <td>{'title': None, 'name': None}</td>\n      <td>{'title': None, 'name': None}</td>\n      <td>{'name': 'Artículo transitorio 58.', 'content'...</td>\n      <td>[Artículo transitorio 58., Autorizase al Gobie...</td>\n    </tr>\n    <tr>\n      <th>438</th>\n      <td>constitucion</td>\n      <td>CONSTITUCION POLITICA DE COLOMBIA\\n</td>\n      <td>constitucion00001408000439</td>\n      <td>{'title': None, 'name': None}</td>\n      <td>{'title': 'DISPOSICIONES TRANSITORIAS\n', 'name...</td>\n      <td>{'title': 'CAPITULO 8\n', 'name': '\n'}</td>\n      <td>{'title': None, 'name': None}</td>\n      <td>{'title': None, 'name': None}</td>\n      <td>{'name': 'Artículo transitorio 59.', 'content'...</td>\n      <td>[Artículo transitorio 59., La presente constit...</td>\n    </tr>\n    <tr>\n      <th>439</th>\n      <td>constitucion</td>\n      <td>CONSTITUCION POLITICA DE COLOMBIA\\n</td>\n      <td>constitucion00001408000440</td>\n      <td>{'title': None, 'name': None}</td>\n      <td>{'title': 'DISPOSICIONES TRANSITORIAS\n', 'name...</td>\n      <td>{'title': 'CAPITULO 8\n', 'name': '\n'}</td>\n      <td>{'title': None, 'name': None}</td>\n      <td>{'title': None, 'name': None}</td>\n      <td>{'name': 'Artículo Transitorio.', 'content': [...</td>\n      <td>[Artículo Transitorio., La Comisión especial c...</td>\n    </tr>\n  </tbody>\n</table>\n<p>440 rows × 10 columns</p>\n</div>",
      "text/plain": "            index                         legal_source  \\\n0    constitucion  CONSTITUCION POLITICA DE COLOMBIA\\n   \n1    constitucion  CONSTITUCION POLITICA DE COLOMBIA\\n   \n2    constitucion  CONSTITUCION POLITICA DE COLOMBIA\\n   \n3    constitucion  CONSTITUCION POLITICA DE COLOMBIA\\n   \n4    constitucion  CONSTITUCION POLITICA DE COLOMBIA\\n   \n..            ...                                  ...   \n435  constitucion  CONSTITUCION POLITICA DE COLOMBIA\\n   \n436  constitucion  CONSTITUCION POLITICA DE COLOMBIA\\n   \n437  constitucion  CONSTITUCION POLITICA DE COLOMBIA\\n   \n438  constitucion  CONSTITUCION POLITICA DE COLOMBIA\\n   \n439  constitucion  CONSTITUCION POLITICA DE COLOMBIA\\n   \n\n                             id                           book  \\\n0    constitucion00000100000001  {'title': None, 'name': None}   \n1    constitucion00000100000002  {'title': None, 'name': None}   \n2    constitucion00000100000003  {'title': None, 'name': None}   \n3    constitucion00000100000004  {'title': None, 'name': None}   \n4    constitucion00000100000005  {'title': None, 'name': None}   \n..                          ...                            ...   \n435  constitucion00001408000436  {'title': None, 'name': None}   \n436  constitucion00001408000437  {'title': None, 'name': None}   \n437  constitucion00001408000438  {'title': None, 'name': None}   \n438  constitucion00001408000439  {'title': None, 'name': None}   \n439  constitucion00001408000440  {'title': None, 'name': None}   \n\n                                              headline  \\\n0    {'title': 'DISPOSICIONES TRANSITORIAS\n', 'name...   \n1    {'title': 'DISPOSICIONES TRANSITORIAS\n', 'name...   \n2    {'title': 'DISPOSICIONES TRANSITORIAS\n', 'name...   \n3    {'title': 'DISPOSICIONES TRANSITORIAS\n', 'name...   \n4    {'title': 'DISPOSICIONES TRANSITORIAS\n', 'name...   \n..                                                 ...   \n435  {'title': 'DISPOSICIONES TRANSITORIAS\n', 'name...   \n436  {'title': 'DISPOSICIONES TRANSITORIAS\n', 'name...   \n437  {'title': 'DISPOSICIONES TRANSITORIAS\n', 'name...   \n438  {'title': 'DISPOSICIONES TRANSITORIAS\n', 'name...   \n439  {'title': 'DISPOSICIONES TRANSITORIAS\n', 'name...   \n\n                                   chapter                        section  \\\n0            {'title': None, 'name': None}  {'title': None, 'name': None}   \n1            {'title': None, 'name': None}  {'title': None, 'name': None}   \n2            {'title': None, 'name': None}  {'title': None, 'name': None}   \n3            {'title': None, 'name': None}  {'title': None, 'name': None}   \n4            {'title': None, 'name': None}  {'title': None, 'name': None}   \n..                                     ...                            ...   \n435  {'title': 'CAPITULO 8\n', 'name': '\n'}  {'title': None, 'name': None}   \n436  {'title': 'CAPITULO 8\n', 'name': '\n'}  {'title': None, 'name': None}   \n437  {'title': 'CAPITULO 8\n', 'name': '\n'}  {'title': None, 'name': None}   \n438  {'title': 'CAPITULO 8\n', 'name': '\n'}  {'title': None, 'name': None}   \n439  {'title': 'CAPITULO 8\n', 'name': '\n'}  {'title': None, 'name': None}   \n\n                              part  \\\n0    {'title': None, 'name': None}   \n1    {'title': None, 'name': None}   \n2    {'title': None, 'name': None}   \n3    {'title': None, 'name': None}   \n4    {'title': None, 'name': None}   \n..                             ...   \n435  {'title': None, 'name': None}   \n436  {'title': None, 'name': None}   \n437  {'title': None, 'name': None}   \n438  {'title': None, 'name': None}   \n439  {'title': None, 'name': None}   \n\n                                               article  \\\n0    {'name': 'Artículo 1.', 'content': ['Artículo ...   \n1    {'name': 'Artículo 2.', 'content': ['Artículo ...   \n2    {'name': 'Artículo 3.', 'content': ['Artículo ...   \n3    {'name': 'Artículo 4.', 'content': ['Artículo ...   \n4    {'name': 'Artículo 5.', 'content': ['Artículo ...   \n..                                                 ...   \n435  {'name': 'Artículo transitorio 56.', 'content'...   \n436  {'name': 'Artículo transitorio 57.', 'content'...   \n437  {'name': 'Artículo transitorio 58.', 'content'...   \n438  {'name': 'Artículo transitorio 59.', 'content'...   \n439  {'name': 'Artículo Transitorio.', 'content': [...   \n\n                                         dot_comma_sep  \n0    [Artículo 1., Colombia es un Estado social de ...  \n1    [Artículo 2., Son fines esenciales del Estado:...  \n2    [Artículo 3., La soberanía reside exclusivamen...  \n3    [Artículo 4., La Constitución es norma de norm...  \n4    [Artículo 5., El Estado reconoce, sin discrimi...  \n..                                                 ...  \n435  [Artículo transitorio 56., Mientras se expide ...  \n436  [Artículo transitorio 57., El Gobierno formará...  \n437  [Artículo transitorio 58., Autorizase al Gobie...  \n438  [Artículo transitorio 59., La presente constit...  \n439  [Artículo Transitorio., La Comisión especial c...  \n\n[440 rows x 10 columns]"
     },
     "execution_count": 10,
     "metadata": {},
     "output_type": "execute_result"
    }
   ],
   "source": [
    "root_folder = \"LegalSearcher/ReadFiles\"\n",
    "constitution_f = f'{root_folder}/constitucion-embedding.json'\n",
    "filepath = os.path.abspath(os.path.join('','..', '..', constitution_f))\n",
    "#import Dataset\n",
    "df_cons = pd.read_json(filepath)\n",
    "df_cons"
   ]
  },
  {
   "cell_type": "code",
   "execution_count": 3,
   "metadata": {},
   "outputs": [
    {
     "name": "stderr",
     "output_type": "stream",
     "text": [
      "/home/maverick/GitHub/.wslenv1/lib/python3.8/site-packages/pandas/core/frame.py:4379: SettingWithCopyWarning: \n",
      "A value is trying to be set on a copy of a slice from a DataFrame\n",
      "\n",
      "See the caveats in the documentation: https://pandas.pydata.org/pandas-docs/stable/user_guide/indexing.html#returning-a-view-versus-a-copy\n",
      "  return super().replace(\n",
      "<ipython-input-3-5d537814288a>:3: SettingWithCopyWarning: \n",
      "A value is trying to be set on a copy of a slice from a DataFrame.\n",
      "Try using .loc[row_indexer,col_indexer] = value instead\n",
      "\n",
      "See the caveats in the documentation: https://pandas.pydata.org/pandas-docs/stable/user_guide/indexing.html#returning-a-view-versus-a-copy\n",
      "  df_cons['dot_comma_sep'] = df_cons['dot_comma_sep'].apply(lambda x:x[1:])\n"
     ]
    },
    {
     "data": {
      "text/html": "<div>\n<style scoped>\n    .dataframe tbody tr th:only-of-type {\n        vertical-align: middle;\n    }\n\n    .dataframe tbody tr th {\n        vertical-align: top;\n    }\n\n    .dataframe thead th {\n        text-align: right;\n    }\n</style>\n<table border=\"1\" class=\"dataframe\">\n  <thead>\n    <tr style=\"text-align: right;\">\n      <th></th>\n      <th>id</th>\n      <th>dot_comma_sep</th>\n    </tr>\n  </thead>\n  <tbody>\n    <tr>\n      <th>0</th>\n      <td>constitucion00000100000001</td>\n      <td>[Colombia es un Estado social de derecho, orga...</td>\n    </tr>\n    <tr>\n      <th>1</th>\n      <td>constitucion00000100000002</td>\n      <td>[Son fines esenciales del Estado: servir a la ...</td>\n    </tr>\n    <tr>\n      <th>2</th>\n      <td>constitucion00000100000003</td>\n      <td>[La soberanía reside exclusivamente en el pueb...</td>\n    </tr>\n    <tr>\n      <th>3</th>\n      <td>constitucion00000100000004</td>\n      <td>[La Constitución es norma de normas., En todo ...</td>\n    </tr>\n    <tr>\n      <th>4</th>\n      <td>constitucion00000100000005</td>\n      <td>[El Estado reconoce, sin discriminación alguna...</td>\n    </tr>\n  </tbody>\n</table>\n</div>",
      "text/plain": "                           id  \\\n0  constitucion00000100000001   \n1  constitucion00000100000002   \n2  constitucion00000100000003   \n3  constitucion00000100000004   \n4  constitucion00000100000005   \n\n                                       dot_comma_sep  \n0  [Colombia es un Estado social de derecho, orga...  \n1  [Son fines esenciales del Estado: servir a la ...  \n2  [La soberanía reside exclusivamente en el pueb...  \n3  [La Constitución es norma de normas., En todo ...  \n4  [El Estado reconoce, sin discriminación alguna...  "
     },
     "execution_count": 3,
     "metadata": {},
     "output_type": "execute_result"
    }
   ],
   "source": [
    "df_cons=df_cons[['id','dot_comma_sep']]\n",
    "df_cons.replace(r'\\n','', regex=True,inplace=True) \n",
    "df_cons['dot_comma_sep'] = df_cons['dot_comma_sep'].apply(lambda x:x[1:])\n",
    "# df_cons.rename(columns={'dot_comma_sep':'dot_comma_sep'},inplace=True)\n",
    "df_cons.head()\n"
   ]
  },
  {
   "cell_type": "code",
   "execution_count": 4,
   "metadata": {},
   "outputs": [
    {
     "data": {
      "text/html": "<div>\n<style scoped>\n    .dataframe tbody tr th:only-of-type {\n        vertical-align: middle;\n    }\n\n    .dataframe tbody tr th {\n        vertical-align: top;\n    }\n\n    .dataframe thead th {\n        text-align: right;\n    }\n</style>\n<table border=\"1\" class=\"dataframe\">\n  <thead>\n    <tr style=\"text-align: right;\">\n      <th></th>\n      <th>id</th>\n      <th>dot_comma_sep</th>\n    </tr>\n  </thead>\n  <tbody>\n    <tr>\n      <th>0</th>\n      <td>prope00000100000001</td>\n      <td>[Artículo 1º., Dignidad humana., Los intervini...</td>\n    </tr>\n    <tr>\n      <th>1</th>\n      <td>prope00000100000002</td>\n      <td>[Artículo 2º., Libertad.,  Modificado por el a...</td>\n    </tr>\n    <tr>\n      <th>2</th>\n      <td>prope00000100000003</td>\n      <td>[Artículo 3º., Prelación de los tratados inter...</td>\n    </tr>\n    <tr>\n      <th>3</th>\n      <td>prope00000100000004</td>\n      <td>[Artículo 4º., Igualdad., Es obligación de los...</td>\n    </tr>\n    <tr>\n      <th>4</th>\n      <td>prope00000100000005</td>\n      <td>[Artículo 5º., Imparcialidad., En ejercicio de...</td>\n    </tr>\n    <tr>\n      <th>...</th>\n      <td>...</td>\n      <td>...</td>\n    </tr>\n    <tr>\n      <th>16282</th>\n      <td>trabajo00002301000654</td>\n      <td>[ARTICULO 486., SANCIONES Y PROCEDIMIENTO., Lo...</td>\n    </tr>\n    <tr>\n      <th>16283</th>\n      <td>trabajo00002301000655</td>\n      <td>[ARTICULO 487., FUNCIONARIOS DE INSTRUCCION., ...</td>\n    </tr>\n    <tr>\n      <th>16284</th>\n      <td>trabajo00002302000656</td>\n      <td>[ARTICULO 488., REGLA GENERAL., Las acciones c...</td>\n    </tr>\n    <tr>\n      <th>16285</th>\n      <td>trabajo00002302000657</td>\n      <td>[ARTICULO 489., INTERRUPCION DE LA PRESCRIPCIO...</td>\n    </tr>\n    <tr>\n      <th>16286</th>\n      <td>trabajo00002302000658</td>\n      <td>[ARTICULO 490., FECHA DE VIGENCIA., El present...</td>\n    </tr>\n  </tbody>\n</table>\n<p>16287 rows × 2 columns</p>\n</div>",
      "text/plain": "                          id  \\\n0        prope00000100000001   \n1        prope00000100000002   \n2        prope00000100000003   \n3        prope00000100000004   \n4        prope00000100000005   \n...                      ...   \n16282  trabajo00002301000654   \n16283  trabajo00002301000655   \n16284  trabajo00002302000656   \n16285  trabajo00002302000657   \n16286  trabajo00002302000658   \n\n                                           dot_comma_sep  \n0      [Artículo 1º., Dignidad humana., Los intervini...  \n1      [Artículo 2º., Libertad.,  Modificado por el a...  \n2      [Artículo 3º., Prelación de los tratados inter...  \n3      [Artículo 4º., Igualdad., Es obligación de los...  \n4      [Artículo 5º., Imparcialidad., En ejercicio de...  \n...                                                  ...  \n16282  [ARTICULO 486., SANCIONES Y PROCEDIMIENTO., Lo...  \n16283  [ARTICULO 487., FUNCIONARIOS DE INSTRUCCION., ...  \n16284  [ARTICULO 488., REGLA GENERAL., Las acciones c...  \n16285  [ARTICULO 489., INTERRUPCION DE LA PRESCRIPCIO...  \n16286  [ARTICULO 490., FECHA DE VIGENCIA., El present...  \n\n[16287 rows x 2 columns]"
     },
     "execution_count": 4,
     "metadata": {},
     "output_type": "execute_result"
    }
   ],
   "source": [
    "\n",
    "\n",
    "codes_folder = \"../ReadFiles/Embeddings\"\n",
    "codes_path = os.path.abspath(codes_folder)\n",
    "toLoad_entries = os.listdir(codes_path)\n",
    "df = 0\n",
    "total = len(toLoad_entries)\n",
    "\n",
    "main_df = None\n",
    "col_delimeter = ' = | = '\n",
    "for entry in toLoad_entries:\n",
    "    df += 1\n",
    "    # print(df, 'loading:', entry, end=col_delimeter)\n",
    "\n",
    "    entry_path = os.path.join(codes_folder, entry)\n",
    "    new_df = pd.read_json(entry_path)\n",
    "    # print('DF shape:', new_df.shape, end=col_delimeter)\n",
    "    new_df = new_df[['id','dot_comma_sep']]\n",
    "    \n",
    "    if df == 1:\n",
    "        main_df = new_df\n",
    "    else:\n",
    "        main_df = main_df.append(new_df, ignore_index=True)\n",
    "        # print('NEW DF shape:', main_df.shape)\n",
    "\n",
    "main_df"
   ]
  },
  {
   "cell_type": "code",
   "execution_count": 11,
   "metadata": {},
   "outputs": [
    {
     "data": {
      "text/html": "<div>\n<style scoped>\n    .dataframe tbody tr th:only-of-type {\n        vertical-align: middle;\n    }\n\n    .dataframe tbody tr th {\n        vertical-align: top;\n    }\n\n    .dataframe thead th {\n        text-align: right;\n    }\n</style>\n<table border=\"1\" class=\"dataframe\">\n  <thead>\n    <tr style=\"text-align: right;\">\n      <th></th>\n      <th>index</th>\n      <th>legal_source</th>\n      <th>id</th>\n      <th>book</th>\n      <th>headline</th>\n      <th>chapter</th>\n      <th>section</th>\n      <th>part</th>\n      <th>article</th>\n      <th>dot_comma_sep</th>\n      <th>embedds</th>\n    </tr>\n  </thead>\n  <tbody>\n    <tr>\n      <th>0</th>\n      <td>constitucion</td>\n      <td>CONSTITUCION POLITICA DE COLOMBIA\\n</td>\n      <td>constitucion00000100000001</td>\n      <td>{'title': None, 'name': None}</td>\n      <td>{'title': 'DISPOSICIONES TRANSITORIAS\n', 'name...</td>\n      <td>{'title': None, 'name': None}</td>\n      <td>{'title': None, 'name': None}</td>\n      <td>{'title': None, 'name': None}</td>\n      <td>{'name': 'Artículo 1.', 'content': ['Artículo ...</td>\n      <td>[Artículo 1., Colombia es un Estado social de ...</td>\n      <td>[0.004690078552812338, 0.07231230288743973, 0....</td>\n    </tr>\n    <tr>\n      <th>1</th>\n      <td>constitucion</td>\n      <td>CONSTITUCION POLITICA DE COLOMBIA\\n</td>\n      <td>constitucion00000100000002</td>\n      <td>{'title': None, 'name': None}</td>\n      <td>{'title': 'DISPOSICIONES TRANSITORIAS\n', 'name...</td>\n      <td>{'title': None, 'name': None}</td>\n      <td>{'title': None, 'name': None}</td>\n      <td>{'title': None, 'name': None}</td>\n      <td>{'name': 'Artículo 2.', 'content': ['Artículo ...</td>\n      <td>[Artículo 2., Son fines esenciales del Estado:...</td>\n      <td>[0.0040732030756771564, 0.09081056714057922, 0...</td>\n    </tr>\n    <tr>\n      <th>2</th>\n      <td>constitucion</td>\n      <td>CONSTITUCION POLITICA DE COLOMBIA\\n</td>\n      <td>constitucion00000100000003</td>\n      <td>{'title': None, 'name': None}</td>\n      <td>{'title': 'DISPOSICIONES TRANSITORIAS\n', 'name...</td>\n      <td>{'title': None, 'name': None}</td>\n      <td>{'title': None, 'name': None}</td>\n      <td>{'title': None, 'name': None}</td>\n      <td>{'name': 'Artículo 3.', 'content': ['Artículo ...</td>\n      <td>[Artículo 3., La soberanía reside exclusivamen...</td>\n      <td>[0.010173899121582508, 0.08467913419008255, 0....</td>\n    </tr>\n    <tr>\n      <th>3</th>\n      <td>constitucion</td>\n      <td>CONSTITUCION POLITICA DE COLOMBIA\\n</td>\n      <td>constitucion00000100000004</td>\n      <td>{'title': None, 'name': None}</td>\n      <td>{'title': 'DISPOSICIONES TRANSITORIAS\n', 'name...</td>\n      <td>{'title': None, 'name': None}</td>\n      <td>{'title': None, 'name': None}</td>\n      <td>{'title': None, 'name': None}</td>\n      <td>{'name': 'Artículo 4.', 'content': ['Artículo ...</td>\n      <td>[Artículo 4., La Constitución es norma de norm...</td>\n      <td>[0.004502664320170879, 0.09044172614812851, 0....</td>\n    </tr>\n    <tr>\n      <th>4</th>\n      <td>constitucion</td>\n      <td>CONSTITUCION POLITICA DE COLOMBIA\\n</td>\n      <td>constitucion00000100000005</td>\n      <td>{'title': None, 'name': None}</td>\n      <td>{'title': 'DISPOSICIONES TRANSITORIAS\n', 'name...</td>\n      <td>{'title': None, 'name': None}</td>\n      <td>{'title': None, 'name': None}</td>\n      <td>{'title': None, 'name': None}</td>\n      <td>{'name': 'Artículo 5.', 'content': ['Artículo ...</td>\n      <td>[Artículo 5., El Estado reconoce, sin discrimi...</td>\n      <td>[-0.03632644936442375, 0.058461349457502365, 0...</td>\n    </tr>\n  </tbody>\n</table>\n</div>",
      "text/plain": "          index                         legal_source  \\\n0  constitucion  CONSTITUCION POLITICA DE COLOMBIA\\n   \n1  constitucion  CONSTITUCION POLITICA DE COLOMBIA\\n   \n2  constitucion  CONSTITUCION POLITICA DE COLOMBIA\\n   \n3  constitucion  CONSTITUCION POLITICA DE COLOMBIA\\n   \n4  constitucion  CONSTITUCION POLITICA DE COLOMBIA\\n   \n\n                           id                           book  \\\n0  constitucion00000100000001  {'title': None, 'name': None}   \n1  constitucion00000100000002  {'title': None, 'name': None}   \n2  constitucion00000100000003  {'title': None, 'name': None}   \n3  constitucion00000100000004  {'title': None, 'name': None}   \n4  constitucion00000100000005  {'title': None, 'name': None}   \n\n                                            headline  \\\n0  {'title': 'DISPOSICIONES TRANSITORIAS\n', 'name...   \n1  {'title': 'DISPOSICIONES TRANSITORIAS\n', 'name...   \n2  {'title': 'DISPOSICIONES TRANSITORIAS\n', 'name...   \n3  {'title': 'DISPOSICIONES TRANSITORIAS\n', 'name...   \n4  {'title': 'DISPOSICIONES TRANSITORIAS\n', 'name...   \n\n                         chapter                        section  \\\n0  {'title': None, 'name': None}  {'title': None, 'name': None}   \n1  {'title': None, 'name': None}  {'title': None, 'name': None}   \n2  {'title': None, 'name': None}  {'title': None, 'name': None}   \n3  {'title': None, 'name': None}  {'title': None, 'name': None}   \n4  {'title': None, 'name': None}  {'title': None, 'name': None}   \n\n                            part  \\\n0  {'title': None, 'name': None}   \n1  {'title': None, 'name': None}   \n2  {'title': None, 'name': None}   \n3  {'title': None, 'name': None}   \n4  {'title': None, 'name': None}   \n\n                                             article  \\\n0  {'name': 'Artículo 1.', 'content': ['Artículo ...   \n1  {'name': 'Artículo 2.', 'content': ['Artículo ...   \n2  {'name': 'Artículo 3.', 'content': ['Artículo ...   \n3  {'name': 'Artículo 4.', 'content': ['Artículo ...   \n4  {'name': 'Artículo 5.', 'content': ['Artículo ...   \n\n                                       dot_comma_sep  \\\n0  [Artículo 1., Colombia es un Estado social de ...   \n1  [Artículo 2., Son fines esenciales del Estado:...   \n2  [Artículo 3., La soberanía reside exclusivamen...   \n3  [Artículo 4., La Constitución es norma de norm...   \n4  [Artículo 5., El Estado reconoce, sin discrimi...   \n\n                                             embedds  \n0  [0.004690078552812338, 0.07231230288743973, 0....  \n1  [0.0040732030756771564, 0.09081056714057922, 0...  \n2  [0.010173899121582508, 0.08467913419008255, 0....  \n3  [0.004502664320170879, 0.09044172614812851, 0....  \n4  [-0.03632644936442375, 0.058461349457502365, 0...  "
     },
     "execution_count": 11,
     "metadata": {},
     "output_type": "execute_result"
    }
   ],
   "source": [
    "###### Sentence Encoder for DataFrame\n",
    "df_cons['embedds'] = df_cons['dot_comma_sep'].apply(lambda x:embed_text(x))\n",
    "df_cons.head()"
   ]
  },
  {
   "cell_type": "code",
   "execution_count": 7,
   "metadata": {},
   "outputs": [
    {
     "data": {
      "text/html": "<div>\n<style scoped>\n    .dataframe tbody tr th:only-of-type {\n        vertical-align: middle;\n    }\n\n    .dataframe tbody tr th {\n        vertical-align: top;\n    }\n\n    .dataframe thead th {\n        text-align: right;\n    }\n</style>\n<table border=\"1\" class=\"dataframe\">\n  <thead>\n    <tr style=\"text-align: right;\">\n      <th></th>\n      <th>id</th>\n      <th>dot_comma_sep</th>\n      <th>embedds</th>\n    </tr>\n  </thead>\n  <tbody>\n    <tr>\n      <th>0</th>\n      <td>prope00000100000001</td>\n      <td>[Artículo 1º., Dignidad humana., Los intervini...</td>\n      <td>[0.029562022536993027, 0.06292273849248886, 0....</td>\n    </tr>\n    <tr>\n      <th>1</th>\n      <td>prope00000100000002</td>\n      <td>[Artículo 2º., Libertad.,  Modificado por el a...</td>\n      <td>[0.01172316912561655, 0.09270897507667542, 0.0...</td>\n    </tr>\n    <tr>\n      <th>2</th>\n      <td>prope00000100000003</td>\n      <td>[Artículo 3º., Prelación de los tratados inter...</td>\n      <td>[0.03222179412841797, 0.08490251004695892, 0.0...</td>\n    </tr>\n    <tr>\n      <th>3</th>\n      <td>prope00000100000004</td>\n      <td>[Artículo 4º., Igualdad., Es obligación de los...</td>\n      <td>[0.024402596056461334, 0.09127292782068253, 0....</td>\n    </tr>\n    <tr>\n      <th>4</th>\n      <td>prope00000100000005</td>\n      <td>[Artículo 5º., Imparcialidad., En ejercicio de...</td>\n      <td>[-0.012061411514878273, 0.05749593302607536, 0...</td>\n    </tr>\n  </tbody>\n</table>\n</div>",
      "text/plain": "                    id                                      dot_comma_sep  \\\n0  prope00000100000001  [Artículo 1º., Dignidad humana., Los intervini...   \n1  prope00000100000002  [Artículo 2º., Libertad.,  Modificado por el a...   \n2  prope00000100000003  [Artículo 3º., Prelación de los tratados inter...   \n3  prope00000100000004  [Artículo 4º., Igualdad., Es obligación de los...   \n4  prope00000100000005  [Artículo 5º., Imparcialidad., En ejercicio de...   \n\n                                             embedds  \n0  [0.029562022536993027, 0.06292273849248886, 0....  \n1  [0.01172316912561655, 0.09270897507667542, 0.0...  \n2  [0.03222179412841797, 0.08490251004695892, 0.0...  \n3  [0.024402596056461334, 0.09127292782068253, 0....  \n4  [-0.012061411514878273, 0.05749593302607536, 0...  "
     },
     "execution_count": 7,
     "metadata": {},
     "output_type": "execute_result"
    }
   ],
   "source": [
    "###### Sentence Encoder for DataFrame\n",
    "main_df['embedds'] = main_df['dot_comma_sep'].apply(lambda x:embed_text(x))\n",
    "main_df.head()\n",
    "# art1_res = embed(art1)"
   ]
  },
  {
   "cell_type": "code",
   "execution_count": 12,
   "metadata": {},
   "outputs": [
    {
     "data": {
      "text/html": "<div>\n<style scoped>\n    .dataframe tbody tr th:only-of-type {\n        vertical-align: middle;\n    }\n\n    .dataframe tbody tr th {\n        vertical-align: top;\n    }\n\n    .dataframe thead th {\n        text-align: right;\n    }\n</style>\n<table border=\"1\" class=\"dataframe\">\n  <thead>\n    <tr style=\"text-align: right;\">\n      <th></th>\n      <th>id</th>\n      <th>dot_comma_sep</th>\n      <th>embedds</th>\n      <th>index</th>\n      <th>legal_source</th>\n      <th>book</th>\n      <th>headline</th>\n      <th>chapter</th>\n      <th>section</th>\n      <th>part</th>\n      <th>article</th>\n    </tr>\n  </thead>\n  <tbody>\n    <tr>\n      <th>0</th>\n      <td>prope00000100000001</td>\n      <td>[Artículo 1º., Dignidad humana., Los intervini...</td>\n      <td>[0.029562022536993027, 0.06292273849248886, 0....</td>\n      <td>NaN</td>\n      <td>NaN</td>\n      <td>NaN</td>\n      <td>NaN</td>\n      <td>NaN</td>\n      <td>NaN</td>\n      <td>NaN</td>\n      <td>NaN</td>\n    </tr>\n    <tr>\n      <th>1</th>\n      <td>prope00000100000002</td>\n      <td>[Artículo 2º., Libertad.,  Modificado por el a...</td>\n      <td>[0.01172316912561655, 0.09270897507667542, 0.0...</td>\n      <td>NaN</td>\n      <td>NaN</td>\n      <td>NaN</td>\n      <td>NaN</td>\n      <td>NaN</td>\n      <td>NaN</td>\n      <td>NaN</td>\n      <td>NaN</td>\n    </tr>\n    <tr>\n      <th>2</th>\n      <td>prope00000100000003</td>\n      <td>[Artículo 3º., Prelación de los tratados inter...</td>\n      <td>[0.03222179412841797, 0.08490251004695892, 0.0...</td>\n      <td>NaN</td>\n      <td>NaN</td>\n      <td>NaN</td>\n      <td>NaN</td>\n      <td>NaN</td>\n      <td>NaN</td>\n      <td>NaN</td>\n      <td>NaN</td>\n    </tr>\n    <tr>\n      <th>3</th>\n      <td>prope00000100000004</td>\n      <td>[Artículo 4º., Igualdad., Es obligación de los...</td>\n      <td>[0.024402596056461334, 0.09127292782068253, 0....</td>\n      <td>NaN</td>\n      <td>NaN</td>\n      <td>NaN</td>\n      <td>NaN</td>\n      <td>NaN</td>\n      <td>NaN</td>\n      <td>NaN</td>\n      <td>NaN</td>\n    </tr>\n    <tr>\n      <th>4</th>\n      <td>prope00000100000005</td>\n      <td>[Artículo 5º., Imparcialidad., En ejercicio de...</td>\n      <td>[-0.012061411514878273, 0.05749593302607536, 0...</td>\n      <td>NaN</td>\n      <td>NaN</td>\n      <td>NaN</td>\n      <td>NaN</td>\n      <td>NaN</td>\n      <td>NaN</td>\n      <td>NaN</td>\n      <td>NaN</td>\n    </tr>\n    <tr>\n      <th>...</th>\n      <td>...</td>\n      <td>...</td>\n      <td>...</td>\n      <td>...</td>\n      <td>...</td>\n      <td>...</td>\n      <td>...</td>\n      <td>...</td>\n      <td>...</td>\n      <td>...</td>\n      <td>...</td>\n    </tr>\n    <tr>\n      <th>16722</th>\n      <td>constitucion00001408000436</td>\n      <td>[Artículo transitorio 56., Mientras se expide ...</td>\n      <td>[-0.0572219081223011, 0.007201745640486479, 0....</td>\n      <td>constitucion</td>\n      <td>CONSTITUCION POLITICA DE COLOMBIA\\n</td>\n      <td>{'title': None, 'name': None}</td>\n      <td>{'title': 'DISPOSICIONES TRANSITORIAS\n', 'name...</td>\n      <td>{'title': 'CAPITULO 8\n', 'name': '\n'}</td>\n      <td>{'title': None, 'name': None}</td>\n      <td>{'title': None, 'name': None}</td>\n      <td>{'name': 'Artículo transitorio 56.', 'content'...</td>\n    </tr>\n    <tr>\n      <th>16723</th>\n      <td>constitucion00001408000437</td>\n      <td>[Artículo transitorio 57., El Gobierno formará...</td>\n      <td>[-0.03703949972987175, 0.009493881836533546, 0...</td>\n      <td>constitucion</td>\n      <td>CONSTITUCION POLITICA DE COLOMBIA\\n</td>\n      <td>{'title': None, 'name': None}</td>\n      <td>{'title': 'DISPOSICIONES TRANSITORIAS\n', 'name...</td>\n      <td>{'title': 'CAPITULO 8\n', 'name': '\n'}</td>\n      <td>{'title': None, 'name': None}</td>\n      <td>{'title': None, 'name': None}</td>\n      <td>{'name': 'Artículo transitorio 57.', 'content'...</td>\n    </tr>\n    <tr>\n      <th>16724</th>\n      <td>constitucion00001408000438</td>\n      <td>[Artículo transitorio 58., Autorizase al Gobie...</td>\n      <td>[-0.056596074253320694, 0.023641904816031456, ...</td>\n      <td>constitucion</td>\n      <td>CONSTITUCION POLITICA DE COLOMBIA\\n</td>\n      <td>{'title': None, 'name': None}</td>\n      <td>{'title': 'DISPOSICIONES TRANSITORIAS\n', 'name...</td>\n      <td>{'title': 'CAPITULO 8\n', 'name': '\n'}</td>\n      <td>{'title': None, 'name': None}</td>\n      <td>{'title': None, 'name': None}</td>\n      <td>{'name': 'Artículo transitorio 58.', 'content'...</td>\n    </tr>\n    <tr>\n      <th>16725</th>\n      <td>constitucion00001408000439</td>\n      <td>[Artículo transitorio 59., La presente constit...</td>\n      <td>[-0.05907650291919708, 0.02931896038353443, 0....</td>\n      <td>constitucion</td>\n      <td>CONSTITUCION POLITICA DE COLOMBIA\\n</td>\n      <td>{'title': None, 'name': None}</td>\n      <td>{'title': 'DISPOSICIONES TRANSITORIAS\n', 'name...</td>\n      <td>{'title': 'CAPITULO 8\n', 'name': '\n'}</td>\n      <td>{'title': None, 'name': None}</td>\n      <td>{'title': None, 'name': None}</td>\n      <td>{'name': 'Artículo transitorio 59.', 'content'...</td>\n    </tr>\n    <tr>\n      <th>16726</th>\n      <td>constitucion00001408000440</td>\n      <td>[Artículo Transitorio., La Comisión especial c...</td>\n      <td>[-0.03677185997366905, 0.052644677460193634, 0...</td>\n      <td>constitucion</td>\n      <td>CONSTITUCION POLITICA DE COLOMBIA\\n</td>\n      <td>{'title': None, 'name': None}</td>\n      <td>{'title': 'DISPOSICIONES TRANSITORIAS\n', 'name...</td>\n      <td>{'title': 'CAPITULO 8\n', 'name': '\n'}</td>\n      <td>{'title': None, 'name': None}</td>\n      <td>{'title': None, 'name': None}</td>\n      <td>{'name': 'Artículo Transitorio.', 'content': [...</td>\n    </tr>\n  </tbody>\n</table>\n<p>16727 rows × 11 columns</p>\n</div>",
      "text/plain": "                               id  \\\n0             prope00000100000001   \n1             prope00000100000002   \n2             prope00000100000003   \n3             prope00000100000004   \n4             prope00000100000005   \n...                           ...   \n16722  constitucion00001408000436   \n16723  constitucion00001408000437   \n16724  constitucion00001408000438   \n16725  constitucion00001408000439   \n16726  constitucion00001408000440   \n\n                                           dot_comma_sep  \\\n0      [Artículo 1º., Dignidad humana., Los intervini...   \n1      [Artículo 2º., Libertad.,  Modificado por el a...   \n2      [Artículo 3º., Prelación de los tratados inter...   \n3      [Artículo 4º., Igualdad., Es obligación de los...   \n4      [Artículo 5º., Imparcialidad., En ejercicio de...   \n...                                                  ...   \n16722  [Artículo transitorio 56., Mientras se expide ...   \n16723  [Artículo transitorio 57., El Gobierno formará...   \n16724  [Artículo transitorio 58., Autorizase al Gobie...   \n16725  [Artículo transitorio 59., La presente constit...   \n16726  [Artículo Transitorio., La Comisión especial c...   \n\n                                                 embedds         index  \\\n0      [0.029562022536993027, 0.06292273849248886, 0....           NaN   \n1      [0.01172316912561655, 0.09270897507667542, 0.0...           NaN   \n2      [0.03222179412841797, 0.08490251004695892, 0.0...           NaN   \n3      [0.024402596056461334, 0.09127292782068253, 0....           NaN   \n4      [-0.012061411514878273, 0.05749593302607536, 0...           NaN   \n...                                                  ...           ...   \n16722  [-0.0572219081223011, 0.007201745640486479, 0....  constitucion   \n16723  [-0.03703949972987175, 0.009493881836533546, 0...  constitucion   \n16724  [-0.056596074253320694, 0.023641904816031456, ...  constitucion   \n16725  [-0.05907650291919708, 0.02931896038353443, 0....  constitucion   \n16726  [-0.03677185997366905, 0.052644677460193634, 0...  constitucion   \n\n                              legal_source                           book  \\\n0                                      NaN                            NaN   \n1                                      NaN                            NaN   \n2                                      NaN                            NaN   \n3                                      NaN                            NaN   \n4                                      NaN                            NaN   \n...                                    ...                            ...   \n16722  CONSTITUCION POLITICA DE COLOMBIA\\n  {'title': None, 'name': None}   \n16723  CONSTITUCION POLITICA DE COLOMBIA\\n  {'title': None, 'name': None}   \n16724  CONSTITUCION POLITICA DE COLOMBIA\\n  {'title': None, 'name': None}   \n16725  CONSTITUCION POLITICA DE COLOMBIA\\n  {'title': None, 'name': None}   \n16726  CONSTITUCION POLITICA DE COLOMBIA\\n  {'title': None, 'name': None}   \n\n                                                headline  \\\n0                                                    NaN   \n1                                                    NaN   \n2                                                    NaN   \n3                                                    NaN   \n4                                                    NaN   \n...                                                  ...   \n16722  {'title': 'DISPOSICIONES TRANSITORIAS\n', 'name...   \n16723  {'title': 'DISPOSICIONES TRANSITORIAS\n', 'name...   \n16724  {'title': 'DISPOSICIONES TRANSITORIAS\n', 'name...   \n16725  {'title': 'DISPOSICIONES TRANSITORIAS\n', 'name...   \n16726  {'title': 'DISPOSICIONES TRANSITORIAS\n', 'name...   \n\n                                     chapter                        section  \\\n0                                        NaN                            NaN   \n1                                        NaN                            NaN   \n2                                        NaN                            NaN   \n3                                        NaN                            NaN   \n4                                        NaN                            NaN   \n...                                      ...                            ...   \n16722  {'title': 'CAPITULO 8\n', 'name': '\n'}  {'title': None, 'name': None}   \n16723  {'title': 'CAPITULO 8\n', 'name': '\n'}  {'title': None, 'name': None}   \n16724  {'title': 'CAPITULO 8\n', 'name': '\n'}  {'title': None, 'name': None}   \n16725  {'title': 'CAPITULO 8\n', 'name': '\n'}  {'title': None, 'name': None}   \n16726  {'title': 'CAPITULO 8\n', 'name': '\n'}  {'title': None, 'name': None}   \n\n                                part  \\\n0                                NaN   \n1                                NaN   \n2                                NaN   \n3                                NaN   \n4                                NaN   \n...                              ...   \n16722  {'title': None, 'name': None}   \n16723  {'title': None, 'name': None}   \n16724  {'title': None, 'name': None}   \n16725  {'title': None, 'name': None}   \n16726  {'title': None, 'name': None}   \n\n                                                 article  \n0                                                    NaN  \n1                                                    NaN  \n2                                                    NaN  \n3                                                    NaN  \n4                                                    NaN  \n...                                                  ...  \n16722  {'name': 'Artículo transitorio 56.', 'content'...  \n16723  {'name': 'Artículo transitorio 57.', 'content'...  \n16724  {'name': 'Artículo transitorio 58.', 'content'...  \n16725  {'name': 'Artículo transitorio 59.', 'content'...  \n16726  {'name': 'Artículo Transitorio.', 'content': [...  \n\n[16727 rows x 11 columns]"
     },
     "execution_count": 12,
     "metadata": {},
     "output_type": "execute_result"
    }
   ],
   "source": [
    "main_df = main_df.append(df_cons, ignore_index=True)\n",
    "main_df"
   ]
  },
  {
   "cell_type": "code",
   "execution_count": 17,
   "metadata": {},
   "outputs": [],
   "source": [
    "main_df.drop(['dot_comma_sep','index','legal_source','book','headline','chapter','section',\t'part',\t'article'],axis=1,inplace=True)"
   ]
  },
  {
   "cell_type": "code",
   "execution_count": null,
   "metadata": {},
   "outputs": [],
   "source": [
    "query0 = embed_text(['Colombia es un Estado social de derecho, organizado en forma de República unitaria, descentralizada, con autonomía de sus entidades territoriales, democrática, participativa y pluralista, fundada en el respeto de la dignidad humana, en el trabajo y la solidaridad de las personas que la integran y en la prevalencia del interés general'])\n",
    "query1 = embed_text(['organizacion de colombia'])\n",
    "query2 = embed_text(['Fines esenciales del estado'])\n",
    "query3 = embed_text(['Representantes del pueblo'])\n",
    "query4 = embed_text(['derechos humanos'])\n",
    "query5 = embed_text(['tratados y convenios'])\n",
    "query6 = embed_text(['Lorem ipsum dolor sit amet'])\n",
    "query7 = embed_text(['organos del poder publico'])\n",
    "query8 = embed_text(['Propiedad Intelectual'])\n",
    "query9 = embed_text(['cuidado del medio ambiente'])\n",
    "query10 = embed_text(['Ley de 1992'])\n",
    "query11 = embed_text(['pizza'])"
   ]
  },
  {
   "cell_type": "code",
   "execution_count": null,
   "metadata": {},
   "outputs": [],
   "source": [
    "# Cosine Similarity Function\n",
    "def similarity(A,B):\n",
    "    cos_sim = np.dot(A,B)/(np.linalg.norm(A)*np.linalg.norm(B))+1\n",
    "    return cos_sim"
   ]
  },
  {
   "cell_type": "code",
   "execution_count": null,
   "metadata": {},
   "outputs": [],
   "source": [
    "# Finding the most similar\n",
    "B = query5\n",
    "count = 0\n",
    "res = []\n",
    "for index, row in df.iterrows():\n",
    "    cos_sim = similarity(row['embedds'],B)\n",
    "    if  cos_sim > count:\n",
    "        count = cos_sim\n",
    "        res = [index, row['article_list'],count]\n",
    "    elif count < 1.2:\n",
    "        res = \"Sorry parce we Couldn't find anything about that in the Constitution.\"\n",
    "    \n",
    "# print(f'Query ingresada: {B}')    \n",
    "print(res)"
   ]
  },
  {
   "cell_type": "code",
   "execution_count": 20,
   "metadata": {},
   "outputs": [],
   "source": [
    "from fastparquet import write \n",
    "write('Cons_codes.parq', main_df)"
   ]
  },
  {
   "cell_type": "code",
   "execution_count": null,
   "metadata": {},
   "outputs": [],
   "source": []
  }
 ],
 "metadata": {
  "kernelspec": {
   "display_name": "Python 3",
   "language": "python",
   "name": "python3"
  },
  "language_info": {
   "codemirror_mode": {
    "name": "ipython",
    "version": 3
   },
   "file_extension": ".py",
   "mimetype": "text/x-python",
   "name": "python",
   "nbconvert_exporter": "python",
   "pygments_lexer": "ipython3",
   "version": "3.8.5"
  },
  "metadata": {
   "interpreter": {
    "hash": "fcbb1ef9f507839a1a8deab4eeab6ce456c0aa3e9723d1242394540b18e281aa"
   }
  }
 },
 "nbformat": 4,
 "nbformat_minor": 4
}