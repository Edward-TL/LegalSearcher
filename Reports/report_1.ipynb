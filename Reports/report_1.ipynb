{
 "cells": [
  {
   "cell_type": "markdown",
   "metadata": {},
   "source": [
    "# Colombian Constitution EDA.\n",
    "\n",
    "Brief resume about the methodology and the results that we got."
   ]
  },
  {
   "cell_type": "markdown",
   "metadata": {},
   "source": [
    "## About the Document\n",
    "\n",
    "Little research about the context of the document."
   ]
  },
  {
   "cell_type": "markdown",
   "metadata": {},
   "source": [
    "## DS Pipeline\n",
    "\n"
   ]
  },
  {
   "cell_type": "markdown",
   "metadata": {},
   "source": [
    "## Document Data Model\n",
    "\n",
    "PowerPoint graph, meanwhile we can use the hierarchy of the articles dictionary\n",
    "\n",
    "```\n",
    "hierarchy = {\n",
    "    'TITULO' : 'h1',\n",
    "    'DISPOSICIONES' : 'h1',\n",
    "    'CAPITULO' : 'h2',\n",
    "    'ARTÍCULO' : 'p'\n",
    "\n",
    "}\n",
    "```"
   ]
  },
  {
   "cell_type": "markdown",
   "metadata": {},
   "source": [
    "## EDA"
   ]
  },
  {
   "cell_type": "markdown",
   "metadata": {},
   "source": [
    "### 1) Labels and quantity\n"
   ]
  },
  {
   "cell_type": "code",
   "execution_count": 43,
   "metadata": {},
   "outputs": [],
   "source": [
    "import numpy as np\n",
    "import pandas as pd\n",
    "import numpy as np\n",
    "import pandas as pd\n",
    "# For visualizations\n",
    "import matplotlib.pyplot as plt\n",
    "# For regular expressions\n",
    "import re\n",
    "# For handling string\n",
    "import string\n",
    "# For performing mathematical operations\n",
    "import math\n",
    "\n",
    "# Importing dataset"
   ]
  },
  {
   "cell_type": "code",
   "execution_count": 44,
   "metadata": {},
   "outputs": [],
   "source": [
    "#import Dataset\n",
    "df = pd.read_json('../constitucion_col_dict.json')"
   ]
  },
  {
   "cell_type": "code",
   "execution_count": 45,
   "metadata": {},
   "outputs": [
    {
     "name": "stdout",
     "output_type": "stream",
     "text": [
      "Shape of data=> (439, 3)\n"
     ]
    },
    {
     "data": {
      "text/html": "<div>\n<style scoped>\n    .dataframe tbody tr th:only-of-type {\n        vertical-align: middle;\n    }\n\n    .dataframe tbody tr th {\n        vertical-align: top;\n    }\n\n    .dataframe thead th {\n        text-align: right;\n    }\n</style>\n<table border=\"1\" class=\"dataframe\">\n  <thead>\n    <tr style=\"text-align: right;\">\n      <th></th>\n      <th>h1</th>\n      <th>h2</th>\n      <th>article</th>\n    </tr>\n  </thead>\n  <tbody>\n    <tr>\n      <th>0</th>\n      <td>{'head': 'TITULO I\n', 'name': 'DE LOS PRINCIPI...</td>\n      <td>{'head': None, 'name': None}</td>\n      <td>{'name': 'Artículo 1', 'content': ['Artículo 1...</td>\n    </tr>\n    <tr>\n      <th>1</th>\n      <td>{'head': 'TITULO I\n', 'name': 'DE LOS PRINCIPI...</td>\n      <td>{'head': None, 'name': None}</td>\n      <td>{'name': 'Artículo 2', 'content': ['Artículo 2...</td>\n    </tr>\n    <tr>\n      <th>2</th>\n      <td>{'head': 'TITULO I\n', 'name': 'DE LOS PRINCIPI...</td>\n      <td>{'head': None, 'name': None}</td>\n      <td>{'name': 'Artículo 3', 'content': ['Artículo 3...</td>\n    </tr>\n    <tr>\n      <th>3</th>\n      <td>{'head': 'TITULO I\n', 'name': 'DE LOS PRINCIPI...</td>\n      <td>{'head': None, 'name': None}</td>\n      <td>{'name': 'Artículo 4', 'content': ['Artículo 4...</td>\n    </tr>\n    <tr>\n      <th>4</th>\n      <td>{'head': 'TITULO I\n', 'name': 'DE LOS PRINCIPI...</td>\n      <td>{'head': None, 'name': None}</td>\n      <td>{'name': 'Artículo 5', 'content': ['Artículo 5...</td>\n    </tr>\n  </tbody>\n</table>\n</div>",
      "text/plain": "                                                  h1  \\\n0  {'head': 'TITULO I\n', 'name': 'DE LOS PRINCIPI...   \n1  {'head': 'TITULO I\n', 'name': 'DE LOS PRINCIPI...   \n2  {'head': 'TITULO I\n', 'name': 'DE LOS PRINCIPI...   \n3  {'head': 'TITULO I\n', 'name': 'DE LOS PRINCIPI...   \n4  {'head': 'TITULO I\n', 'name': 'DE LOS PRINCIPI...   \n\n                             h2  \\\n0  {'head': None, 'name': None}   \n1  {'head': None, 'name': None}   \n2  {'head': None, 'name': None}   \n3  {'head': None, 'name': None}   \n4  {'head': None, 'name': None}   \n\n                                             article  \n0  {'name': 'Artículo 1', 'content': ['Artículo 1...  \n1  {'name': 'Artículo 2', 'content': ['Artículo 2...  \n2  {'name': 'Artículo 3', 'content': ['Artículo 3...  \n3  {'name': 'Artículo 4', 'content': ['Artículo 4...  \n4  {'name': 'Artículo 5', 'content': ['Artículo 5...  "
     },
     "execution_count": 45,
     "metadata": {},
     "output_type": "execute_result"
    }
   ],
   "source": [
    "print(\"Shape of data=>\",df.shape)\n",
    "df.head(5)"
   ]
  },
  {
   "cell_type": "code",
   "execution_count": 46,
   "metadata": {},
   "outputs": [
    {
     "data": {
      "text/plain": "h1         0\nh2         0\narticle    0\ndtype: int64"
     },
     "execution_count": 46,
     "metadata": {},
     "output_type": "execute_result"
    }
   ],
   "source": [
    "df.isnull().sum()"
   ]
  },
  {
   "cell_type": "code",
   "execution_count": 67,
   "metadata": {},
   "outputs": [],
   "source": [
    "h1=df['h1'].apply(pd.Series)\n",
    "h1.rename(columns={\"head\": \"Titulos\",\"name\":\"NombreTitulo\"},inplace=True)\n",
    "h2=df['h2'].apply(pd.Series)\n",
    "h2.rename(columns={\"head\": \"Capitulos\",\"name\":\"NombreCapitulo\"},inplace=True)\n",
    "article=df['article'].apply(pd.Series)\n",
    "article.rename(columns={\"name\": \"Articulos\",\"content\":\"Contenido\"},inplace=True)"
   ]
  },
  {
   "cell_type": "code",
   "execution_count": 73,
   "metadata": {},
   "outputs": [
    {
     "name": "stdout",
     "output_type": "stream",
     "text": [
      "Shape of data=> (439, 2)\n",
      "Shape of data=> (439, 2)\n",
      "Shape of data=> (439, 2)\n"
     ]
    }
   ],
   "source": [
    "print(\"Shape of data=>\",h1.shape)\n",
    "print(\"Shape of data=>\",h2.shape)\n",
    "print(\"Shape of data=>\",article.shape)"
   ]
  },
  {
   "cell_type": "code",
   "execution_count": 93,
   "metadata": {},
   "outputs": [],
   "source": [
    "frames = [h1, h2, article]\n",
    "df=pd.concat(frames, axis=1)\n",
    "df.replace(r'\\n',' ', regex=True,inplace=True) \n",
    "df['Contenido'] = df['Contenido'].str.join(',')"
   ]
  },
  {
   "cell_type": "code",
   "execution_count": 94,
   "metadata": {},
   "outputs": [
    {
     "data": {
      "text/html": "<div>\n<style scoped>\n    .dataframe tbody tr th:only-of-type {\n        vertical-align: middle;\n    }\n\n    .dataframe tbody tr th {\n        vertical-align: top;\n    }\n\n    .dataframe thead th {\n        text-align: right;\n    }\n</style>\n<table border=\"1\" class=\"dataframe\">\n  <thead>\n    <tr style=\"text-align: right;\">\n      <th></th>\n      <th>Titulos</th>\n      <th>NombreTitulo</th>\n      <th>Capitulos</th>\n      <th>NombreCapitulo</th>\n      <th>Articulos</th>\n      <th>Contenido</th>\n    </tr>\n  </thead>\n  <tbody>\n    <tr>\n      <th>0</th>\n      <td>TITULO I</td>\n      <td>DE LOS PRINCIPIOS FUNDAMENTALES</td>\n      <td>None</td>\n      <td>None</td>\n      <td>Artículo 1</td>\n      <td>Artículo 1. Colombia es un Estado social de de...</td>\n    </tr>\n    <tr>\n      <th>1</th>\n      <td>TITULO I</td>\n      <td>DE LOS PRINCIPIOS FUNDAMENTALES</td>\n      <td>None</td>\n      <td>None</td>\n      <td>Artículo 2</td>\n      <td>Artículo 2. Son fines esenciales del Estado: s...</td>\n    </tr>\n    <tr>\n      <th>2</th>\n      <td>TITULO I</td>\n      <td>DE LOS PRINCIPIOS FUNDAMENTALES</td>\n      <td>None</td>\n      <td>None</td>\n      <td>Artículo 3</td>\n      <td>Artículo 3. La soberanía reside exclusivamente...</td>\n    </tr>\n    <tr>\n      <th>3</th>\n      <td>TITULO I</td>\n      <td>DE LOS PRINCIPIOS FUNDAMENTALES</td>\n      <td>None</td>\n      <td>None</td>\n      <td>Artículo 4</td>\n      <td>Artículo 4. La Constitución es norma de normas...</td>\n    </tr>\n    <tr>\n      <th>4</th>\n      <td>TITULO I</td>\n      <td>DE LOS PRINCIPIOS FUNDAMENTALES</td>\n      <td>None</td>\n      <td>None</td>\n      <td>Artículo 5</td>\n      <td>Artículo 5. El Estado reconoce, sin discrimina...</td>\n    </tr>\n    <tr>\n      <th>5</th>\n      <td>TITULO I</td>\n      <td>DE LOS PRINCIPIOS FUNDAMENTALES</td>\n      <td>None</td>\n      <td>None</td>\n      <td>Artículo 6</td>\n      <td>Artículo 6. Los particulares sólo son responsa...</td>\n    </tr>\n    <tr>\n      <th>6</th>\n      <td>TITULO I</td>\n      <td>DE LOS PRINCIPIOS FUNDAMENTALES</td>\n      <td>None</td>\n      <td>None</td>\n      <td>Artículo 7</td>\n      <td>Artículo 7. El Estado reconoce y protege la di...</td>\n    </tr>\n    <tr>\n      <th>7</th>\n      <td>TITULO I</td>\n      <td>DE LOS PRINCIPIOS FUNDAMENTALES</td>\n      <td>None</td>\n      <td>None</td>\n      <td>Artículo 8</td>\n      <td>Artículo 8. Es obligación del Estado y de las ...</td>\n    </tr>\n    <tr>\n      <th>8</th>\n      <td>TITULO I</td>\n      <td>DE LOS PRINCIPIOS FUNDAMENTALES</td>\n      <td>None</td>\n      <td>None</td>\n      <td>Artículo 9</td>\n      <td>Artículo 9. Las relaciones exteriores del Esta...</td>\n    </tr>\n    <tr>\n      <th>9</th>\n      <td>TITULO I</td>\n      <td>DE LOS PRINCIPIOS FUNDAMENTALES</td>\n      <td>None</td>\n      <td>None</td>\n      <td>Artículo 10</td>\n      <td>Artículo 10. El castellano es el idioma oficia...</td>\n    </tr>\n    <tr>\n      <th>10</th>\n      <td>TITULO II</td>\n      <td>DE LOS DERECHOS, LAS GARANTIAS Y LOS DEBERES</td>\n      <td>CAPITULO 1</td>\n      <td>DE LOS DERECHOS FUNDAMENTALES</td>\n      <td>Artículo 11</td>\n      <td>Artículo 11. El derecho a la vida es inviolabl...</td>\n    </tr>\n    <tr>\n      <th>11</th>\n      <td>TITULO II</td>\n      <td>DE LOS DERECHOS, LAS GARANTIAS Y LOS DEBERES</td>\n      <td>CAPITULO 1</td>\n      <td>DE LOS DERECHOS FUNDAMENTALES</td>\n      <td>Artículo 12</td>\n      <td>Artículo 12. Nadie será sometido a desaparició...</td>\n    </tr>\n    <tr>\n      <th>12</th>\n      <td>TITULO II</td>\n      <td>DE LOS DERECHOS, LAS GARANTIAS Y LOS DEBERES</td>\n      <td>CAPITULO 1</td>\n      <td>DE LOS DERECHOS FUNDAMENTALES</td>\n      <td>Artículo 13</td>\n      <td>Artículo 13. Todas las personas nacen libres e...</td>\n    </tr>\n    <tr>\n      <th>13</th>\n      <td>TITULO II</td>\n      <td>DE LOS DERECHOS, LAS GARANTIAS Y LOS DEBERES</td>\n      <td>CAPITULO 1</td>\n      <td>DE LOS DERECHOS FUNDAMENTALES</td>\n      <td>Artículo 14</td>\n      <td>Artículo 14. Toda persona tiene derecho al rec...</td>\n    </tr>\n    <tr>\n      <th>14</th>\n      <td>TITULO II</td>\n      <td>DE LOS DERECHOS, LAS GARANTIAS Y LOS DEBERES</td>\n      <td>CAPITULO 1</td>\n      <td>DE LOS DERECHOS FUNDAMENTALES</td>\n      <td>Artículo 15</td>\n      <td>Artículo 15. Todas las personas tienen derecho...</td>\n    </tr>\n  </tbody>\n</table>\n</div>",
      "text/plain": "       Titulos                                   NombreTitulo    Capitulos  \\\n0    TITULO I                DE LOS PRINCIPIOS FUNDAMENTALES          None   \n1    TITULO I                DE LOS PRINCIPIOS FUNDAMENTALES          None   \n2    TITULO I                DE LOS PRINCIPIOS FUNDAMENTALES          None   \n3    TITULO I                DE LOS PRINCIPIOS FUNDAMENTALES          None   \n4    TITULO I                DE LOS PRINCIPIOS FUNDAMENTALES          None   \n5    TITULO I                DE LOS PRINCIPIOS FUNDAMENTALES          None   \n6    TITULO I                DE LOS PRINCIPIOS FUNDAMENTALES          None   \n7    TITULO I                DE LOS PRINCIPIOS FUNDAMENTALES          None   \n8    TITULO I                DE LOS PRINCIPIOS FUNDAMENTALES          None   \n9    TITULO I                DE LOS PRINCIPIOS FUNDAMENTALES          None   \n10  TITULO II   DE LOS DERECHOS, LAS GARANTIAS Y LOS DEBERES   CAPITULO 1    \n11  TITULO II   DE LOS DERECHOS, LAS GARANTIAS Y LOS DEBERES   CAPITULO 1    \n12  TITULO II   DE LOS DERECHOS, LAS GARANTIAS Y LOS DEBERES   CAPITULO 1    \n13  TITULO II   DE LOS DERECHOS, LAS GARANTIAS Y LOS DEBERES   CAPITULO 1    \n14  TITULO II   DE LOS DERECHOS, LAS GARANTIAS Y LOS DEBERES   CAPITULO 1    \n\n                    NombreCapitulo    Articulos  \\\n0                             None   Artículo 1   \n1                             None   Artículo 2   \n2                             None   Artículo 3   \n3                             None   Artículo 4   \n4                             None   Artículo 5   \n5                             None   Artículo 6   \n6                             None   Artículo 7   \n7                             None   Artículo 8   \n8                             None   Artículo 9   \n9                             None  Artículo 10   \n10  DE LOS DERECHOS FUNDAMENTALES   Artículo 11   \n11  DE LOS DERECHOS FUNDAMENTALES   Artículo 12   \n12  DE LOS DERECHOS FUNDAMENTALES   Artículo 13   \n13  DE LOS DERECHOS FUNDAMENTALES   Artículo 14   \n14  DE LOS DERECHOS FUNDAMENTALES   Artículo 15   \n\n                                            Contenido  \n0   Artículo 1. Colombia es un Estado social de de...  \n1   Artículo 2. Son fines esenciales del Estado: s...  \n2   Artículo 3. La soberanía reside exclusivamente...  \n3   Artículo 4. La Constitución es norma de normas...  \n4   Artículo 5. El Estado reconoce, sin discrimina...  \n5   Artículo 6. Los particulares sólo son responsa...  \n6   Artículo 7. El Estado reconoce y protege la di...  \n7   Artículo 8. Es obligación del Estado y de las ...  \n8   Artículo 9. Las relaciones exteriores del Esta...  \n9   Artículo 10. El castellano es el idioma oficia...  \n10  Artículo 11. El derecho a la vida es inviolabl...  \n11  Artículo 12. Nadie será sometido a desaparició...  \n12  Artículo 13. Todas las personas nacen libres e...  \n13  Artículo 14. Toda persona tiene derecho al rec...  \n14  Artículo 15. Todas las personas tienen derecho...  "
     },
     "execution_count": 94,
     "metadata": {},
     "output_type": "execute_result"
    }
   ],
   "source": [
    "df.head(15)"
   ]
  },
  {
   "cell_type": "code",
   "execution_count": 95,
   "metadata": {},
   "outputs": [
    {
     "name": "stdout",
     "output_type": "stream",
     "text": [
      "Shape of data=> (439, 6)\n"
     ]
    }
   ],
   "source": [
    "print(\"Shape of data=>\",df.shape)"
   ]
  },
  {
   "cell_type": "code",
   "execution_count": 105,
   "metadata": {},
   "outputs": [],
   "source": [
    "df.set_index(['Titulos','Capitulos','Articulos'],inplace=True)\n",
    "df.sort_index(inplace=True)"
   ]
  },
  {
   "cell_type": "code",
   "execution_count": 113,
   "metadata": {},
   "outputs": [
    {
     "data": {
      "text/html": "<div>\n<style scoped>\n    .dataframe tbody tr th:only-of-type {\n        vertical-align: middle;\n    }\n\n    .dataframe tbody tr th {\n        vertical-align: top;\n    }\n\n    .dataframe thead th {\n        text-align: right;\n    }\n</style>\n<table border=\"1\" class=\"dataframe\">\n  <thead>\n    <tr style=\"text-align: right;\">\n      <th></th>\n      <th></th>\n      <th></th>\n      <th>NombreTitulo</th>\n      <th>NombreCapitulo</th>\n      <th>Contenido</th>\n    </tr>\n    <tr>\n      <th>Titulos</th>\n      <th>Capitulos</th>\n      <th>Articulos</th>\n      <th></th>\n      <th></th>\n      <th></th>\n    </tr>\n  </thead>\n  <tbody>\n    <tr>\n      <th rowspan=\"20\" valign=\"top\">DISPOSICIONES TRANSITORIAS</th>\n      <th rowspan=\"18\" valign=\"top\">CAPITULO 1</th>\n      <th>Artículo transitorio 1</th>\n      <td>None</td>\n      <td>None</td>\n      <td>Artículo transitorio 1. Convócase a elecciones...</td>\n    </tr>\n    <tr>\n      <th>Artículo transitorio 10</th>\n      <td>None</td>\n      <td>None</td>\n      <td>Artículo transitorio 10. Los decretos que expi...</td>\n    </tr>\n    <tr>\n      <th>Artículo transitorio 11</th>\n      <td>None</td>\n      <td>None</td>\n      <td>Artículo transitorio 11. Las facultades extrao...</td>\n    </tr>\n    <tr>\n      <th>Artículo transitorio 12</th>\n      <td>None</td>\n      <td>None</td>\n      <td>Artículo transitorio 12. Con el fin de facilit...</td>\n    </tr>\n    <tr>\n      <th>Artículo transitorio 13</th>\n      <td>None</td>\n      <td>None</td>\n      <td>Artículo transitorio 13. Dentro de los tres añ...</td>\n    </tr>\n    <tr>\n      <th>Artículo transitorio 14</th>\n      <td>None</td>\n      <td>None</td>\n      <td>Artículo transitorio 14. Dentro de la legislat...</td>\n    </tr>\n    <tr>\n      <th>Artículo transitorio 15</th>\n      <td>None</td>\n      <td>None</td>\n      <td>Artículo transitorio 15. La primera elección d...</td>\n    </tr>\n    <tr>\n      <th>Artículo transitorio 16</th>\n      <td>None</td>\n      <td>None</td>\n      <td>Artículo transitorio 16. Salvo los casos que s...</td>\n    </tr>\n    <tr>\n      <th>Artículo transitorio 17</th>\n      <td>None</td>\n      <td>None</td>\n      <td>Artículo transitorio 17. La primera elección p...</td>\n    </tr>\n    <tr>\n      <th>Artículo transitorio 18</th>\n      <td>None</td>\n      <td>None</td>\n      <td>Artículo transitorio 18. Mientras la ley estab...</td>\n    </tr>\n    <tr>\n      <th>Artículo transitorio 2</th>\n      <td>None</td>\n      <td>None</td>\n      <td>Artículo transitorio 2. No podrán ser candidat...</td>\n    </tr>\n    <tr>\n      <th>Artículo transitorio 3</th>\n      <td>None</td>\n      <td>None</td>\n      <td>Artículo transitorio 3. Mientras se instala, e...</td>\n    </tr>\n    <tr>\n      <th>Artículo transitorio 4</th>\n      <td>None</td>\n      <td>None</td>\n      <td>Artículo transitorio 4. El Congreso elegido el...</td>\n    </tr>\n    <tr>\n      <th>Artículo transitorio 5</th>\n      <td>None</td>\n      <td>None</td>\n      <td>Artículo transitorio 5. Revístese al President...</td>\n    </tr>\n    <tr>\n      <th>Artículo transitorio 6</th>\n      <td>None</td>\n      <td>None</td>\n      <td>Artículo transitorio 6. Créase una Comisión Es...</td>\n    </tr>\n    <tr>\n      <th>Artículo transitorio 7</th>\n      <td>None</td>\n      <td>None</td>\n      <td>Artículo transitorio 7. El Presidente de la Re...</td>\n    </tr>\n    <tr>\n      <th>Artículo transitorio 8</th>\n      <td>None</td>\n      <td>None</td>\n      <td>Artículo transitorio 8. Los decretos expedidos...</td>\n    </tr>\n    <tr>\n      <th>Artículo transitorio 9</th>\n      <td>None</td>\n      <td>None</td>\n      <td>Artículo transitorio 9. Las facultades extraor...</td>\n    </tr>\n    <tr>\n      <th rowspan=\"2\" valign=\"top\">CAPITULO 2</th>\n      <th>Artículo transitorio 20</th>\n      <td>None</td>\n      <td>None</td>\n      <td>Artículo transitorio 20. El Gobierno Nacional,...</td>\n    </tr>\n    <tr>\n      <th>Artículo transitorio 21</th>\n      <td>None</td>\n      <td>None</td>\n      <td>Artículo transitorio 21. Las normas legales qu...</td>\n    </tr>\n  </tbody>\n</table>\n</div>",
      "text/plain": "                                                                NombreTitulo  \\\nTitulos                     Capitulos   Articulos                              \nDISPOSICIONES TRANSITORIAS  CAPITULO 1  Artículo transitorio 1          None   \n                                        Artículo transitorio 10         None   \n                                        Artículo transitorio 11         None   \n                                        Artículo transitorio 12         None   \n                                        Artículo transitorio 13         None   \n                                        Artículo transitorio 14         None   \n                                        Artículo transitorio 15         None   \n                                        Artículo transitorio 16         None   \n                                        Artículo transitorio 17         None   \n                                        Artículo transitorio 18         None   \n                                        Artículo transitorio 2          None   \n                                        Artículo transitorio 3          None   \n                                        Artículo transitorio 4          None   \n                                        Artículo transitorio 5          None   \n                                        Artículo transitorio 6          None   \n                                        Artículo transitorio 7          None   \n                                        Artículo transitorio 8          None   \n                                        Artículo transitorio 9          None   \n                            CAPITULO 2  Artículo transitorio 20         None   \n                                        Artículo transitorio 21         None   \n\n                                                                NombreCapitulo  \\\nTitulos                     Capitulos   Articulos                                \nDISPOSICIONES TRANSITORIAS  CAPITULO 1  Artículo transitorio 1            None   \n                                        Artículo transitorio 10           None   \n                                        Artículo transitorio 11           None   \n                                        Artículo transitorio 12           None   \n                                        Artículo transitorio 13           None   \n                                        Artículo transitorio 14           None   \n                                        Artículo transitorio 15           None   \n                                        Artículo transitorio 16           None   \n                                        Artículo transitorio 17           None   \n                                        Artículo transitorio 18           None   \n                                        Artículo transitorio 2            None   \n                                        Artículo transitorio 3            None   \n                                        Artículo transitorio 4            None   \n                                        Artículo transitorio 5            None   \n                                        Artículo transitorio 6            None   \n                                        Artículo transitorio 7            None   \n                                        Artículo transitorio 8            None   \n                                        Artículo transitorio 9            None   \n                            CAPITULO 2  Artículo transitorio 20           None   \n                                        Artículo transitorio 21           None   \n\n                                                                                                         Contenido  \nTitulos                     Capitulos   Articulos                                                                   \nDISPOSICIONES TRANSITORIAS  CAPITULO 1  Artículo transitorio 1   Artículo transitorio 1. Convócase a elecciones...  \n                                        Artículo transitorio 10  Artículo transitorio 10. Los decretos que expi...  \n                                        Artículo transitorio 11  Artículo transitorio 11. Las facultades extrao...  \n                                        Artículo transitorio 12  Artículo transitorio 12. Con el fin de facilit...  \n                                        Artículo transitorio 13  Artículo transitorio 13. Dentro de los tres añ...  \n                                        Artículo transitorio 14  Artículo transitorio 14. Dentro de la legislat...  \n                                        Artículo transitorio 15  Artículo transitorio 15. La primera elección d...  \n                                        Artículo transitorio 16  Artículo transitorio 16. Salvo los casos que s...  \n                                        Artículo transitorio 17  Artículo transitorio 17. La primera elección p...  \n                                        Artículo transitorio 18  Artículo transitorio 18. Mientras la ley estab...  \n                                        Artículo transitorio 2   Artículo transitorio 2. No podrán ser candidat...  \n                                        Artículo transitorio 3   Artículo transitorio 3. Mientras se instala, e...  \n                                        Artículo transitorio 4   Artículo transitorio 4. El Congreso elegido el...  \n                                        Artículo transitorio 5   Artículo transitorio 5. Revístese al President...  \n                                        Artículo transitorio 6   Artículo transitorio 6. Créase una Comisión Es...  \n                                        Artículo transitorio 7   Artículo transitorio 7. El Presidente de la Re...  \n                                        Artículo transitorio 8   Artículo transitorio 8. Los decretos expedidos...  \n                                        Artículo transitorio 9   Artículo transitorio 9. Las facultades extraor...  \n                            CAPITULO 2  Artículo transitorio 20  Artículo transitorio 20. El Gobierno Nacional,...  \n                                        Artículo transitorio 21  Artículo transitorio 21. Las normas legales qu...  "
     },
     "execution_count": 113,
     "metadata": {},
     "output_type": "execute_result"
    }
   ],
   "source": [
    "df.head(20)"
   ]
  },
  {
   "cell_type": "code",
   "execution_count": 112,
   "metadata": {},
   "outputs": [
    {
     "data": {
      "text/html": "<div>\n<style scoped>\n    .dataframe tbody tr th:only-of-type {\n        vertical-align: middle;\n    }\n\n    .dataframe tbody tr th {\n        vertical-align: top;\n    }\n\n    .dataframe thead th {\n        text-align: right;\n    }\n</style>\n<table border=\"1\" class=\"dataframe\">\n  <thead>\n    <tr style=\"text-align: right;\">\n      <th></th>\n      <th></th>\n      <th></th>\n      <th>NombreTitulo</th>\n      <th>NombreCapitulo</th>\n      <th>Contenido</th>\n    </tr>\n    <tr>\n      <th>Titulos</th>\n      <th>Capitulos</th>\n      <th>Articulos</th>\n      <th></th>\n      <th></th>\n      <th></th>\n    </tr>\n  </thead>\n  <tbody>\n    <tr>\n      <th rowspan=\"13\" valign=\"top\">TITULO XII</th>\n      <th rowspan=\"4\" valign=\"top\">CAPITULO 4</th>\n      <th>Artículo 361</th>\n      <td>DEL REGIMEN ECONOMICO Y DE LA HACIENDA PUBLICA</td>\n      <td>DE LA DISTRIBUCION DE RECURSOS Y DE LAS COMPET...</td>\n      <td>Artículo 361. Con los ingresos provenientes de...</td>\n    </tr>\n    <tr>\n      <th>Artículo 362</th>\n      <td>DEL REGIMEN ECONOMICO Y DE LA HACIENDA PUBLICA</td>\n      <td>DE LA DISTRIBUCION DE RECURSOS Y DE LAS COMPET...</td>\n      <td>Artículo 362. Los bienes y rentas tributarias ...</td>\n    </tr>\n    <tr>\n      <th>Artículo 363</th>\n      <td>DEL REGIMEN ECONOMICO Y DE LA HACIENDA PUBLICA</td>\n      <td>DE LA DISTRIBUCION DE RECURSOS Y DE LAS COMPET...</td>\n      <td>Artículo 363. El sistema tributario se funda e...</td>\n    </tr>\n    <tr>\n      <th>Artículo 364</th>\n      <td>DEL REGIMEN ECONOMICO Y DE LA HACIENDA PUBLICA</td>\n      <td>DE LA DISTRIBUCION DE RECURSOS Y DE LAS COMPET...</td>\n      <td>Artículo 364. El endeudamiento interno y exter...</td>\n    </tr>\n    <tr>\n      <th rowspan=\"6\" valign=\"top\">CAPITULO 5</th>\n      <th>Artículo 365</th>\n      <td>DEL REGIMEN ECONOMICO Y DE LA HACIENDA PUBLICA</td>\n      <td>DE LA FINALIDAD SOCIAL DEL ESTADO Y DE LOS SER...</td>\n      <td>Artículo 365. Los servicios públicos son inher...</td>\n    </tr>\n    <tr>\n      <th>Artículo 366</th>\n      <td>DEL REGIMEN ECONOMICO Y DE LA HACIENDA PUBLICA</td>\n      <td>DE LA FINALIDAD SOCIAL DEL ESTADO Y DE LOS SER...</td>\n      <td>Artículo 366. El bienestar general y el mejora...</td>\n    </tr>\n    <tr>\n      <th>Artículo 367</th>\n      <td>DEL REGIMEN ECONOMICO Y DE LA HACIENDA PUBLICA</td>\n      <td>DE LA FINALIDAD SOCIAL DEL ESTADO Y DE LOS SER...</td>\n      <td>Artículo 367. La ley fijará las competencias y...</td>\n    </tr>\n    <tr>\n      <th>Artículo 368</th>\n      <td>DEL REGIMEN ECONOMICO Y DE LA HACIENDA PUBLICA</td>\n      <td>DE LA FINALIDAD SOCIAL DEL ESTADO Y DE LOS SER...</td>\n      <td>Artículo 368. La Nación, los departamentos, lo...</td>\n    </tr>\n    <tr>\n      <th>Artículo 369</th>\n      <td>DEL REGIMEN ECONOMICO Y DE LA HACIENDA PUBLICA</td>\n      <td>DE LA FINALIDAD SOCIAL DEL ESTADO Y DE LOS SER...</td>\n      <td>Artículo 369. La ley determinará los deberes y...</td>\n    </tr>\n    <tr>\n      <th>Artículo 370</th>\n      <td>DEL REGIMEN ECONOMICO Y DE LA HACIENDA PUBLICA</td>\n      <td>DE LA FINALIDAD SOCIAL DEL ESTADO Y DE LOS SER...</td>\n      <td>Artículo 370. Corresponde al Presidente de la ...</td>\n    </tr>\n    <tr>\n      <th rowspan=\"3\" valign=\"top\">CAPITULO 6</th>\n      <th>Artículo 371</th>\n      <td>DEL REGIMEN ECONOMICO Y DE LA HACIENDA PUBLICA</td>\n      <td>DE LA BANCA CENTRAL</td>\n      <td>Artículo 371. El Banco de la República ejercer...</td>\n    </tr>\n    <tr>\n      <th>Artículo 372</th>\n      <td>DEL REGIMEN ECONOMICO Y DE LA HACIENDA PUBLICA</td>\n      <td>DE LA BANCA CENTRAL</td>\n      <td>Artículo 372. La Junta Directiva del Banco de ...</td>\n    </tr>\n    <tr>\n      <th>Artículo 373</th>\n      <td>DEL REGIMEN ECONOMICO Y DE LA HACIENDA PUBLICA</td>\n      <td>DE LA BANCA CENTRAL</td>\n      <td>Artículo 373. El Estado, por intermedio del Ba...</td>\n    </tr>\n    <tr>\n      <th rowspan=\"7\" valign=\"top\">TITULO XIII</th>\n      <th rowspan=\"7\" valign=\"top\">NaN</th>\n      <th>Artículo 374</th>\n      <td>DE LA REFORMA DE LA CONSTITUCION</td>\n      <td>None</td>\n      <td>Artículo 374. La Constitución Política podrá s...</td>\n    </tr>\n    <tr>\n      <th>Artículo 375</th>\n      <td>DE LA REFORMA DE LA CONSTITUCION</td>\n      <td>None</td>\n      <td>Artículo 375. Podrán presentar proyectos de ac...</td>\n    </tr>\n    <tr>\n      <th>Artículo 376</th>\n      <td>DE LA REFORMA DE LA CONSTITUCION</td>\n      <td>None</td>\n      <td>Artículo 376. Mediante ley aprobada por mayorí...</td>\n    </tr>\n    <tr>\n      <th>Artículo 377</th>\n      <td>DE LA REFORMA DE LA CONSTITUCION</td>\n      <td>None</td>\n      <td>Artículo 377. Deberán someterse a referendo la...</td>\n    </tr>\n    <tr>\n      <th>Artículo 378</th>\n      <td>DE LA REFORMA DE LA CONSTITUCION</td>\n      <td>None</td>\n      <td>Artículo 378. Por iniciativa del Gobierno o de...</td>\n    </tr>\n    <tr>\n      <th>Artículo 379</th>\n      <td>DE LA REFORMA DE LA CONSTITUCION</td>\n      <td>None</td>\n      <td>Artículo 379. Los Actos Legislativos, la convo...</td>\n    </tr>\n    <tr>\n      <th>Artículo 380</th>\n      <td>DE LA REFORMA DE LA CONSTITUCION</td>\n      <td>None</td>\n      <td>Artículo 380. Queda derogada la Constitución h...</td>\n    </tr>\n  </tbody>\n</table>\n</div>",
      "text/plain": "                                                                          NombreTitulo  \\\nTitulos      Capitulos   Articulos                                                       \nTITULO XII   CAPITULO 4  Artículo 361  DEL REGIMEN ECONOMICO Y DE LA HACIENDA PUBLICA    \n                         Artículo 362  DEL REGIMEN ECONOMICO Y DE LA HACIENDA PUBLICA    \n                         Artículo 363  DEL REGIMEN ECONOMICO Y DE LA HACIENDA PUBLICA    \n                         Artículo 364  DEL REGIMEN ECONOMICO Y DE LA HACIENDA PUBLICA    \n             CAPITULO 5  Artículo 365  DEL REGIMEN ECONOMICO Y DE LA HACIENDA PUBLICA    \n                         Artículo 366  DEL REGIMEN ECONOMICO Y DE LA HACIENDA PUBLICA    \n                         Artículo 367  DEL REGIMEN ECONOMICO Y DE LA HACIENDA PUBLICA    \n                         Artículo 368  DEL REGIMEN ECONOMICO Y DE LA HACIENDA PUBLICA    \n                         Artículo 369  DEL REGIMEN ECONOMICO Y DE LA HACIENDA PUBLICA    \n                         Artículo 370  DEL REGIMEN ECONOMICO Y DE LA HACIENDA PUBLICA    \n             CAPITULO 6  Artículo 371  DEL REGIMEN ECONOMICO Y DE LA HACIENDA PUBLICA    \n                         Artículo 372  DEL REGIMEN ECONOMICO Y DE LA HACIENDA PUBLICA    \n                         Artículo 373  DEL REGIMEN ECONOMICO Y DE LA HACIENDA PUBLICA    \nTITULO XIII  NaN         Artículo 374                DE LA REFORMA DE LA CONSTITUCION    \n                         Artículo 375                DE LA REFORMA DE LA CONSTITUCION    \n                         Artículo 376                DE LA REFORMA DE LA CONSTITUCION    \n                         Artículo 377                DE LA REFORMA DE LA CONSTITUCION    \n                         Artículo 378                DE LA REFORMA DE LA CONSTITUCION    \n                         Artículo 379                DE LA REFORMA DE LA CONSTITUCION    \n                         Artículo 380                DE LA REFORMA DE LA CONSTITUCION    \n\n                                                                          NombreCapitulo  \\\nTitulos      Capitulos   Articulos                                                         \nTITULO XII   CAPITULO 4  Artículo 361  DE LA DISTRIBUCION DE RECURSOS Y DE LAS COMPET...   \n                         Artículo 362  DE LA DISTRIBUCION DE RECURSOS Y DE LAS COMPET...   \n                         Artículo 363  DE LA DISTRIBUCION DE RECURSOS Y DE LAS COMPET...   \n                         Artículo 364  DE LA DISTRIBUCION DE RECURSOS Y DE LAS COMPET...   \n             CAPITULO 5  Artículo 365  DE LA FINALIDAD SOCIAL DEL ESTADO Y DE LOS SER...   \n                         Artículo 366  DE LA FINALIDAD SOCIAL DEL ESTADO Y DE LOS SER...   \n                         Artículo 367  DE LA FINALIDAD SOCIAL DEL ESTADO Y DE LOS SER...   \n                         Artículo 368  DE LA FINALIDAD SOCIAL DEL ESTADO Y DE LOS SER...   \n                         Artículo 369  DE LA FINALIDAD SOCIAL DEL ESTADO Y DE LOS SER...   \n                         Artículo 370  DE LA FINALIDAD SOCIAL DEL ESTADO Y DE LOS SER...   \n             CAPITULO 6  Artículo 371                               DE LA BANCA CENTRAL    \n                         Artículo 372                               DE LA BANCA CENTRAL    \n                         Artículo 373                               DE LA BANCA CENTRAL    \nTITULO XIII  NaN         Artículo 374                                               None   \n                         Artículo 375                                               None   \n                         Artículo 376                                               None   \n                         Artículo 377                                               None   \n                         Artículo 378                                               None   \n                         Artículo 379                                               None   \n                         Artículo 380                                               None   \n\n                                                                               Contenido  \nTitulos      Capitulos   Articulos                                                        \nTITULO XII   CAPITULO 4  Artículo 361  Artículo 361. Con los ingresos provenientes de...  \n                         Artículo 362  Artículo 362. Los bienes y rentas tributarias ...  \n                         Artículo 363  Artículo 363. El sistema tributario se funda e...  \n                         Artículo 364  Artículo 364. El endeudamiento interno y exter...  \n             CAPITULO 5  Artículo 365  Artículo 365. Los servicios públicos son inher...  \n                         Artículo 366  Artículo 366. El bienestar general y el mejora...  \n                         Artículo 367  Artículo 367. La ley fijará las competencias y...  \n                         Artículo 368  Artículo 368. La Nación, los departamentos, lo...  \n                         Artículo 369  Artículo 369. La ley determinará los deberes y...  \n                         Artículo 370  Artículo 370. Corresponde al Presidente de la ...  \n             CAPITULO 6  Artículo 371  Artículo 371. El Banco de la República ejercer...  \n                         Artículo 372  Artículo 372. La Junta Directiva del Banco de ...  \n                         Artículo 373  Artículo 373. El Estado, por intermedio del Ba...  \nTITULO XIII  NaN         Artículo 374  Artículo 374. La Constitución Política podrá s...  \n                         Artículo 375  Artículo 375. Podrán presentar proyectos de ac...  \n                         Artículo 376  Artículo 376. Mediante ley aprobada por mayorí...  \n                         Artículo 377  Artículo 377. Deberán someterse a referendo la...  \n                         Artículo 378  Artículo 378. Por iniciativa del Gobierno o de...  \n                         Artículo 379  Artículo 379. Los Actos Legislativos, la convo...  \n                         Artículo 380  Artículo 380. Queda derogada la Constitución h...  "
     },
     "execution_count": 112,
     "metadata": {},
     "output_type": "execute_result"
    }
   ],
   "source": [
    "df.tail(20)"
   ]
  },
  {
   "cell_type": "code",
   "execution_count": null,
   "metadata": {},
   "outputs": [],
   "source": []
  },
  {
   "cell_type": "code",
   "execution_count": null,
   "metadata": {},
   "outputs": [],
   "source": []
  },
  {
   "cell_type": "markdown",
   "metadata": {},
   "source": [
    "# Funcion que cuente h1, h2 y articulos"
   ]
  },
  {
   "cell_type": "markdown",
   "metadata": {},
   "source": [
    "### 2) Number of paragraphs"
   ]
  },
  {
   "cell_type": "markdown",
   "metadata": {},
   "source": [
    "### 3) Number of words"
   ]
  },
  {
   "cell_type": "markdown",
   "metadata": {},
   "source": [
    "### 4) Lematizacion y que pasa despues"
   ]
  },
  {
   "cell_type": "markdown",
   "metadata": {},
   "source": [
    "### 5) Most frequent relevant words"
   ]
  },
  {
   "cell_type": "markdown",
   "metadata": {},
   "source": [
    "## TFIDF / NMF / LDA"
   ]
  },
  {
   "cell_type": "code",
   "execution_count": null,
   "metadata": {},
   "outputs": [],
   "source": []
  },
  {
   "cell_type": "code",
   "execution_count": null,
   "metadata": {},
   "outputs": [],
   "source": []
  }
 ],
 "metadata": {
  "kernelspec": {
   "display_name": "Python 3",
   "language": "python",
   "name": "python3"
  },
  "language_info": {
   "codemirror_mode": {
    "name": "ipython",
    "version": 3
   },
   "file_extension": ".py",
   "mimetype": "text/x-python",
   "name": "python",
   "nbconvert_exporter": "python",
   "pygments_lexer": "ipython3",
   "version": "3.8.5"
  }
 },
 "nbformat": 4,
 "nbformat_minor": 4
}