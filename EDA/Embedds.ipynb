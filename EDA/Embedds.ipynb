{
 "cells": [
  {
   "cell_type": "markdown",
   "metadata": {},
   "source": [
    "# Colombian Constitution EDA.\n",
    "    Brief resume about the methodology and the results that we got."
   ]
  },
  {
   "cell_type": "markdown",
   "metadata": {},
   "source": [
    "## About the Document\n",
    "    The Political Constitution of the Republic of Colombia of 1991 is the Magna Carta of the Republic of Colombia. It was promulgated in the Constitutional Gazette number 114 of Thursday, July 4, 1991, and is also known as the Constitution of Human Rights. It replaced the Political Constitution of 1886 and was issued during the presidency of the liberal César Gaviria.1"
   ]
  },
  {
   "cell_type": "markdown",
   "metadata": {},
   "source": [
    "## DS Pipeline\n",
    "\n"
   ]
  },
  {
   "cell_type": "markdown",
   "metadata": {},
   "source": [
    "## Document Data Model\n",
    "\n",
    "PowerPoint graph, meanwhile we can use the hierarchy of the articles dictionary\n",
    "\n",
    "```\n",
    "hierarchy = {\n",
    "    'TITULO' : 'h1',\n",
    "    'DISPOSICIONES' : 'h1',\n",
    "    'CAPITULO' : 'h2',\n",
    "    'ARTÍCULO' : 'p'\n",
    "\n",
    "}\n",
    "```"
   ]
  },
  {
   "cell_type": "markdown",
   "metadata": {},
   "source": [
    "## EDA"
   ]
  },
  {
   "cell_type": "markdown",
   "metadata": {},
   "source": [
    "### Libraries "
   ]
  },
  {
   "cell_type": "code",
   "execution_count": 1,
   "metadata": {},
   "outputs": [
    {
     "name": "stdout",
     "output_type": "stream",
     "text": [
      "WARNING:tensorflow:From /home/maverick/GitHub/.wslenv1/lib/python3.8/site-packages/tensorflow/python/compat/v2_compat.py:96: disable_resource_variables (from tensorflow.python.ops.variable_scope) is deprecated and will be removed in a future version.\n",
      "Instructions for updating:\n",
      "non-resource variables are not supported in the long term\n"
     ]
    }
   ],
   "source": [
    "import numpy as np\n",
    "import pandas as pd\n",
    "# For visualizations\n",
    "import matplotlib.pyplot as plt\n",
    "# For regular expressions\n",
    "import re\n",
    "# For handling string\n",
    "import string\n",
    "import tensorflow.compat.v1 as tf\n",
    "tf.disable_v2_behavior()\n",
    "import tensorflow_hub as hub\n",
    "import tensorflow_text\n",
    "from os import path\n",
    "\n",
    "\n"
   ]
  },
  {
   "cell_type": "code",
   "execution_count": 2,
   "metadata": {},
   "outputs": [],
   "source": [
    "root_folder = \"LegalSearcher/ElasticSearch\"\n",
    "constitution_f = f'{root_folder}/embedding.json'\n",
    "filepath = path.abspath(path.join('','..', '..', constitution_f))\n",
    "#import Dataset\n",
    "df = pd.read_json(filepath)"
   ]
  },
  {
   "cell_type": "code",
   "execution_count": 3,
   "metadata": {},
   "outputs": [
    {
     "name": "stdout",
     "output_type": "stream",
     "text": [
      "Downloading pre-trained embeddings from tensorflow hub...\n",
      "Done.\n",
      "Creating tensorflow session...\n",
      "Done.\n"
     ]
    }
   ],
   "source": [
    "print(\"Downloading pre-trained embeddings from tensorflow hub...\")\n",
    "embed = hub.load(\"https://tfhub.dev/google/universal-sentence-encoder-multilingual-large/3\")\n",
    "\n",
    "text_ph = tf.placeholder(tf.string)\n",
    "embeddings = embed(text_ph)\n",
    "print(\"Done.\")\n",
    "\n",
    "print(\"Creating tensorflow session...\")\n",
    "session = tf.Session()\n",
    "session.run(tf.global_variables_initializer())\n",
    "session.run(tf.tables_initializer())\n",
    "print(\"Done.\")"
   ]
  },
  {
   "cell_type": "code",
   "execution_count": 4,
   "metadata": {},
   "outputs": [],
   "source": [
    "##### EMBEDDING #####\n",
    "\n",
    "def embed_text(text):\n",
    "    vectors = session.run(embeddings, feed_dict={text_ph: text})\n",
    "    return [vector.tolist() for vector in vectors]"
   ]
  },
  {
   "cell_type": "code",
   "execution_count": 5,
   "metadata": {},
   "outputs": [
    {
     "data": {
      "text/html": "<div>\n<style scoped>\n    .dataframe tbody tr th:only-of-type {\n        vertical-align: middle;\n    }\n\n    .dataframe tbody tr th {\n        vertical-align: top;\n    }\n\n    .dataframe thead th {\n        text-align: right;\n    }\n</style>\n<table border=\"1\" class=\"dataframe\">\n  <thead>\n    <tr style=\"text-align: right;\">\n      <th></th>\n      <th>id</th>\n      <th>article_list</th>\n    </tr>\n  </thead>\n  <tbody>\n    <tr>\n      <th>0</th>\n      <td>const01000001</td>\n      <td>[Colombia es un Estado social de derecho, orga...</td>\n    </tr>\n    <tr>\n      <th>1</th>\n      <td>const01000002</td>\n      <td>[Son fines esenciales del Estado: servir a la ...</td>\n    </tr>\n    <tr>\n      <th>2</th>\n      <td>const01000003</td>\n      <td>[La soberanía reside exclusivamente en el pueb...</td>\n    </tr>\n    <tr>\n      <th>3</th>\n      <td>const01000004</td>\n      <td>[La Constitución es norma de normas., En todo ...</td>\n    </tr>\n    <tr>\n      <th>4</th>\n      <td>const01000005</td>\n      <td>[El Estado reconoce, sin discriminación alguna...</td>\n    </tr>\n  </tbody>\n</table>\n</div>",
      "text/plain": "              id                                       article_list\n0  const01000001  [Colombia es un Estado social de derecho, orga...\n1  const01000002  [Son fines esenciales del Estado: servir a la ...\n2  const01000003  [La soberanía reside exclusivamente en el pueb...\n3  const01000004  [La Constitución es norma de normas., En todo ...\n4  const01000005  [El Estado reconoce, sin discriminación alguna..."
     },
     "execution_count": 5,
     "metadata": {},
     "output_type": "execute_result"
    }
   ],
   "source": [
    "df=df[['id','embedding']]\n",
    "df.replace(r'\\n','', regex=True,inplace=True) \n",
    "df['embedding'] = df['embedding'].apply(lambda x:x[1:])\n",
    "df.rename(columns={'embedding':'article_list'},inplace=True)\n",
    "df.head()\n"
   ]
  },
  {
   "cell_type": "code",
   "execution_count": 6,
   "metadata": {},
   "outputs": [
    {
     "data": {
      "text/html": "<div>\n<style scoped>\n    .dataframe tbody tr th:only-of-type {\n        vertical-align: middle;\n    }\n\n    .dataframe tbody tr th {\n        vertical-align: top;\n    }\n\n    .dataframe thead th {\n        text-align: right;\n    }\n</style>\n<table border=\"1\" class=\"dataframe\">\n  <thead>\n    <tr style=\"text-align: right;\">\n      <th></th>\n      <th>id</th>\n      <th>article_list</th>\n      <th>embedds</th>\n    </tr>\n  </thead>\n  <tbody>\n    <tr>\n      <th>0</th>\n      <td>const01000001</td>\n      <td>[Colombia es un Estado social de derecho, orga...</td>\n      <td>[0.024026719853281975, -0.0791270062327385, 0....</td>\n    </tr>\n    <tr>\n      <th>1</th>\n      <td>const01000002</td>\n      <td>[Son fines esenciales del Estado: servir a la ...</td>\n      <td>[0.058738261461257935, 0.07823820412158966, -0...</td>\n    </tr>\n    <tr>\n      <th>2</th>\n      <td>const01000003</td>\n      <td>[La soberanía reside exclusivamente en el pueb...</td>\n      <td>[-0.003973111975938082, -0.007816542871296406,...</td>\n    </tr>\n    <tr>\n      <th>3</th>\n      <td>const01000004</td>\n      <td>[La Constitución es norma de normas., En todo ...</td>\n      <td>[0.06180394068360329, -0.02205243706703186, 0....</td>\n    </tr>\n    <tr>\n      <th>4</th>\n      <td>const01000005</td>\n      <td>[El Estado reconoce, sin discriminación alguna...</td>\n      <td>[0.027791934087872505, -0.018517600372433662, ...</td>\n    </tr>\n  </tbody>\n</table>\n</div>",
      "text/plain": "              id                                       article_list  \\\n0  const01000001  [Colombia es un Estado social de derecho, orga...   \n1  const01000002  [Son fines esenciales del Estado: servir a la ...   \n2  const01000003  [La soberanía reside exclusivamente en el pueb...   \n3  const01000004  [La Constitución es norma de normas., En todo ...   \n4  const01000005  [El Estado reconoce, sin discriminación alguna...   \n\n                                             embedds  \n0  [0.024026719853281975, -0.0791270062327385, 0....  \n1  [0.058738261461257935, 0.07823820412158966, -0...  \n2  [-0.003973111975938082, -0.007816542871296406,...  \n3  [0.06180394068360329, -0.02205243706703186, 0....  \n4  [0.027791934087872505, -0.018517600372433662, ...  "
     },
     "execution_count": 6,
     "metadata": {},
     "output_type": "execute_result"
    }
   ],
   "source": [
    "df['embedds'] = df['article_list'].apply(lambda x:embed_text(x)[0])\n",
    "df.head()\n",
    "# art1_res = embed(art1)"
   ]
  },
  {
   "cell_type": "code",
   "execution_count": 22,
   "metadata": {},
   "outputs": [],
   "source": [
    "query0 = embed_text(['Colombia es un Estado social de derecho, organizado en forma de República unitaria, descentralizada, con autonomía de sus entidades territoriales, democrática, participativa y pluralista, fundada en el respeto de la dignidad humana, en el trabajo y la solidaridad de las personas que la integran y en la prevalencia del interés general'])[0]\n",
    "query1 = embed_text(['organizacion de colombia'])[0]\n",
    "query2 = embed_text(['Fines esenciales del estado'])[0]\n",
    "query3 = embed_text(['Representantes del pueblo'])[0]\n",
    "query4 = embed_text(['derechos humanos'])[0]\n",
    "query5 = embed_text(['tratados y convenios'])[0]\n",
    "query6 = embed_text(['Lorem ipsum dolor sit amet'])[0]\n",
    "query7 = embed_text(['organos del poder publico'])[0]\n",
    "query8 = embed_text(['Propiedad Intelectual'])[0]\n",
    "query9 = embed_text(['cuidado del medio ambiente'])[0]\n",
    "query10 = embed_text(['Ley de 1992'])[0]\n",
    "query11 = embed_text(['pizza'])[0]"
   ]
  },
  {
   "cell_type": "code",
   "execution_count": 23,
   "metadata": {},
   "outputs": [],
   "source": [
    "# session.close"
   ]
  },
  {
   "cell_type": "code",
   "execution_count": 24,
   "metadata": {},
   "outputs": [],
   "source": [
    "# Cosine Similarity Function\n",
    "def similarity(A,B):\n",
    "    cos_sim = np.dot(A,B)/(np.linalg.norm(A)*np.linalg.norm(B))+1\n",
    "    return cos_sim"
   ]
  },
  {
   "cell_type": "code",
   "execution_count": 27,
   "metadata": {},
   "outputs": [
    {
     "name": "stdout",
     "output_type": "stream",
     "text": [
      "Sorry parce we Couldn't find anything about that in the Constitution.\n"
     ]
    }
   ],
   "source": [
    "# A = Article in Constitution\n",
    "B = query11\n",
    "count = 0\n",
    "res = []\n",
    "for index, row in df.iterrows():\n",
    "    cos_sim = similarity(row['embedds'],B)\n",
    "    if  cos_sim > count:\n",
    "        count = cos_sim\n",
    "        res = [index, row['article_list'],count]\n",
    "    elif count < 1.2:\n",
    "        res = \"Sorry parce we Couldn't find anything about that in the Constitution.\"\n",
    "    \n",
    "# print(f'Query ingresada: {B}')    \n",
    "print(res)"
   ]
  },
  {
   "cell_type": "code",
   "execution_count": 7,
   "metadata": {},
   "outputs": [],
   "source": [
    "from fastparquet import write \n",
    "write('Cons.parq', df)"
   ]
  },
  {
   "cell_type": "code",
   "execution_count": null,
   "metadata": {},
   "outputs": [],
   "source": []
  }
 ],
 "metadata": {
  "kernelspec": {
   "display_name": "Python 3.8.5 64-bit",
   "name": "pythonjvsc74a57bd0fcbb1ef9f507839a1a8deab4eeab6ce456c0aa3e9723d1242394540b18e281aa"
  },
  "language_info": {
   "codemirror_mode": {
    "name": "ipython",
    "version": 3
   },
   "file_extension": ".py",
   "mimetype": "text/x-python",
   "name": "python",
   "nbconvert_exporter": "python",
   "pygments_lexer": "ipython3",
   "version": "3.8.5"
  },
  "metadata": {
   "interpreter": {
    "hash": "fcbb1ef9f507839a1a8deab4eeab6ce456c0aa3e9723d1242394540b18e281aa"
   }
  }
 },
 "nbformat": 4,
 "nbformat_minor": 4
}