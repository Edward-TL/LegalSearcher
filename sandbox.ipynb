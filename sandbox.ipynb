{
 "cells": [
  {
   "cell_type": "code",
   "execution_count": 1,
   "metadata": {},
   "outputs": [],
   "source": [
    "from clasifier import *"
   ]
  },
  {
   "cell_type": "code",
   "execution_count": 2,
   "metadata": {},
   "outputs": [],
   "source": [
    "with open('constitucion_colombiana.txt', 'r') as f:\n",
    "    text = f.readlines()\n",
    "\n",
    "    f.close()\n",
    "    \n",
    "for line in text:\n",
    "    if line == '\\n':\n",
    "        text.remove(line)"
   ]
  },
  {
   "cell_type": "code",
   "execution_count": 3,
   "metadata": {},
   "outputs": [],
   "source": [
    "clean_text = text_remove_nl(text)\n",
    "# Drop the title \"Constitucion Politica de Colombia\"\n",
    "clean_text = clean_text[1:len(text)]"
   ]
  },
  {
   "cell_type": "code",
   "execution_count": 8,
   "metadata": {},
   "outputs": [
    {
     "name": "stdout",
     "output_type": "stream",
     "text": [
      "\n",
      "------------------\n",
      "\n",
      "8. Proteger los recursos culturales y naturales del país y velar por la conservación de un ambiente sano,\n",
      "\n",
      "\n",
      "------------------\n",
      "\n",
      "CAPITULO 1\n",
      " lines: 60\n",
      "\n",
      "CAPITULO 2\n",
      " lines: 100\n",
      "\n",
      "CAPITULO 3\n",
      " lines: 11\n",
      "\n",
      "CAPITULO 4\n",
      " lines: 22\n",
      "\n",
      "CAPITULO 5\n",
      " lines: 12\n",
      "\n"
     ]
    }
   ],
   "source": [
    "chapters = join_labels(clean_text, label = 'TITULO')\n",
    "# for key in chapters:\n",
    "#     print(key, chapters[key]['name'], chapters[key]['content'][:2])\n",
    "\n",
    "print('\\n------------------\\n')\n",
    "test_key = 'TITULO II\\n'\n",
    "test_text = chapters[test_key]['content']\n",
    "print(test_text[-2])\n",
    "print('\\n------------------\\n')\n",
    "\n",
    "title_2 = join_labels(test_text, label = 'CAPITULO', name_importance = True)\n",
    "for key in title_2:\n",
    "    print(key, f\"lines: {len(title_2[key]['content'])}\", end='\\n\\n')"
   ]
  },
  {
   "cell_type": "code",
   "execution_count": null,
   "metadata": {},
   "outputs": [],
   "source": []
  },
  {
   "cell_type": "code",
   "execution_count": null,
   "metadata": {},
   "outputs": [],
   "source": []
  }
 ],
 "metadata": {
  "kernelspec": {
   "display_name": "Python 3",
   "language": "python",
   "name": "python3"
  },
  "language_info": {
   "codemirror_mode": {
    "name": "ipython",
    "version": 3
   },
   "file_extension": ".py",
   "mimetype": "text/x-python",
   "name": "python",
   "nbconvert_exporter": "python",
   "pygments_lexer": "ipython3",
   "version": "3.8.5"
  }
 },
 "nbformat": 4,
 "nbformat_minor": 4
}
