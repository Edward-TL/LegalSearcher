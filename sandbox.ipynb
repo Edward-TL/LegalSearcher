{
 "cells": [
  {
   "cell_type": "markdown",
   "metadata": {},
   "source": [
    "# Documents builder\n",
    "\n",
    "Creates json documents from .txt files that has the next jerarquy:\n",
    "\n",
    "```\n",
    "hierarchy = {\n",
    "    'TITULO' : 'headline',\n",
    "    'DISPOSICIONES' : 'headline',\n",
    "    'CAPITULO' : 'chapter',\n",
    "    'ARTÍCULO' : 'article'\n",
    "\n",
    "}\n",
    "```"
   ]
  },
  {
   "cell_type": "code",
   "execution_count": 1,
   "metadata": {},
   "outputs": [],
   "source": [
    "from classifier import *"
   ]
  },
  {
   "cell_type": "code",
   "execution_count": 2,
   "metadata": {},
   "outputs": [],
   "source": [
    "with open('constitucion_colombiana.txt', 'r') as f:\n",
    "    text = f.readlines()\n",
    "\n",
    "    f.close()\n",
    "    \n",
    "for line in text:\n",
    "    if line == '\\n':\n",
    "        text.remove(line)"
   ]
  },
  {
   "cell_type": "code",
   "execution_count": 3,
   "metadata": {},
   "outputs": [],
   "source": [
    "clean_text = text_remove_nl(text)\n",
    "# Drop the title \"Constitucion Politica de Colombia\"\n",
    "clean_text = clean_text[1:len(text)]"
   ]
  },
  {
   "cell_type": "code",
   "execution_count": null,
   "metadata": {},
   "outputs": [],
   "source": []
  },
  {
   "cell_type": "code",
   "execution_count": 4,
   "metadata": {
    "scrolled": true
   },
   "outputs": [
    {
     "name": "stdout",
     "output_type": "stream",
     "text": [
      "total articles =  439\n"
     ]
    }
   ],
   "source": [
    "book_id = \"Const\"\n",
    "art_list = articles_info(book_id, clean_text, debugging=False)\n",
    "print('total articles = ', len(art_list))"
   ]
  },
  {
   "cell_type": "code",
   "execution_count": 5,
   "metadata": {},
   "outputs": [
    {
     "data": {
      "text/plain": [
       "{'index': 'constitucion_politica_de_colombia',\n",
       " 'id': 'const02003069',\n",
       " 'headline': {'title': 'TITULO II',\n",
       "  'name': 'DE LOS DERECHOS, LAS GARANTIAS Y LOS DEBERES',\n",
       "  'headline_id': 2},\n",
       " 'chapter': {'title': 'CAPITULO 3',\n",
       "  'name': 'DE LOS DERECHOS COLECTIVOS Y DEL AMBIENTE',\n",
       "  'chapter_id': 3},\n",
       " 'article': {'name': 'Artículo 79',\n",
       "  'content': ['Artículo 79. Todas las personas tienen derecho a gozar de un ambiente sano. La ley garantizará la participación de la comunidad en las decisiones que puedan afectarlo.',\n",
       "   'Es deber del Estado proteger la diversidad e integridad del ambiente, conservar las áreas de especial importancia ecológica y fomentar la educación para el logro de estos fines.'],\n",
       "  'article_id': 'Const02003069',\n",
       "  'lexical_diversity': 10.147058823529411}}"
      ]
     },
     "execution_count": 5,
     "metadata": {},
     "output_type": "execute_result"
    }
   ],
   "source": [
    "art_list[78]"
   ]
  },
  {
   "cell_type": "code",
   "execution_count": 6,
   "metadata": {
    "scrolled": true
   },
   "outputs": [
    {
     "name": "stdout",
     "output_type": "stream",
     "text": [
      "Article No 78: \n",
      " id:  Const02003068 \n",
      " lexical_diversity:  18.583333333333332 \n",
      " TITULO II DE LOS DERECHOS, LAS GARANTIAS Y LOS DEBERES \n",
      " CAPITULO 3 DE LOS DERECHOS COLECTIVOS Y DEL AMBIENTE \n",
      " Artículo 78 ['Artículo 78. La ley regulará el control de calidad de bienes y servicios ofrecidos y prestados a la comunidad, así como la información que debe suministrarse al público en su comercialización.', 'Serán responsables, de acuerdo con la ley, quienes en la producción y en la comercialización de bienes y servicios, atenten contra la salud, la seguridad y el adecuado aprovisionamiento a consumidores y usuarios. El Estado garantizara la participación de las organizaciones de consumidores y usuarios en el estudio de las disposiciones que les conciernen. Para gozar de este derecho las organizaciones deben ser representativas y observar procedimientos democráticos internos.']\n",
      "\n",
      "--------------------------------------\n",
      "\n"
     ]
    }
   ],
   "source": [
    "first=77\n",
    "last_p1=first + 1\n",
    "for n in range(len(art_list[first:last_p1])):\n",
    "    art = n+first\n",
    "    print(f'Article No {art+1}: \\n',\n",
    "          \"id: \", art_list[art]['article']['article_id'],\"\\n\",\n",
    "          \"lexical_diversity: \", art_list[art]['article']['lexical_diversity'],\"\\n\",\n",
    "          art_list[art]['headline']['title'],art_list[art]['headline']['name'],\"\\n\",\n",
    "          art_list[art]['chapter']['title'],art_list[art]['chapter']['name'],\"\\n\",\n",
    "          art_list[art]['article']['name'],art_list[art]['article']['content'])\n",
    "    print('\\n--------------------------------------\\n')"
   ]
  },
  {
   "cell_type": "code",
   "execution_count": 7,
   "metadata": {
    "scrolled": true
   },
   "outputs": [],
   "source": [
    "json_list = format_articles(art_list, debugging=False)\n"
   ]
  },
  {
   "cell_type": "code",
   "execution_count": 8,
   "metadata": {},
   "outputs": [],
   "source": [
    "dict_json = json.dumps(json_list, ensure_ascii=False)\n",
    "file = open('es_col_constitution.json', \"w\")\n",
    "file.write(dict_json)\n",
    "file.close()"
   ]
  },
  {
   "cell_type": "code",
   "execution_count": 9,
   "metadata": {},
   "outputs": [
    {
     "name": "stdout",
     "output_type": "stream",
     "text": [
      "index : constitucion_politica_de_colombia\n",
      "id : const01000001\n",
      "headline : {'title': 'TITULO I', 'name': 'DE LOS PRINCIPIOS FUNDAMENTALES'}\n",
      "chapter : {'title': None, 'name': None}\n",
      "article : {'name': 'Artículo 1', 'content': ['Artículo 1. Colombia es un Estado social de derecho, organizado en forma de República unitaria, descentralizada, con autonomía de sus entidades territoriales, democrática, participativa y pluralista, fundada en el respeto de la dignidad humana, en el trabajo y la solidaridad de las personas que la integran y en la prevalencia del interés general.']}\n"
     ]
    }
   ],
   "source": [
    "article = json_list[0]\n",
    "for key, value in article.items():\n",
    "    print(key, ':', value)"
   ]
  },
  {
   "cell_type": "code",
   "execution_count": 10,
   "metadata": {},
   "outputs": [
    {
     "data": {
      "text/plain": [
       "{'index': 'constitucion_politica_de_colombia',\n",
       " 'id': 'const01000002',\n",
       " 'headline': {'title': 'TITULO I', 'name': 'DE LOS PRINCIPIOS FUNDAMENTALES'},\n",
       " 'chapter': {'title': None, 'name': None},\n",
       " 'article': {'name': 'Artículo 2',\n",
       "  'content': ['Artículo 2. Son fines esenciales del Estado: servir a la comunidad, promover la prosperidad general y garantizar la efectividad de los principios, derechos y deberes consagrados en la Constitución; facilitar la participación de todos en las decisiones que los afectan y en la vida económica, política, administrativa y cultural de la Nación; defender la independencia nacional, mantener la integridad territorial y asegurar la convivencia pacifica y la vigencia de un orden justo.',\n",
       "   'Las autoridades de la República están instituidas para proteger a todas las personas residentes en Colombia, en su vida, honra, bienes, creencias, y demás derechos y libertades, y para asegurar el cumplimiento de los deberes sociales del Estado y de los particulares.']}}"
      ]
     },
     "execution_count": 10,
     "metadata": {},
     "output_type": "execute_result"
    }
   ],
   "source": [
    "json_list[1]"
   ]
  },
  {
   "cell_type": "code",
   "execution_count": 12,
   "metadata": {},
   "outputs": [],
   "source": [
    "import requests\n",
    "import json"
   ]
  },
  {
   "cell_type": "code",
   "execution_count": 36,
   "metadata": {},
   "outputs": [
    {
     "name": "stdout",
     "output_type": "stream",
     "text": [
      "{'statusCode': 400, 'error': 'Bad Request', 'message': '\"subhead\" is required'}\n",
      "400\n"
     ]
    }
   ],
   "source": [
    "post_payload = json_list[1]\n",
    "\n",
    "api_uri_prod = \"https://searcher-col.herokuapp.com\"\n",
    "main_url = f\"{api_uri_prod}/api/es/search\"\n",
    "\n",
    "load_test = requests.post(f\"{api_uri_prod}/api/es/constitucion\", json=post_payload)\n",
    "\n",
    "print(load_test.json())\n",
    "print(load_test.status_code)"
   ]
  },
  {
   "cell_type": "code",
   "execution_count": 32,
   "metadata": {},
   "outputs": [
    {
     "name": "stdout",
     "output_type": "stream",
     "text": [
      "400\n",
      "\"subhead\" is required\n",
      "Bad Request\n"
     ]
    }
   ],
   "source": [
    "load_dict = json.loads(load_test.text)\n",
    "print(load_dict['statusCode'])\n",
    "print(load_dict['message'])\n",
    "print(load_dict['error'])"
   ]
  },
  {
   "cell_type": "code",
   "execution_count": 34,
   "metadata": {},
   "outputs": [
    {
     "name": "stdout",
     "output_type": "stream",
     "text": [
      "500\n",
      "An internal server error occurred\n",
      "Internal Server Error\n"
     ]
    }
   ],
   "source": [
    "error_string = '{\"statusCode\":500,\"error\":\"Internal Server Error\",\"message\":\"An internal server error occurred\"}'\n",
    "error_500  = json.loads(error_string)\n",
    "print(error_500['statusCode'])\n",
    "print(error_500['message'])\n",
    "print(error_500['error'])"
   ]
  },
  {
   "cell_type": "code",
   "execution_count": 35,
   "metadata": {},
   "outputs": [
    {
     "name": "stdout",
     "output_type": "stream",
     "text": [
      "400\n",
      "\"headline\" must be of type object\n",
      "Bad Request\n"
     ]
    }
   ],
   "source": [
    "error_string = '{\"statusCode\":400,\"error\":\"Bad Request\",\"message\":\"\\\\\"headline\\\\\" must be of type object\"}'\n",
    "error_400  = json.loads(error_string)\n",
    "print(error_400['statusCode'])\n",
    "print(error_400['message'])\n",
    "print(error_400['error'])"
   ]
  },
  {
   "cell_type": "code",
   "execution_count": 11,
   "metadata": {},
   "outputs": [],
   "source": [
    "import requests\n",
    "import json\n",
    "\n",
    "es_url = 'https://searcher-col.herokuapp.com/api/es/constitucion'\n",
    "\n",
    "art_test = json_list[12]\n",
    "header = {'Content-Type': 'application/json'}\n",
    "# r = requests.post(es_url, json= art_test)\n",
    "# r.text"
   ]
  },
  {
   "cell_type": "code",
   "execution_count": 19,
   "metadata": {},
   "outputs": [
    {
     "data": {
      "text/plain": [
       "'{\"statusCode\":500,\"error\":\"Internal Server Error\",\"message\":\"An internal server error occurred\"}'"
      ]
     },
     "execution_count": 19,
     "metadata": {},
     "output_type": "execute_result"
    }
   ],
   "source": [
    "# art_test = json_list[13]\n",
    "# r = requests.post(es_url, data= art_test)\n",
    "r.text"
   ]
  },
  {
   "cell_type": "code",
   "execution_count": 20,
   "metadata": {
    "scrolled": true
   },
   "outputs": [
    {
     "name": "stdout",
     "output_type": "stream",
     "text": [
      "{\"statusCode\":500,\"error\":\"Internal Server Error\",\"message\":\"An internal server error occurred\"}\n",
      "{\"statusCode\":500,\"error\":\"Internal Server Error\",\"message\":\"An internal server error occurred\"}\n",
      "{\"statusCode\":500,\"error\":\"Internal Server Error\",\"message\":\"An internal server error occurred\"}\n",
      "{\"statusCode\":500,\"error\":\"Internal Server Error\",\"message\":\"An internal server error occurred\"}\n",
      "{\"statusCode\":500,\"error\":\"Internal Server Error\",\"message\":\"An internal server error occurred\"}\n"
     ]
    }
   ],
   "source": [
    "api_uri_prod = \"https://searcher-col.herokuapp.com\"\n",
    "main_url = f\"{api_uri_prod}/api/es/search\"\n",
    "\n",
    "for article in json_list[11]:\n",
    "    r = requests.post(main_url, json=article)\n",
    "    print(r.text)\n",
    "    "
   ]
  },
  {
   "cell_type": "code",
   "execution_count": 14,
   "metadata": {},
   "outputs": [
    {
     "ename": "NameError",
     "evalue": "name 'r' is not defined",
     "output_type": "error",
     "traceback": [
      "\u001b[0;31m---------------------------------------------------------------------------\u001b[0m",
      "\u001b[0;31mNameError\u001b[0m                                 Traceback (most recent call last)",
      "\u001b[0;32m<ipython-input-14-7fc50fd9cadb>\u001b[0m in \u001b[0;36m<module>\u001b[0;34m\u001b[0m\n\u001b[0;32m----> 1\u001b[0;31m \u001b[0;32mif\u001b[0m \u001b[0mr\u001b[0m\u001b[0;34m.\u001b[0m\u001b[0mtext\u001b[0m\u001b[0;34m.\u001b[0m\u001b[0mfind\u001b[0m\u001b[0;34m(\u001b[0m\u001b[0;34m\"400\"\u001b[0m\u001b[0;34m)\u001b[0m\u001b[0;34m:\u001b[0m \u001b[0mprint\u001b[0m\u001b[0;34m(\u001b[0m\u001b[0;34m'articulo con error:'\u001b[0m\u001b[0;34m,\u001b[0m\u001b[0mart_test\u001b[0m\u001b[0;34m[\u001b[0m\u001b[0;34m'id'\u001b[0m\u001b[0;34m]\u001b[0m\u001b[0;34m,\u001b[0m\u001b[0;34m'message:\\n'\u001b[0m\u001b[0;34m,\u001b[0m \u001b[0mr\u001b[0m\u001b[0;34m.\u001b[0m\u001b[0mtext\u001b[0m\u001b[0;34m)\u001b[0m\u001b[0;34m\u001b[0m\u001b[0;34m\u001b[0m\u001b[0m\n\u001b[0m",
      "\u001b[0;31mNameError\u001b[0m: name 'r' is not defined"
     ]
    }
   ],
   "source": [
    "test = requests.get(es_url, json=)"
   ]
  },
  {
   "cell_type": "code",
   "execution_count": null,
   "metadata": {},
   "outputs": [],
   "source": [
    "# for art in range(len(art_list)):\n",
    "#    lex_div = lexical_diversity(art_list[art]['article']['content'])\n",
    "#    art_list[art]['article']['lexical_diversity'] = lex_div\n",
    "#    print(art_list[art]['article'])"
   ]
  },
  {
   "cell_type": "markdown",
   "metadata": {},
   "source": [
    "# ES Formated"
   ]
  },
  {
   "cell_type": "markdown",
   "metadata": {},
   "source": [
    "from elasticsearch import Elasticsearch\n",
    "from elasticsearch import helpers\n",
    "\n",
    "es_url = 'https://searcher-col.herokuapp.com/api/es/constitucion'\n",
    "es = Elasticsearch([es_url])\n",
    "\n",
    "r = es.get(index=[\"const02003069\"])\n",
    "r"
   ]
  },
  {
   "cell_type": "markdown",
   "metadata": {},
   "source": [
    "# Prueba\n",
    "test_text = [\"Esto, solo* es. un! texto{ de } prueba&\", '*2']\n",
    "test_text = clean_words(test_text, debugging=True)\n",
    "print(test_text)\n",
    "\n",
    "titles_info = titles_content(art_list)\n",
    "titles_info\n"
   ]
  },
  {
   "cell_type": "code",
   "execution_count": null,
   "metadata": {},
   "outputs": [],
   "source": []
  },
  {
   "cell_type": "code",
   "execution_count": null,
   "metadata": {},
   "outputs": [],
   "source": [
    "art_test"
   ]
  }
 ],
 "metadata": {
  "julynter-check-type-hiddenstate": false,
  "julynter-check-view": false,
  "julynter-results": {
   "filteredId": [],
   "filteredIndividual": [],
   "filteredRestart": [],
   "filteredType": [
    {
     "cellId": 17,
     "hash": "bda1fdbadde78dca577ab043af8f938f44b6001a",
     "reason": "A cell with code changes may produce different results than what it generated before the changes, hampering the reproducibility.",
     "reportId": "h2",
     "reportType": "hiddenstate",
     "suggestion": "Please consider re-executing it to guarantee the reproducibility.",
     "text": "Cell 17 has changed since its execution, but it wasn't executed after the changes"
    },
    {
     "cellId": 18,
     "hash": "9a45dc86a23339c31da5121e21d3ec29598b4f52",
     "reason": "A cell with code changes may produce different results than what it generated before the changes, hampering the reproducibility.",
     "reportId": "h2",
     "reportType": "hiddenstate",
     "suggestion": "Please consider re-executing it to guarantee the reproducibility.",
     "text": "Cell 18 has changed since its execution, but it wasn't executed after the changes"
    },
    {
     "cellId": 19,
     "hash": "a8709234966c94af85efdd0011596dcc3cd5acb1",
     "reason": "A cell with code changes may produce different results than what it generated before the changes, hampering the reproducibility.",
     "reportId": "h2",
     "reportType": "hiddenstate",
     "suggestion": "Please consider re-executing it to guarantee the reproducibility.",
     "text": "Cell 19 has changed since its execution, but it wasn't executed after the changes"
    },
    {
     "cellId": 20,
     "hash": "5262c5b979abc7f04edfc63f2506df51c24cac81",
     "reason": "A cell with code changes may produce different results than what it generated before the changes, hampering the reproducibility.",
     "reportId": "h2",
     "reportType": "hiddenstate",
     "suggestion": "Please consider re-executing it to guarantee the reproducibility.",
     "text": "Cell 20 has changed since its execution, but it wasn't executed after the changes"
    },
    {
     "cellId": 3,
     "hash": "5c7117107aa3c9fbd257e74df14ba8e1133b1d74",
     "reason": "The cell uses a name that does not exist in this notebook. Using a name that does not exist prevents the reproducibility of the notebook.",
     "reportId": "h6",
     "reportType": "hiddenstate",
     "suggestion": "Please consider defining them to guarantee the reproducibility.",
     "text": "Cell 3 has the following undefined names: 'text_remove_nl'"
    },
    {
     "cellId": 5,
     "hash": "65a7058ef30c85ec210d0bad8736e28d5c9acf1f",
     "reason": "The cell uses a name that does not exist in this notebook. Using a name that does not exist prevents the reproducibility of the notebook.",
     "reportId": "h6",
     "reportType": "hiddenstate",
     "suggestion": "Please consider defining them to guarantee the reproducibility.",
     "text": "Cell 5 has the following undefined names: 'articles_info'"
    },
    {
     "cellId": 8,
     "hash": "6153aa62445cc3aac7ff1869e22cad27f24ccf1f",
     "reason": "The cell uses a name that does not exist in this notebook. Using a name that does not exist prevents the reproducibility of the notebook.",
     "reportId": "h6",
     "reportType": "hiddenstate",
     "suggestion": "Please consider defining them to guarantee the reproducibility.",
     "text": "Cell 8 has the following undefined names: 'format_articles'"
    },
    {
     "cellId": 9,
     "hash": "0f4e13f002bb2c6746ed7423e7ece78292e28592",
     "reason": "The cell uses a name that does not exist in this notebook. Using a name that does not exist prevents the reproducibility of the notebook.",
     "reportId": "h6",
     "reportType": "hiddenstate",
     "suggestion": "Please consider defining them to guarantee the reproducibility.",
     "text": "Cell 9 has the following undefined names: 'json'"
    },
    {
     "cellId": 17,
     "hash": "a34a3433cc963e4b2d2b680dbeff6a8f825f3b7c",
     "reason": "The cell uses a name that does not exist in this notebook. Using a name that does not exist prevents the reproducibility of the notebook.",
     "reportId": "h6",
     "reportType": "hiddenstate",
     "suggestion": "Please consider defining them to guarantee the reproducibility.",
     "text": "Cell 17 has the following undefined names: 'requests', 'main_url'"
    },
    {
     "cellId": 20,
     "hash": "25305ccd490a44dc0f65e0382ec936bce96ad671",
     "reason": "A skip in the execution count might indicate the presence of a hidden state caused by a cell that does not exist anymore. Hidden states might prevent cells from executing or producing the same results, hampering the reproducibility.",
     "reportId": "h4",
     "reportType": "hiddenstate",
     "suggestion": "Please consider re-running the notebook to guarantee the reproducibility.",
     "text": "Cell 20 skips the execution count"
    },
    {
     "cellId": 18,
     "hash": "a5a5ede7a09bb76eacd1610261944964c230f788",
     "reason": "A skip in the execution count might indicate the presence of a hidden state caused by a cell that does not exist anymore. Hidden states might prevent cells from executing or producing the same results, hampering the reproducibility.",
     "reportId": "h4",
     "reportType": "hiddenstate",
     "suggestion": "Please consider re-running the notebook to guarantee the reproducibility.",
     "text": "Cell 18 skips the execution count"
    },
    {
     "cellId": 14,
     "hash": "5e03affad5e35d0731814f6e390115c68a75ed70",
     "reason": "A skip in the execution count might indicate the presence of a hidden state caused by a cell that does not exist anymore. Hidden states might prevent cells from executing or producing the same results, hampering the reproducibility.",
     "reportId": "h4",
     "reportType": "hiddenstate",
     "suggestion": "Please consider re-running the notebook to guarantee the reproducibility.",
     "text": "Cell 14 skips the execution count"
    },
    {
     "cellId": 14,
     "hash": "88339bee3286f64e4a8f43e73eda59e2257ae3e6",
     "reason": "The cell that created the name was removed or edited, indicating a hidden state. Using a variable from a cell that does not exist anymore prevents the reproducibility of the notebook.",
     "reportId": "h5",
     "reportType": "hiddenstate",
     "suggestion": "Please consider restoring the cell and re-running the notebook to guarantee the reproducibility.",
     "text": "Cell 14 uses name 'load_test' that was defined on In[26], but it does not exist anymore"
    },
    {
     "cellId": 15,
     "hash": "032ea596f9cb92515345d3a287992da34b3ec2a4",
     "reason": "A skip in the execution count might indicate the presence of a hidden state caused by a cell that does not exist anymore. Hidden states might prevent cells from executing or producing the same results, hampering the reproducibility.",
     "reportId": "h4",
     "reportType": "hiddenstate",
     "suggestion": "Please consider re-running the notebook to guarantee the reproducibility.",
     "text": "Cell 15 skips the execution count"
    }
   ],
   "hash": "10b7bd0d76c4c89058862c71e4597ec3884d08cb",
   "visible": [
    {
     "cellId": "group",
     "hash": "19d3d3d153f22e318cbe061df9e685ba5165b0aa",
     "reason": "This groups other lint messages",
     "reportId": "group",
     "reportType": "confusenotebook",
     "suggestion": null,
     "text": "Confuse Notebook"
    },
    {
     "cellId": 4,
     "hash": "bf47aec05b2c35bcef92f460037e521f4e130b3f",
     "reason": "Empty cells in between executable ones occupy space and might impact the readability of the notebook.",
     "reportId": "c3",
     "reportType": "confusenotebook",
     "suggestion": "Please consider removing it to improve the readability.",
     "text": "Cell 4 is empty in the middle of the notebook"
    },
    {
     "cellId": 14,
     "hash": "b47b3fe6524cefd3b4eba7b698ebbcf5d629ab02",
     "reason": "When you try to run all cells following the top-down order, cells in the wrong order might fail to execute or produce different results, hampering the reproducibility.",
     "reportId": "c2",
     "reportType": "confusenotebook",
     "suggestion": "Please consider re-running the notebook to guarantee the reproducibility.",
     "text": "Cell 14 has the execution count 32 in the wrong order"
    },
    {
     "cellId": 17,
     "hash": "aec5684951ae05ae59c573efdfb7bae673511706",
     "reason": "When you try to run all cells following the top-down order, cells in the wrong order might fail to execute or produce different results, hampering the reproducibility.",
     "reportId": "c2",
     "reportType": "confusenotebook",
     "suggestion": "Please consider re-running the notebook to guarantee the reproducibility.",
     "text": "Cell 17 has the execution count 11 in the wrong order"
    },
    {
     "cellId": 20,
     "hash": "112d0f2873b4813e97af2a8f8ba96ba08e1ff158",
     "reason": "When you try to run all cells following the top-down order, cells in the wrong order might fail to execute or produce different results, hampering the reproducibility.",
     "reportId": "c2",
     "reportType": "confusenotebook",
     "suggestion": "Please consider re-running the notebook to guarantee the reproducibility.",
     "text": "Cell 20 has the execution count 14 in the wrong order"
    },
    {
     "cellId": 25,
     "hash": "64503c1ccfdfadd68665d05804c4f497d748e25b",
     "reason": "Empty cells in between executable ones occupy space and might impact the readability of the notebook.",
     "reportId": "c3",
     "reportType": "confusenotebook",
     "suggestion": "Please consider removing it to improve the readability.",
     "text": "Cell 25 is empty in the middle of the notebook"
    },
    {
     "cellId": 26,
     "hash": "fc066cc9d5c4e0933aabd031d3f209b4b6a4efbb",
     "reason": "A markdown cell at the end of the notebook can conclude it, presenting a summary of the obtained results.",
     "reportId": "c5",
     "reportType": "confusenotebook",
     "suggestion": "Please consider adding a markdown cell to conclude the notebook.",
     "text": "The last cell of the notebook is not a markdown cell"
    },
    {
     "cellId": "group",
     "hash": "d6fbc9d2bdd580e18ed0bc5805dc26db323d6f5f",
     "reason": "This groups other lint messages",
     "reportId": "group",
     "reportType": "import",
     "suggestion": null,
     "text": "Import"
    },
    {
     "cellId": 12,
     "hash": "b2f4dc8a4404a45934a19ebb1df919469b2cee2c",
     "reason": "Imports at the beginning of the notebook allow for a quick failure in the case of a non-installed dependency. It prevents users from stopping their executions for installing dependencies. Additionally, imports in the middle might reduce notebooks' readability by taking the attention from the logic to the import constructs.",
     "reportId": "i1",
     "reportType": "import",
     "suggestion": "Please consider moving the import to the first cell of the notebook.",
     "text": "Cell 12 has imports but it is not the first cell"
    }
   ]
  },
  "kernelspec": {
   "display_name": "Python 3",
   "language": "python",
   "name": "python3"
  },
  "language_info": {
   "codemirror_mode": {
    "name": "ipython",
    "version": 3
   },
   "file_extension": ".py",
   "mimetype": "text/x-python",
   "name": "python",
   "nbconvert_exporter": "python",
   "pygments_lexer": "ipython3",
   "version": "3.8.5"
  }
 },
 "nbformat": 4,
 "nbformat_minor": 4
}
