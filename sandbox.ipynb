{
 "cells": [
  {
   "cell_type": "code",
   "execution_count": 1,
   "metadata": {},
   "outputs": [],
   "source": [
    "from classifier import *"
   ]
  },
  {
   "cell_type": "code",
   "execution_count": 2,
   "metadata": {},
   "outputs": [],
   "source": [
    "with open('constitucion_colombiana.txt', 'r') as f:\n",
    "    text = f.readlines()\n",
    "\n",
    "    f.close()\n",
    "    \n",
    "for line in text:\n",
    "    if line == '\\n':\n",
    "        text.remove(line)"
   ]
  },
  {
   "cell_type": "code",
   "execution_count": 3,
   "metadata": {},
   "outputs": [],
   "source": [
    "clean_text = text_remove_nl(text)\n",
    "# Drop the title \"Constitucion Politica de Colombia\"\n",
    "clean_text = clean_text[1:len(text)]"
   ]
  },
  {
   "cell_type": "code",
   "execution_count": 4,
   "metadata": {},
   "outputs": [
    {
     "name": "stdout",
     "output_type": "stream",
     "text": [
      "\n",
      "------------------\n",
      "\n",
      "8. Proteger los recursos culturales y naturales del país y velar por la conservación de un ambiente sano,\n",
      "\n",
      "\n",
      "------------------\n",
      "\n",
      "CAPITULO 1\n",
      " lines: 60\n",
      "\n",
      "CAPITULO 2\n",
      " lines: 100\n",
      "\n",
      "CAPITULO 3\n",
      " lines: 11\n",
      "\n",
      "CAPITULO 4\n",
      " lines: 22\n",
      "\n",
      "CAPITULO 5\n",
      " lines: 12\n",
      "\n"
     ]
    }
   ],
   "source": [
    "chapters = join_labels(clean_text, label = 'TITULO')\n",
    "# for key in chapters:\n",
    "#     print(key, chapters[key]['name'], chapters[key]['content'][:2])\n",
    "\n",
    "print('\\n------------------\\n')\n",
    "test_key = 'TITULO II\\n'\n",
    "test_text = chapters[test_key]['content']\n",
    "print(test_text[-2])\n",
    "print('\\n------------------\\n')\n",
    "\n",
    "title_2 = join_labels(test_text, label = 'CAPITULO', name_importance = True)\n",
    "for key in title_2:\n",
    "    print(key, f\"lines: {len(title_2[key]['content'])}\", end='\\n\\n')"
   ]
  },
  {
   "cell_type": "code",
   "execution_count": 8,
   "metadata": {},
   "outputs": [
    {
     "name": "stdout",
     "output_type": "stream",
     "text": [
      "total articles =  439\n"
     ]
    }
   ],
   "source": [
    "art_list = articles_info(clean_text, debugging=False)\n",
    "print('total articles = ', len(art_list))"
   ]
  },
  {
   "cell_type": "code",
   "execution_count": 12,
   "metadata": {},
   "outputs": [
    {
     "name": "stdout",
     "output_type": "stream",
     "text": [
      "Article No 21: \n",
      " TITULO II\n",
      " DE LOS DERECHOS, LAS GARANTIAS Y LOS DEBERES\n",
      " CAPITULO 1\n",
      " DE LOS DERECHOS FUNDAMENTALES\n",
      " Artículo 21 ['Artículo 21. Se garantiza el derecho a la honra. La ley señalará la forma de su protección.\\n']\n",
      "\n",
      "--------------------------------------\n",
      "\n",
      "Article No 22: \n",
      " TITULO II\n",
      " DE LOS DERECHOS, LAS GARANTIAS Y LOS DEBERES\n",
      " CAPITULO 1\n",
      " DE LOS DERECHOS FUNDAMENTALES\n",
      " Artículo 22 ['Artículo 22. La paz es un derecho y un deber de obligatorio cumplimiento.\\n']\n",
      "\n",
      "--------------------------------------\n",
      "\n",
      "Article No 23: \n",
      " TITULO II\n",
      " DE LOS DERECHOS, LAS GARANTIAS Y LOS DEBERES\n",
      " CAPITULO 1\n",
      " DE LOS DERECHOS FUNDAMENTALES\n",
      " Artículo 23 ['Artículo 23. Toda persona tiene derecho a presentar peticiones respetuosas a las autoridades por motivos de interés general o particular y a obtener pronta resolución. El legislador podrá reglamentar su ejercicio ante organizaciones privadas para garantizar los derechos fundamentales.\\n']\n",
      "\n",
      "--------------------------------------\n",
      "\n",
      "Article No 24: \n",
      " TITULO II\n",
      " DE LOS DERECHOS, LAS GARANTIAS Y LOS DEBERES\n",
      " CAPITULO 1\n",
      " DE LOS DERECHOS FUNDAMENTALES\n",
      " Artículo 24 ['Artículo 24. Todo colombiano, con las limitaciones que establezca la ley, tiene derecho a circular libremente por el territorio nacional, a entrar y salir de él, y a permanecer y residenciarse en Colombia.\\n']\n",
      "\n",
      "--------------------------------------\n",
      "\n",
      "Article No 25: \n",
      " TITULO II\n",
      " DE LOS DERECHOS, LAS GARANTIAS Y LOS DEBERES\n",
      " CAPITULO 1\n",
      " DE LOS DERECHOS FUNDAMENTALES\n",
      " Artículo 25 ['Artículo 25. El trabajo es un derecho y una obligación social y goza, en todas sus modalidades, de la especial protección del Estado. Toda persona tiene derecho a un trabajo en condiciones dignas y justas.\\n']\n",
      "\n",
      "--------------------------------------\n",
      "\n",
      "Article No 26: \n",
      " TITULO II\n",
      " DE LOS DERECHOS, LAS GARANTIAS Y LOS DEBERES\n",
      " CAPITULO 1\n",
      " DE LOS DERECHOS FUNDAMENTALES\n",
      " Artículo 26 ['Artículo 26. Toda persona es libre de escoger profesión u oficio. La ley podrá exigir títulos de idoneidad. Las autoridades competentes inspeccionaran y vigilaran el ejercicio de las profesiones. Las ocupaciones, artes y oficios que no exijan formación académica son de libre ejercicio, salvo aquellas que impliquen un riesgo social.\\n', 'Las profesiones legalmente reconocidas pueden organizarse en colegios. La estructura interna y el funcionamiento de estos deberán ser democráticos. \\n', 'La ley podrá asignarles funciones públicas y establecer los debidos controles.\\n']\n",
      "\n",
      "--------------------------------------\n",
      "\n",
      "Article No 27: \n",
      " TITULO II\n",
      " DE LOS DERECHOS, LAS GARANTIAS Y LOS DEBERES\n",
      " CAPITULO 1\n",
      " DE LOS DERECHOS FUNDAMENTALES\n",
      " Artículo 27 ['Artículo 27. El Estado garantiza las libertades de enseñanza, aprendizaje, investigación y cátedra.\\n']\n",
      "\n",
      "--------------------------------------\n",
      "\n",
      "Article No 28: \n",
      " TITULO II\n",
      " DE LOS DERECHOS, LAS GARANTIAS Y LOS DEBERES\n",
      " CAPITULO 1\n",
      " DE LOS DERECHOS FUNDAMENTALES\n",
      " Artículo 28 ['Artículo 28. Toda persona es libre. Nadie puede ser molestado en su persona o familia, ni reducido a prisión o arresto, ni detenido, ni su domicilio registrado, sino en virtud de mandamiento escrito de autoridad judicial competente, con las formalidades legales y por motivo previamente definido en la ley.\\n', 'La persona detenida preventivamente será puesta a disposición del juez competente dentro de las treinta y seis horas siguientes, para que éste adopte la decisión correspondiente en el término que establezca la ley. En ningún caso podrá haber detención, prisión ni arresto por deudas, ni penas y medidas de seguridad imprescriptibles.\\n']\n",
      "\n",
      "--------------------------------------\n",
      "\n",
      "Article No 29: \n",
      " TITULO II\n",
      " DE LOS DERECHOS, LAS GARANTIAS Y LOS DEBERES\n",
      " CAPITULO 1\n",
      " DE LOS DERECHOS FUNDAMENTALES\n",
      " Artículo 29 ['Artículo 29. El debido proceso se aplicará a toda clase de actuaciones judiciales y administrativas.\\n', 'Nadie podrá ser juzgado sino conforme a leyes preexistentes al acto que se le imputa, ante juez o tribunal competente y con observancia de la plenitud de las formas propias de cada juicio.\\n', 'En materia penal, la ley permisiva o favorable, aun cuando sea posterior, se aplicará de preferencia a la restrictiva o desfavorable.\\n', 'Toda persona se presume inocente mientras no se la haya declarado judicialmente culpable. Quien sea sindicado tiene derecho a la defensa y a la asistencia de un abogado escogido por el, o de oficio, durante la investigación y el juzgamiento; a un debido proceso publico sin dilaciones injustificadas; a presentar pruebas y a controvertir las que se alleguen en su contra; a impugnar la sentencia condenatoria, y a no ser juzgado dos veces por el mismo hecho.\\n', 'Es nula, de pleno derecho, la prueba obtenida con violación del debido proceso.\\n']\n",
      "\n",
      "--------------------------------------\n",
      "\n",
      "Article No 30: \n",
      " TITULO II\n",
      " DE LOS DERECHOS, LAS GARANTIAS Y LOS DEBERES\n",
      " CAPITULO 1\n",
      " DE LOS DERECHOS FUNDAMENTALES\n",
      " Artículo 30 ['Artículo 30. Quien estuviere privado de su libertad, y creyere estarlo ilegalmente, tiene derecho a invocar ante cualquier autoridad judicial, en todo tiempo, por si o por interpuesta persona, el Habeas Corpus, el cual debe resolverse en el término de treinta y seis horas.\\n']\n",
      "\n",
      "--------------------------------------\n",
      "\n",
      "Article No 31: \n",
      " TITULO II\n",
      " DE LOS DERECHOS, LAS GARANTIAS Y LOS DEBERES\n",
      " CAPITULO 1\n",
      " DE LOS DERECHOS FUNDAMENTALES\n",
      " Artículo 31 ['Artículo 31. Toda sentencia judicial podrá ser apelada o consultada, salvo las excepciones que consagre la ley.\\n', 'El superior no podrá agravar la pena impuesta cuando el condenado sea apelante único.\\n']\n",
      "\n",
      "--------------------------------------\n",
      "\n"
     ]
    }
   ],
   "source": [
    "first=2\n",
    "last_p1=31\n",
    "for n in range(len(art_list[first:last_p1])):\n",
    "    art = n+first\n",
    "    print(f'Article No {art+1}: \\n',\n",
    "          art_list[art]['h1']['head'],art_list[art]['h1']['name'],\n",
    "          art_list[art]['h2']['head'],art_list[art]['h2']['name'],\n",
    "          art_list[art]['article']['name'],art_list[art]['article']['content'])\n",
    "    print('\\n--------------------------------------\\n')"
   ]
  }
 ],
 "metadata": {
  "kernelspec": {
   "display_name": "Python 3",
   "language": "python",
   "name": "python3"
  },
  "language_info": {
   "codemirror_mode": {
    "name": "ipython",
    "version": 3
   },
   "file_extension": ".py",
   "mimetype": "text/x-python",
   "name": "python",
   "nbconvert_exporter": "python",
   "pygments_lexer": "ipython3",
   "version": "3.8.5"
  }
 },
 "nbformat": 4,
 "nbformat_minor": 4
}
