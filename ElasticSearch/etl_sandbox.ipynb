{
 "cells": [
  {
   "cell_type": "markdown",
   "metadata": {},
   "source": [
    "# ETL sandbox\n",
    "\n",
    "Here you can find all the ETL process than transforms a txt file of the Colombian Constitution into an index on a Elastic Search Server ESS. In case you don't have any ESS, or want to make local loads, you can use a docker image. Something to clarify, if you want to use this notebook to create json documents from .txt files, they must have the next hierarchy structure:\n",
    "\n",
    "```\n",
    "hierarchy = {\n",
    "    'TITULO' : 'headline',\n",
    "    'DISPOSICIONES' : 'headline',\n",
    "    'CAPITULO' : 'chapter',\n",
    "    'ARTÍCULO' : 'article'\n",
    "\n",
    "}\n",
    "```\n",
    "\n",
    "An important consideration to have in mind, is that here, this order represents the head level of each clasification. In other words, headline is an _\"h1\"_ on html, chapter an _\"h2\"_ and article would be a _\"p\"_.\n",
    "\n",
    "## Importing libraries and tools.\n",
    "\n",
    "About the libraries and needed to run the main project, as the convensions says, are listed on the requirements.txt file. Here the only library that is not installed on python's kernel is [tabulate](https://pypi.org/project/tabulate/). To install it you can use \n",
    "```\n",
    "pip install tabulate\n",
    "```\n",
    "\n",
    "or\n",
    "\n",
    "```\n",
    "pip3 install tabulate\n",
    "```\n",
    "\n",
    "About support."
   ]
  },
  {
   "cell_type": "code",
   "execution_count": 1,
   "metadata": {},
   "outputs": [],
   "source": [
    "from classifier import *\n",
    "from os import path\n",
    "from support import *\n",
    "from tabulate import tabulate"
   ]
  },
  {
   "cell_type": "code",
   "execution_count": 2,
   "metadata": {},
   "outputs": [],
   "source": [
    "import requests\n",
    "import json"
   ]
  },
  {
   "cell_type": "markdown",
   "metadata": {},
   "source": [
    "## Extracting the data.\n",
    "\n",
    "A simple use of the path kernel tools. Having this here, it won't matter that the root path has change from computer, the file with the constitution will be loaded to our program with no inconvenience."
   ]
  },
  {
   "cell_type": "code",
   "execution_count": 3,
   "metadata": {},
   "outputs": [],
   "source": [
    "root_folder = \"LegalSearcher/ReadFiles\"\n",
    "constitution_f = f'../ReadFiles/constitucion_colombiana.txt'\n",
    "\n",
    "filepath = path.abspath(constitution_f)\n",
    "\n",
    "with open(filepath, 'r') as f:\n",
    "    text = f.readlines()\n",
    "\n",
    "    f.close()\n",
    "    \n",
    "for line in text:\n",
    "    if line == '\\n':\n",
    "        text.remove(line)"
   ]
  },
  {
   "cell_type": "markdown",
   "metadata": {},
   "source": [
    "Just a removal of all \"\\n\" (libre breaks) and the Title \"Constitucion Politica de Colombia\":"
   ]
  },
  {
   "cell_type": "code",
   "execution_count": 4,
   "metadata": {},
   "outputs": [],
   "source": [
    "clean_text = text_remove_nl(text)\n",
    "\n",
    "# Drop the title \"Constitucion Politica de Colombia\"\n",
    "clean_text = clean_text[1:len(text)]"
   ]
  },
  {
   "cell_type": "markdown",
   "metadata": {},
   "source": [
    "## Transforming the articles into python dictionaries.\n",
    "\n",
    "For this process, the classifier filters through the hierarchy dictionary shown at the beggining. Fortunately, the constitution could be watched as an semi-structured data base if you make a fast check.\n",
    "\n",
    "The logic of this is that every headline will start with _**\"TITULO\"**_, except for the last one that is _**\"DISPOSICIONES\"**_. On the other side, every chapter and article starts with the words _**\"CAPITULO\"**_ and _**\"Articulo\"**_. Considereing this, every other word (or digit of an ordered list) at the beggining of any paragraph means that it is on the last article mentioned.\n",
    "\n",
    "```\n",
    "hierarchy = {\n",
    "    'TITULO' : 'headline',\n",
    "    'DISPOSICIONES' : 'headline',\n",
    "    'CAPITULO' : 'chapter',\n",
    "    'ARTÍCULO' : 'article'\n",
    "\n",
    "}\n",
    "```"
   ]
  },
  {
   "cell_type": "code",
   "execution_count": 5,
   "metadata": {
    "scrolled": true
   },
   "outputs": [
    {
     "name": "stdout",
     "output_type": "stream",
     "text": [
      "total articles =  439\n"
     ]
    }
   ],
   "source": [
    "book_id = \"Const\"\n",
    "art_list = articles_info(book_id, clean_text, debugging=False)\n",
    "print('total articles = ', len(art_list))"
   ]
  },
  {
   "cell_type": "markdown",
   "metadata": {},
   "source": [
    "### Overview of the articles dictionary.\n",
    "Every article dictionary has the next structure:"
   ]
  },
  {
   "cell_type": "code",
   "execution_count": 6,
   "metadata": {},
   "outputs": [
    {
     "data": {
      "text/plain": [
       "{'index': 'constitucion_politica_de_colombia',\n",
       " 'id': 'const02003069',\n",
       " 'headline': {'title': 'TITULO II',\n",
       "  'name': 'DE LOS DERECHOS, LAS GARANTIAS Y LOS DEBERES',\n",
       "  'headline_id': 2},\n",
       " 'chapter': {'title': 'CAPITULO 3',\n",
       "  'name': 'DE LOS DERECHOS COLECTIVOS Y DEL AMBIENTE',\n",
       "  'chapter_id': 3},\n",
       " 'article': {'name': 'Artículo 79',\n",
       "  'content': ['Artículo 79. Todas las personas tienen derecho a gozar de un ambiente sano. La ley garantizará la participación de la comunidad en las decisiones que puedan afectarlo.',\n",
       "   'Es deber del Estado proteger la diversidad e integridad del ambiente, conservar las áreas de especial importancia ecológica y fomentar la educación para el logro de estos fines.'],\n",
       "  'article_id': 'Const02003069',\n",
       "  'lexical_diversity': 10.147058823529411}}"
      ]
     },
     "execution_count": 6,
     "metadata": {},
     "output_type": "execute_result"
    }
   ],
   "source": [
    "art_list[78]"
   ]
  },
  {
   "cell_type": "markdown",
   "metadata": {},
   "source": [
    "Because of this structure, every component of the article can be consulted following python's methods of key-value. \n",
    "\n",
    "The variable \"first\" is referes to the first article that wants to be checked.\n",
    "If last_pl has fist on it, this will return only the article numbered at first"
   ]
  },
  {
   "cell_type": "code",
   "execution_count": 7,
   "metadata": {
    "scrolled": true
   },
   "outputs": [
    {
     "name": "stdout",
     "output_type": "stream",
     "text": [
      "Article No 1: \n",
      " id:  Const01000001 \n",
      " lexical_diversity:  9.942857142857143 \n",
      " TITULO I DE LOS PRINCIPIOS FUNDAMENTALES \n",
      " None None \n",
      " Artículo 1 ['Artículo 1. Colombia es un Estado social de derecho, organizado en forma de República unitaria, descentralizada, con autonomía de sus entidades territoriales, democrática, participativa y pluralista, fundada en el respeto de la dignidad humana, en el trabajo y la solidaridad de las personas que la integran y en la prevalencia del interés general.']\n",
      "\n",
      "--------------------------------------\n",
      "\n"
     ]
    }
   ],
   "source": [
    "art = 0\n",
    "print(f'Article No {art+1}: \\n',\n",
    "      \"id: \", art_list[art]['article']['article_id'],\"\\n\",\n",
    "      \"lexical_diversity: \", art_list[art]['article']['lexical_diversity'],\"\\n\",\n",
    "      art_list[art]['headline']['title'],art_list[art]['headline']['name'],\"\\n\",\n",
    "      art_list[art]['chapter']['title'],art_list[art]['chapter']['name'],\"\\n\",\n",
    "      art_list[art]['article']['name'],art_list[art]['article']['content'])\n",
    "print('\\n--------------------------------------\\n')"
   ]
  },
  {
   "cell_type": "markdown",
   "metadata": {},
   "source": [
    "In case you want to explore more about the articles and check by your self, here you can use the benefit of having all the dictionaries on a list. Select your range of interest by changing the first and last article of interest. Remember that list starts at 0, so remove 1 if you have an specific article on mind."
   ]
  },
  {
   "cell_type": "code",
   "execution_count": 8,
   "metadata": {},
   "outputs": [
    {
     "name": "stdout",
     "output_type": "stream",
     "text": [
      "Article No 2: \n",
      " id:  Const01000001 \n",
      " lexical_diversity:  9.942857142857143 \n",
      " TITULO I DE LOS PRINCIPIOS FUNDAMENTALES \n",
      " None None \n",
      " Artículo 1 ['Artículo 1. Colombia es un Estado social de derecho, organizado en forma de República unitaria, descentralizada, con autonomía de sus entidades territoriales, democrática, participativa y pluralista, fundada en el respeto de la dignidad humana, en el trabajo y la solidaridad de las personas que la integran y en la prevalencia del interés general.']\n",
      "\n",
      "--------------------------------------\n",
      "\n",
      "Article No 3: \n",
      " id:  Const01000002 \n",
      " lexical_diversity:  18.7 \n",
      " TITULO I DE LOS PRINCIPIOS FUNDAMENTALES \n",
      " None None \n",
      " Artículo 2 ['Artículo 2. Son fines esenciales del Estado: servir a la comunidad, promover la prosperidad general y garantizar la efectividad de los principios, derechos y deberes consagrados en la Constitución; facilitar la participación de todos en las decisiones que los afectan y en la vida económica, política, administrativa y cultural de la Nación; defender la independencia nacional, mantener la integridad territorial y asegurar la convivencia pacifica y la vigencia de un orden justo.', 'Las autoridades de la República están instituidas para proteger a todas las personas residentes en Colombia, en su vida, honra, bienes, creencias, y demás derechos y libertades, y para asegurar el cumplimiento de los deberes sociales del Estado y de los particulares.']\n",
      "\n",
      "--------------------------------------\n",
      "\n"
     ]
    }
   ],
   "source": [
    "first_art = 1\n",
    "last_art = 3\n",
    "for n in range(len( art_list[first_art : last_art] )):\n",
    "    article = art_list[n]\n",
    "    art_number = n + 1\n",
    "    \n",
    "    print_article(art_number, article)"
   ]
  },
  {
   "cell_type": "markdown",
   "metadata": {},
   "source": [
    "### Elastic Search format.\n",
    "\n",
    "In case that there is something that needs to be removed, like the lexical_diversity, you will have to edit the original function of **format_articles**. This because, this function is designed _ad hoc_, and other considerations will be time invested on something that won't increment the efficiency but presentation."
   ]
  },
  {
   "cell_type": "code",
   "execution_count": 9,
   "metadata": {
    "scrolled": true
   },
   "outputs": [],
   "source": [
    "json_list = format_articles(art_list, debugging=False)"
   ]
  },
  {
   "cell_type": "markdown",
   "metadata": {},
   "source": [
    "## Load and storage of data.\n",
    "By the time this notebook is written (not finished yet according to plan), the json file that will contain all the articles transformed is storaged on the same folder. This for nothing more than cosiness of checking only the files on the same folder and no opening any other tab."
   ]
  },
  {
   "cell_type": "code",
   "execution_count": 10,
   "metadata": {},
   "outputs": [],
   "source": [
    "dict_json = json.dumps(json_list, ensure_ascii=False)\n",
    "file = open('es_col_constitution.json', \"w\")\n",
    "file.write(dict_json)\n",
    "file.close()"
   ]
  },
  {
   "cell_type": "markdown",
   "metadata": {},
   "source": [
    "### Quick check of the articles state\n",
    "Here is observed that the lexical_diversity is removed and that objects that every cathegory has."
   ]
  },
  {
   "cell_type": "code",
   "execution_count": 11,
   "metadata": {},
   "outputs": [
    {
     "name": "stdout",
     "output_type": "stream",
     "text": [
      "index : constitucion_politica_de_colombia\n",
      "id : const01000001\n",
      "headline : {'title': 'TITULO I', 'name': 'DE LOS PRINCIPIOS FUNDAMENTALES'}\n",
      "chapter : {'title': None, 'name': None}\n",
      "article : {'name': 'Artículo 1', 'content': ['Artículo 1. Colombia es un Estado social de derecho, organizado en forma de República unitaria, descentralizada, con autonomía de sus entidades territoriales, democrática, participativa y pluralista, fundada en el respeto de la dignidad humana, en el trabajo y la solidaridad de las personas que la integran y en la prevalencia del interés general.']}\n"
     ]
    }
   ],
   "source": [
    "article = json_list[0]\n",
    "for key, value in article.items():\n",
    "    print(key, ':', value)"
   ]
  },
  {
   "cell_type": "code",
   "execution_count": 12,
   "metadata": {},
   "outputs": [
    {
     "data": {
      "text/plain": [
       "{'index': 'constitucion_politica_de_colombia',\n",
       " 'id': 'const01000002',\n",
       " 'headline': {'title': 'TITULO I', 'name': 'DE LOS PRINCIPIOS FUNDAMENTALES'},\n",
       " 'chapter': {'title': None, 'name': None},\n",
       " 'article': {'name': 'Artículo 2',\n",
       "  'content': ['Artículo 2. Son fines esenciales del Estado: servir a la comunidad, promover la prosperidad general y garantizar la efectividad de los principios, derechos y deberes consagrados en la Constitución; facilitar la participación de todos en las decisiones que los afectan y en la vida económica, política, administrativa y cultural de la Nación; defender la independencia nacional, mantener la integridad territorial y asegurar la convivencia pacifica y la vigencia de un orden justo.',\n",
       "   'Las autoridades de la República están instituidas para proteger a todas las personas residentes en Colombia, en su vida, honra, bienes, creencias, y demás derechos y libertades, y para asegurar el cumplimiento de los deberes sociales del Estado y de los particulares.']}}"
      ]
     },
     "execution_count": 12,
     "metadata": {},
     "output_type": "execute_result"
    }
   ],
   "source": [
    "json_list[1]"
   ]
  },
  {
   "cell_type": "markdown",
   "metadata": {},
   "source": [
    "### Load of articles to localhost\n",
    "Here it will be used the PUT method, in order to make the index in Elastic Search the same as in our Data Base. For it, the local_url variable would be a formated string, where the article id will be added for every iteration.\n",
    "\n",
    "In order to watch the result of every _\"put request\"_, log_info will be created in order to be used with the **tabulate** tool. In case there is no error, that column will be empty."
   ]
  },
  {
   "cell_type": "code",
   "execution_count": null,
   "metadata": {},
   "outputs": [],
   "source": [
    "log_info = {'id': None,\n",
    "            'status': None,\n",
    "            'error': None,\n",
    "            'message': None,\n",
    "            }"
   ]
  },
  {
   "cell_type": "markdown",
   "metadata": {},
   "source": [
    "Something to consider is the fact that a succesfull load of an article, will not return a status code of 200, instead, it will return a success document with all the data of the new object created or overwrited."
   ]
  },
  {
   "cell_type": "code",
   "execution_count": null,
   "metadata": {
    "scrolled": true
   },
   "outputs": [],
   "source": [
    "for article in json_list:\n",
    "    es_article_url = f\"http://localhost:9200/col_constitucion/_doc/{article['id']}\"\n",
    "    request_response = requests.put(es_article_url, json=article)\n",
    "    log_info = add_to_log(log_info, request_response, article)\n",
    "\n",
    "print(tabulate(log_info, headers='keys'))"
   ]
  },
  {
   "cell_type": "markdown",
   "metadata": {},
   "source": [
    "## Query test to Elastic Search\n",
    "In order to confirm the state of our info, here it will be made an Elastic Search query. The request will be past on a python dict trough json attribute. The query word in this case will be \"Colombia\", being the most obvious word to appear on the Colombian Constitution."
   ]
  },
  {
   "cell_type": "code",
   "execution_count": 14,
   "metadata": {},
   "outputs": [],
   "source": [
    "local_test = \"http://localhost:9200/col_constitucion/_search\"\n",
    "query_test = {\n",
    "    \"query\": {\n",
    "        \"simple_query_string\": {\n",
    "            \"query\": \"Colombia\"\n",
    "        }\n",
    "    }\n",
    "}\n",
    "query_test = requests.get(local_test, json=query_test)"
   ]
  },
  {
   "cell_type": "markdown",
   "metadata": {},
   "source": [
    "Because the query text is a little \"dirty\", it will be share at the end as a commented line, in case you desire to look at the content, just uncoment the last cell. A cleaner view, is to call the relevant data for now, like it will be the number of articles that match with the query, the max score, and the best article rated."
   ]
  },
  {
   "cell_type": "code",
   "execution_count": 25,
   "metadata": {},
   "outputs": [
    {
     "name": "stdout",
     "output_type": "stream",
     "text": [
      "16\n",
      "4.4105473\n"
     ]
    },
    {
     "data": {
      "text/plain": [
       "{'_index': 'col_constitucion',\n",
       " '_type': '_doc',\n",
       " '_id': 'const01000009',\n",
       " '_score': 4.4105473,\n",
       " '_source': {'index': 'constitucion_politica_de_colombia',\n",
       "  'id': 'const01000009',\n",
       "  'headline': {'title': 'TITULO I', 'name': 'DE LOS PRINCIPIOS FUNDAMENTALES'},\n",
       "  'chapter': {'title': None, 'name': None},\n",
       "  'article': {'name': 'Artículo 9',\n",
       "   'content': ['Artículo 9. Las relaciones exteriores del Estado se fundamentan en la soberanía nacional, en el respeto a la autodeterminación de los pueblos y en el reconocimiento de los principios del derecho internacional aceptados por Colombia.',\n",
       "    'De igual manera, la política exterior de Colombia se orientará hacia la integración latinoamericana y del Caribe.']}}}"
      ]
     },
     "execution_count": 25,
     "metadata": {},
     "output_type": "execute_result"
    }
   ],
   "source": [
    "result = json.loads(query_test.text)\n",
    "print(result['hits']['total']['value'])\n",
    "print(result['hits']['max_score'])\n",
    "best_rated = result['hits']['hits'][0]\n",
    "best_rated"
   ]
  },
  {
   "cell_type": "code",
   "execution_count": 16,
   "metadata": {},
   "outputs": [],
   "source": [
    "# query_test.text"
   ]
  }
 ],
 "metadata": {
  "julynter-check-type-hiddenstate": false,
  "julynter-check-view": false,
  "julynter-results": {
   "filteredId": [],
   "filteredIndividual": [],
   "filteredRestart": [],
   "filteredType": [
    {
     "cellId": 6,
     "hash": "25434bc76d1429c93e21705e2a81b9a57a68d79a",
     "reason": "The cell uses a name that does not exist in this notebook. Using a name that does not exist prevents the reproducibility of the notebook.",
     "reportId": "h6",
     "reportType": "hiddenstate",
     "suggestion": "Please consider defining them to guarantee the reproducibility.",
     "text": "Cell 6 has the following undefined names: 'text_remove_nl'"
    },
    {
     "cellId": 8,
     "hash": "65a7058ef30c85ec210d0bad8736e28d5c9acf1f",
     "reason": "The cell uses a name that does not exist in this notebook. Using a name that does not exist prevents the reproducibility of the notebook.",
     "reportId": "h6",
     "reportType": "hiddenstate",
     "suggestion": "Please consider defining them to guarantee the reproducibility.",
     "text": "Cell 8 has the following undefined names: 'articles_info'"
    },
    {
     "cellId": 14,
     "hash": "4fb950158300ae70a653a08959041bedb858e8b7",
     "reason": "The cell uses a name that does not exist in this notebook. Using a name that does not exist prevents the reproducibility of the notebook.",
     "reportId": "h6",
     "reportType": "hiddenstate",
     "suggestion": "Please consider defining them to guarantee the reproducibility.",
     "text": "Cell 14 has the following undefined names: 'print_article'"
    },
    {
     "cellId": 16,
     "hash": "70f5428fef6c3122bc9bea9b480e3c3830246dcb",
     "reason": "The cell uses a name that does not exist in this notebook. Using a name that does not exist prevents the reproducibility of the notebook.",
     "reportId": "h6",
     "reportType": "hiddenstate",
     "suggestion": "Please consider defining them to guarantee the reproducibility.",
     "text": "Cell 16 has the following undefined names: 'format_articles'"
    },
    {
     "cellId": 27,
     "hash": "24a63f893c1977b2e2730db1c9bf386e1f949a38",
     "reason": "A skip in the execution count might indicate the presence of a hidden state caused by a cell that does not exist anymore. Hidden states might prevent cells from executing or producing the same results, hampering the reproducibility.",
     "reportId": "h4",
     "reportType": "hiddenstate",
     "suggestion": "Please consider re-running the notebook to guarantee the reproducibility.",
     "text": "Cell 27 skips the execution count"
    },
    {
     "cellId": 30,
     "hash": "a2fe9fa8c19b108a529c1d8466369224efc65980",
     "reason": "A skip in the execution count might indicate the presence of a hidden state caused by a cell that does not exist anymore. Hidden states might prevent cells from executing or producing the same results, hampering the reproducibility.",
     "reportId": "h4",
     "reportType": "hiddenstate",
     "suggestion": "Please consider re-running the notebook to guarantee the reproducibility.",
     "text": "Cell 30 skips the execution count"
    },
    {
     "cellId": 29,
     "hash": "721af94d0453ad732ac265f59da78da49d3ed58e",
     "reason": "A skip in the execution count might indicate the presence of a hidden state caused by a cell that does not exist anymore. Hidden states might prevent cells from executing or producing the same results, hampering the reproducibility.",
     "reportId": "h4",
     "reportType": "hiddenstate",
     "suggestion": "Please consider re-running the notebook to guarantee the reproducibility.",
     "text": "Cell 29 skips the execution count"
    }
   ],
   "hash": "663f266bc7620d7f3c077fbcce2dc068cbe7ef02",
   "visible": [
    {
     "cellId": "group",
     "hash": "19d3d3d153f22e318cbe061df9e685ba5165b0aa",
     "reason": "This groups other lint messages",
     "reportId": "group",
     "reportType": "confusenotebook",
     "suggestion": null,
     "text": "Confuse Notebook"
    },
    {
     "cellId": 23,
     "hash": "3a8722f51787b16b869f7e530dba4ddde2d22598",
     "reason": "When you try to run all cells following the top-down order, non-executed cells might fail to execute or produce different results, hampering the reproducibility.",
     "reportId": "c1",
     "reportType": "confusenotebook",
     "suggestion": "Please consider cleaning it to guarantee the reproducibility.",
     "text": "Cell 23 is a non-executed cell among executed ones"
    },
    {
     "cellId": 25,
     "hash": "e0fc3e48f48757299537f15ba3b2dff8597bc1c7",
     "reason": "When you try to run all cells following the top-down order, non-executed cells might fail to execute or produce different results, hampering the reproducibility.",
     "reportId": "c1",
     "reportType": "confusenotebook",
     "suggestion": "Please consider cleaning it to guarantee the reproducibility.",
     "text": "Cell 25 is a non-executed cell among executed ones"
    },
    {
     "cellId": 30,
     "hash": "c62f35ef74c8e18683c5a59ed7dac83f2ad706a1",
     "reason": "When you try to run all cells following the top-down order, cells in the wrong order might fail to execute or produce different results, hampering the reproducibility.",
     "reportId": "c2",
     "reportType": "confusenotebook",
     "suggestion": "Please consider re-running the notebook to guarantee the reproducibility.",
     "text": "Cell 30 has the execution count 16 in the wrong order"
    },
    {
     "cellId": 30,
     "hash": "14647c7731fb3de764929d4e35755457490fe552",
     "reason": "A markdown cell at the end of the notebook can conclude it, presenting a summary of the obtained results.",
     "reportId": "c5",
     "reportType": "confusenotebook",
     "suggestion": "Please consider adding a markdown cell to conclude the notebook.",
     "text": "The last cell of the notebook is not a markdown cell"
    },
    {
     "cellId": "group",
     "hash": "d6fbc9d2bdd580e18ed0bc5805dc26db323d6f5f",
     "reason": "This groups other lint messages",
     "reportId": "group",
     "reportType": "import",
     "suggestion": null,
     "text": "Import"
    },
    {
     "cellId": 2,
     "hash": "b2f4dc8a4404a45934a19ebb1df919469b2cee2c",
     "reason": "Imports at the beginning of the notebook allow for a quick failure in the case of a non-installed dependency. It prevents users from stopping their executions for installing dependencies. Additionally, imports in the middle might reduce notebooks' readability by taking the attention from the logic to the import constructs.",
     "reportId": "i1",
     "reportType": "import",
     "suggestion": "Please consider moving the import to the first cell of the notebook.",
     "text": "Cell 2 has imports but it is not the first cell"
    }
   ]
  },
  "kernelspec": {
   "display_name": "Python 3",
   "language": "python",
   "name": "python3"
  },
  "language_info": {
   "codemirror_mode": {
    "name": "ipython",
    "version": 3
   },
   "file_extension": ".py",
   "mimetype": "text/x-python",
   "name": "python",
   "nbconvert_exporter": "python",
   "pygments_lexer": "ipython3",
   "version": "3.8.5"
  }
 },
 "nbformat": 4,
 "nbformat_minor": 4
}
