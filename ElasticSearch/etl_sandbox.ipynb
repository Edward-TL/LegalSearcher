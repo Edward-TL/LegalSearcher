{
 "cells": [
  {
   "cell_type": "markdown",
   "metadata": {},
   "source": [
    "# ETL sandbox\n",
    "\n",
    "Here you can find all the ETL process than transforms a txt file of the Colombian Constitution into an index on a Elastic Search Server ESS. In case you don't have any ESS, or want to make local loads, you can use a docker image. Something to clarify, if you want to use this notebook to create json documents from .txt files, they must have the next hierarchy structure:\n",
    "\n",
    "```\n",
    "hierarchy = {\n",
    "    'TITULO' : 'headline',\n",
    "    'DISPOSICIONES' : 'headline',\n",
    "    'CAPITULO' : 'chapter',\n",
    "    'ARTÍCULO' : 'article'\n",
    "\n",
    "}\n",
    "```\n",
    "\n",
    "An important consideration to have in mind, is that here, this order represents the head level of each clasification. In other words, headline is an _\"h1\"_ on html, chapter an _\"h2\"_ and article would be a _\"p\"_.\n",
    "\n",
    "## Importing libraries and tools.\n",
    "\n",
    "About the libraries and needed to run the main project, as the convensions says, are listed on the requirements.txt file. Here the only library that is not installed on python's kernel is [tabulate](https://pypi.org/project/tabulate/). To install it you can use \n",
    "```\n",
    "pip install tabulate\n",
    "```\n",
    "\n",
    "or\n",
    "\n",
    "```\n",
    "pip3 install tabulate\n",
    "```\n",
    "\n",
    "About support."
   ]
  },
  {
   "cell_type": "code",
   "execution_count": 23,
   "metadata": {},
   "outputs": [
    {
     "name": "stdout",
     "output_type": "stream",
     "text": [
      "Requirement already satisfied: tabulate in /home/edwardtl/.local/lib/python3.8/site-packages (0.8.9)\n"
     ]
    }
   ],
   "source": [
    "!pip3 install tabulate\n",
    "from classifier import *\n",
    "from os import path\n",
    "from support import *\n",
    "from tabulate import tabulate"
   ]
  },
  {
   "cell_type": "code",
   "execution_count": 24,
   "metadata": {},
   "outputs": [],
   "source": [
    "import requests\n",
    "import json"
   ]
  },
  {
   "cell_type": "markdown",
   "metadata": {},
   "source": [
    "## Extracting the data.\n",
    "\n",
    "A simple use of the path kernel tools. Having this here, it won't matter that the root path has change from computer, the file with the constitution will be loaded to our program with no inconvenience.\n",
    "\n",
    "Another consideration taking place here, is the removal of the Main title of the text: \"Constitucion Politica de Colombia\", because it don't give any relevance but redundancy."
   ]
  },
  {
   "cell_type": "code",
   "execution_count": null,
   "metadata": {},
   "outputs": [],
   "source": []
  },
  {
   "cell_type": "code",
   "execution_count": 25,
   "metadata": {},
   "outputs": [
    {
     "name": "stdout",
     "output_type": "stream",
     "text": [
      "Original len: 2742\n",
      "Total elements: 1353 \n",
      "----------------------\n"
     ]
    },
    {
     "data": {
      "text/plain": [
       "['TITULO I\\n',\n",
       " 'DE LOS PRINCIPIOS FUNDAMENTALES\\n',\n",
       " 'Artículo 1. Colombia es un Estado social de derecho, organizado en forma de República unitaria, descentralizada, con autonomía de sus entidades territoriales, democrática, participativa y pluralista, fundada en el respeto de la dignidad humana, en el trabajo y la solidaridad de las personas que la integran y en la prevalencia del interés general.\\n',\n",
       " 'Artículo 2. Son fines esenciales del Estado: servir a la comunidad, promover la prosperidad general y garantizar la efectividad de los principios, derechos y deberes consagrados en la Constitución; facilitar la participación de todos en las decisiones que los afectan y en la vida económica, política, administrativa y cultural de la Nación; defender la independencia nacional, mantener la integridad territorial y asegurar la convivencia pacifica y la vigencia de un orden justo.\\n',\n",
       " 'Las autoridades de la República están instituidas para proteger a todas las personas residentes en Colombia, en su vida, honra, bienes, creencias, y demás derechos y libertades, y para asegurar el cumplimiento de los deberes sociales del Estado y de los particulares.\\n']"
      ]
     },
     "execution_count": 25,
     "metadata": {},
     "output_type": "execute_result"
    }
   ],
   "source": [
    "root_folder = \"LegalSearcher/ReadFiles\"\n",
    "constitution_f = f'../ReadFiles/constitucion_colombiana.txt'\n",
    "\n",
    "filepath = path.abspath(constitution_f)\n",
    "\n",
    "with open(filepath, 'r') as f:\n",
    "    or_text = f.readlines()\n",
    "\n",
    "    f.close()\n",
    "\n",
    "print('Original len:', len(or_text))\n",
    "text = []\n",
    "\n",
    "for line in or_text:\n",
    "    if line != '\\n':\n",
    "        if line != ' \\n':\n",
    "            text.append(line)\n",
    "\n",
    "# Drop the title \"Constitucion Politica de Colombia\"\n",
    "text.pop(0)\n",
    "print('Total elements:', len(text), '\\n----------------------')\n",
    "\n",
    "# Caso en particular\n",
    "text[:5]"
   ]
  },
  {
   "cell_type": "markdown",
   "metadata": {},
   "source": [
    "Here it takes place the first metric: the original len of the elements in file. What is at the sigth, the headlines of Titles does not use a final period before ending the line.\n",
    "\n",
    "### Considerations for EDA.\n",
    "In order to give support and remove the noises in data for EDA process, the paragraph of the text will be splited by periods \".\" and dot-comma \";\". This is decided in the search of the best granularity for the embeddings model. Looking trough the metrics, the split is made by punctuation mark."
   ]
  },
  {
   "cell_type": "code",
   "execution_count": 26,
   "metadata": {
    "scrolled": true
   },
   "outputs": [
    {
     "name": "stdout",
     "output_type": "stream",
     "text": [
      "Total elements: 3593 \n",
      "----------------------\n"
     ]
    },
    {
     "data": {
      "text/plain": [
       "['TITULO I\\n',\n",
       " 'DE LOS PRINCIPIOS FUNDAMENTALES\\n',\n",
       " 'Artículo 1.',\n",
       " ' Colombia es un Estado social de derecho, organizado en forma de República unitaria, descentralizada, con autonomía de sus entidades territoriales, democrática, participativa y pluralista, fundada en el respeto de la dignidad humana, en el trabajo y la solidaridad de las personas que la integran y en la prevalencia del interés general.',\n",
       " '\\n.']"
      ]
     },
     "execution_count": 26,
     "metadata": {},
     "output_type": "execute_result"
    }
   ],
   "source": [
    "dot_text = split_text_in_lines(text, delimiter=\".\")\n",
    "print('Total elements:', len(dot_text), '\\n----------------------')\n",
    "dot_text[:5]"
   ]
  },
  {
   "cell_type": "markdown",
   "metadata": {},
   "source": [
    "And here jumps a noise. Yes, the function was made to consider this issues of the line break (\"\\n\"). Having it before helps in Frontend at the process of renderizing, but here it brings just noice. In order to remove it, and adjusting the sentences by removing the space at the begging, result of the splitter, the next process will be executed:\n",
    "    \n",
    "    1) Remove de line breaks \"\\n.\".\n",
    "    2) Remove the space at the begging.\n",
    "    3) Remove the line breaks ('\\n') on headlines and chapters.\n",
    "    4) Print the true len of the dot_text.\n",
    "    5) Generate the dcomma_text, and extract the len of it."
   ]
  },
  {
   "cell_type": "code",
   "execution_count": 27,
   "metadata": {},
   "outputs": [],
   "source": [
    "# dot_text = [ element for element in dot_text if element != '\\n.']\n",
    "\n",
    "\n",
    "# dot_text = [ element[1:] if element[0] == ' ' else element for element in dot_text]"
   ]
  },
  {
   "cell_type": "code",
   "execution_count": 28,
   "metadata": {
    "scrolled": true
   },
   "outputs": [
    {
     "name": "stdout",
     "output_type": "stream",
     "text": [
      "Original elements in dot_text: 3593 \n",
      "----------------------\n",
      "Total elements: 2458 \n",
      "----------------------\n",
      "Total elements: 2550 \n",
      "----------------------\n"
     ]
    }
   ],
   "source": [
    "# Remembering the original len\n",
    "print('Original elements in dot_text:', len(dot_text), '\\n----------------------')\n",
    "\n",
    "ndot_text = []\n",
    "index = 0\n",
    "for line in dot_text:\n",
    "    # Step 1: Remove de line breaks \"\\n.\".\n",
    "    if line == '\\n.':\n",
    "        pass\n",
    "    elif len(line) == 0:\n",
    "        pass\n",
    "    # Step 2:Remove the space at the begging.\n",
    "    elif  line[0] == ' ':\n",
    "        ndot_text.append(line[1:])\n",
    "    # Step 3:Remove the \\n for headlines and chapters\n",
    "\n",
    "    elif line[-1:] == '\\n':\n",
    "        # Some elements are just line breaks, and adding the condition into\n",
    "        # an \"AND\" on the if doesn't remove it\n",
    "        if len(line) > 2:\n",
    "            ndot_text.append(line.rstrip(\"\\n\"))\n",
    "    # Nothing to change\n",
    "    else:\n",
    "        ndot_text.append(line)\n",
    "    index += 1\n",
    "# Step 3: Print the true len of the dot_text.\n",
    "print('Total elements:', len(ndot_text), '\\n----------------------')\n",
    "\n",
    "index = 0\n",
    "\n",
    "for line in ndot_text:\n",
    "    # Step 1: Remove de line breaks \"\\n.\".\n",
    "    if line == '\\n.':\n",
    "        ndot_text.pop(index)\n",
    "    index +=1\n",
    "\n",
    "# Step 4: Generate the dcomma_text, and extract the len of it.\n",
    "dcomma_text = split_text_in_lines(ndot_text, delimiter=\";\")\n",
    "print('Total elements:', len(dcomma_text), '\\n----------------------')\n"
   ]
  },
  {
   "cell_type": "markdown",
   "metadata": {},
   "source": [
    "### The problem between Frontend, Elastic Search and Data Science.\n",
    "\n",
    "The problem here, is that this data will give to the frontend more work to do in order to know which element join and which add a line breaker. This problem shows the reason of not deleting the original text list."
   ]
  },
  {
   "cell_type": "markdown",
   "metadata": {},
   "source": [
    "## Transforming the articles into python dictionaries.\n",
    "\n",
    "For this process, the classifier filters through the hierarchy dictionary shown at the beggining. Fortunately, the constitution could be watched as an semi-structured data base if you make a fast check.\n",
    "\n",
    "The logic of this is that every headline will start with _**\"TITULO\"**_, except for the last one that is _**\"DISPOSICIONES\"**_. On the other side, every chapter and article starts with the words _**\"CAPITULO\"**_ and _**\"Articulo\"**_. Considereing this, every other word (or digit of an ordered list) at the beggining of any paragraph means that it is on the last article mentioned.\n",
    "\n",
    "```\n",
    "hierarchy = {\n",
    "    'TITULO' : 'headline',\n",
    "    'DISPOSICIONES' : 'headline',\n",
    "    'CAPITULO' : 'chapter',\n",
    "    'ARTÍCULO' : 'article'\n",
    "\n",
    "}\n",
    "```"
   ]
  },
  {
   "cell_type": "code",
   "execution_count": 29,
   "metadata": {
    "scrolled": true,
    "tags": []
   },
   "outputs": [
    {
     "name": "stdout",
     "output_type": "stream",
     "text": [
      "total articles =  440\n"
     ]
    }
   ],
   "source": [
    "const_info = {\n",
    "        'id': \"constitucion\",\n",
    "        'source_name': \"Constitución Política de Colombia\",\n",
    "    }\n",
    "\n",
    "art_list = articles_info(const_info, text, debugging=False)\n",
    "\n",
    "print('total articles = ', len(art_list))"
   ]
  },
  {
   "cell_type": "markdown",
   "metadata": {},
   "source": [
    "### Overview of the articles dictionary.\n",
    "Every article dictionary has the next structure:"
   ]
  },
  {
   "cell_type": "code",
   "execution_count": 30,
   "metadata": {},
   "outputs": [
    {
     "data": {
      "text/plain": [
       "{'index': 'constitucion',\n",
       " 'legal_source': 'Constitución Política de Colombia',\n",
       " 'id': 'constitucion00000203000079',\n",
       " 'book': {'title': None, 'name': None, 'count': 0},\n",
       " 'part': {'title': None, 'name': None, 'count': 0},\n",
       " 'headline': {'title': 'DISPOSICIONES TRANSITORIAS\\n',\n",
       "  'name': 'DE LA REFORMA DE LA CONSTITUCION\\n',\n",
       "  'count': 14},\n",
       " 'chapter': {'title': 'CAPITULO 5\\n',\n",
       "  'name': 'DE LOS DEBERES Y OBLIGACIONES\\n',\n",
       "  'count': 5},\n",
       " 'section': {'title': None, 'name': None, 'count': 0},\n",
       " 'article': {'name': 'Artículo 79.',\n",
       "  'content': ['Artículo 79. Todas las personas tienen derecho a gozar de un ambiente sano. La ley garantizará la participación de la comunidad en las decisiones que puedan afectarlo.\\n',\n",
       "   'Es deber del Estado proteger la diversidad e integridad del ambiente, conservar las áreas de especial importancia ecológica y fomentar la educación para el logro de estos fines.\\n']}}"
      ]
     },
     "execution_count": 30,
     "metadata": {},
     "output_type": "execute_result"
    }
   ],
   "source": [
    "art_list[78]"
   ]
  },
  {
   "cell_type": "markdown",
   "metadata": {},
   "source": [
    "Because of this structure, every component of the article can be consulted following python's methods of key-value. \n",
    "\n",
    "The variable \"first\" is referes to the first article that wants to be checked.\n",
    "If last_pl has fist on it, this will return only the article numbered at first"
   ]
  },
  {
   "cell_type": "code",
   "execution_count": 31,
   "metadata": {
    "scrolled": true
   },
   "outputs": [
    {
     "name": "stdout",
     "output_type": "stream",
     "text": [
      "Article No 13: \n",
      " id:  constitucion00000201000013 \n",
      " DISPOSICIONES TRANSITORIAS\n",
      " DE LA REFORMA DE LA CONSTITUCION\n",
      " \n",
      " CAPITULO 5\n",
      " DE LOS DEBERES Y OBLIGACIONES\n",
      " \n",
      " Artículo 13. ['Artículo 13. Todas las personas nacen libres e iguales ante la ley, recibirán la misma protección y trato de las autoridades y gozarán de los mismos derechos, libertades y oportunidades sin ninguna discriminación por razones de sexo, raza, origen nacional o familiar, lengua, religión, opinión política o filosófica.\\n', 'El Estado promoverá las condiciones para que la igualdad sea real y efectiva y adoptara medidas en favor de grupos discriminados o marginados.\\n', 'El Estado protegerá especialmente a aquellas personas que por su condición económica, física o mental, se encuentren en circunstancia de debilidad manifiesta y sancionará los abusos o maltratos que contra ellas se cometan.\\n']\n",
      "\n",
      "--------------------------------------\n",
      "\n"
     ]
    }
   ],
   "source": [
    "art = 12\n",
    "print(f'Article No {art+1}: \\n',\n",
    "      \"id: \", art_list[art]['id'],\"\\n\",\n",
    "      #\"lexical_diversity: \", art_list[art]['article']['lexical_diversity'],\"\\n\",\n",
    "      art_list[art]['headline']['title'],art_list[art]['headline']['name'],\"\\n\",\n",
    "      art_list[art]['chapter']['title'],art_list[art]['chapter']['name'],\"\\n\",\n",
    "      art_list[art]['article']['name'],art_list[art]['article']['content'])\n",
    "print('\\n--------------------------------------\\n')"
   ]
  },
  {
   "cell_type": "markdown",
   "metadata": {},
   "source": [
    "In case you want to explore more about the articles and check by your self, here you can use the benefit of having all the dictionaries on a list. Select your range of interest by changing the first and last article of interest. Remember that list starts at 0, so remove 1 if you have an specific article on mind."
   ]
  },
  {
   "cell_type": "code",
   "execution_count": 32,
   "metadata": {},
   "outputs": [
    {
     "name": "stdout",
     "output_type": "stream",
     "text": [
      "Article No 2: \n",
      " id:  constitucion00000100000001 \n",
      " DISPOSICIONES TRANSITORIAS\n",
      " DE LA REFORMA DE LA CONSTITUCION\n",
      " \n",
      " None None \n",
      " Artículo 1. ['Artículo 1. Colombia es un Estado social de derecho, organizado en forma de República unitaria, descentralizada, con autonomía de sus entidades territoriales, democrática, participativa y pluralista, fundada en el respeto de la dignidad humana, en el trabajo y la solidaridad de las personas que la integran y en la prevalencia del interés general.\\n']\n",
      "\n",
      "--------------------------------------\n",
      "\n",
      "Article No 3: \n",
      " id:  constitucion00000100000002 \n",
      " DISPOSICIONES TRANSITORIAS\n",
      " DE LA REFORMA DE LA CONSTITUCION\n",
      " \n",
      " None None \n",
      " Artículo 2. ['Artículo 2. Son fines esenciales del Estado: servir a la comunidad, promover la prosperidad general y garantizar la efectividad de los principios, derechos y deberes consagrados en la Constitución; facilitar la participación de todos en las decisiones que los afectan y en la vida económica, política, administrativa y cultural de la Nación; defender la independencia nacional, mantener la integridad territorial y asegurar la convivencia pacifica y la vigencia de un orden justo.\\n', 'Las autoridades de la República están instituidas para proteger a todas las personas residentes en Colombia, en su vida, honra, bienes, creencias, y demás derechos y libertades, y para asegurar el cumplimiento de los deberes sociales del Estado y de los particulares.\\n']\n",
      "\n",
      "--------------------------------------\n",
      "\n"
     ]
    }
   ],
   "source": [
    "first_art = 1\n",
    "last_art = 3\n",
    "for n in range(len( art_list[first_art : last_art] )):\n",
    "    article = art_list[n]\n",
    "    art_number = n + 1\n",
    "    \n",
    "    print_article(art_number, article)"
   ]
  },
  {
   "cell_type": "markdown",
   "metadata": {},
   "source": [
    "Here results notorious the advantage to Frontend of mantain the libe breaks. There is no problem rendering the text. But what about Data Science? How Elastic Search will know where to check with a embedding model?"
   ]
  },
  {
   "cell_type": "markdown",
   "metadata": {},
   "source": [
    "### Adding the embeding model to the articles dictionary\n",
    "\n",
    "Using the same tool, the embedding model will be made with the splitted text dcomma_text"
   ]
  },
  {
   "cell_type": "code",
   "execution_count": 33,
   "metadata": {
    "scrolled": true
   },
   "outputs": [
    {
     "name": "stdout",
     "output_type": "stream",
     "text": [
      "total articles =  440\n"
     ]
    }
   ],
   "source": [
    "embed_list = articles_info(const_info, text, debugging=False)\n",
    "print('total articles = ', len(embed_list))"
   ]
  },
  {
   "cell_type": "code",
   "execution_count": 34,
   "metadata": {},
   "outputs": [
    {
     "data": {
      "text/plain": [
       "['1.', 'Elegir y ser elegido.']"
      ]
     },
     "execution_count": 34,
     "metadata": {},
     "output_type": "execute_result"
    }
   ],
   "source": [
    "dcomma_text[143:145]"
   ]
  },
  {
   "cell_type": "markdown",
   "metadata": {},
   "source": [
    "Using the zipping tool, adding the embedding to a new key in the articles dictionary will result easy."
   ]
  },
  {
   "cell_type": "code",
   "execution_count": 35,
   "metadata": {},
   "outputs": [],
   "source": [
    "for embed, article in zip(embed_list, art_list):\n",
    "    article['dot_comma_sep'] = embed['article']['content']"
   ]
  },
  {
   "cell_type": "code",
   "execution_count": 36,
   "metadata": {},
   "outputs": [
    {
     "data": {
      "text/plain": [
       "{'index': 'constitucion',\n",
       " 'legal_source': 'Constitución Política de Colombia',\n",
       " 'id': 'constitucion00000203000079',\n",
       " 'book': {'title': None, 'name': None, 'count': 0},\n",
       " 'part': {'title': None, 'name': None, 'count': 0},\n",
       " 'headline': {'title': 'DISPOSICIONES TRANSITORIAS\\n',\n",
       "  'name': 'DE LA REFORMA DE LA CONSTITUCION\\n',\n",
       "  'count': 14},\n",
       " 'chapter': {'title': 'CAPITULO 5\\n',\n",
       "  'name': 'DE LOS DEBERES Y OBLIGACIONES\\n',\n",
       "  'count': 5},\n",
       " 'section': {'title': None, 'name': None, 'count': 0},\n",
       " 'article': {'name': 'Artículo 79.',\n",
       "  'content': ['Artículo 79. Todas las personas tienen derecho a gozar de un ambiente sano. La ley garantizará la participación de la comunidad en las decisiones que puedan afectarlo.\\n',\n",
       "   'Es deber del Estado proteger la diversidad e integridad del ambiente, conservar las áreas de especial importancia ecológica y fomentar la educación para el logro de estos fines.\\n']},\n",
       " 'dot_comma_sep': ['Artículo 79. Todas las personas tienen derecho a gozar de un ambiente sano. La ley garantizará la participación de la comunidad en las decisiones que puedan afectarlo.\\n',\n",
       "  'Es deber del Estado proteger la diversidad e integridad del ambiente, conservar las áreas de especial importancia ecológica y fomentar la educación para el logro de estos fines.\\n']}"
      ]
     },
     "execution_count": 36,
     "metadata": {},
     "output_type": "execute_result"
    }
   ],
   "source": [
    "art_list[78]"
   ]
  },
  {
   "cell_type": "markdown",
   "metadata": {},
   "source": [
    "### Elastic Search format.\n",
    "\n",
    "In case that there is something that needs to be removed, like the lexical_diversity, you will have to edit the original function of **format_articles**. This because, this function is designed _ad hoc_, and other considerations will be time invested on something that won't increment the efficiency but presentation."
   ]
  },
  {
   "cell_type": "code",
   "execution_count": 37,
   "metadata": {
    "scrolled": true
   },
   "outputs": [],
   "source": [
    "levels = { 'book','part', 'headline', 'chapter', 'section', 'article' }\n",
    "json_list = format_articles(art_list, headers_dict=levels, debugging=False)"
   ]
  },
  {
   "cell_type": "markdown",
   "metadata": {},
   "source": [
    "## Load and storage of data.\n",
    "By the time this notebook is written (not finished yet according to plan), the json file that will contain all the articles transformed is storaged on the same folder. This for nothing more than cosiness of checking only the files on the same folder and no opening any other tab."
   ]
  },
  {
   "cell_type": "code",
   "execution_count": 38,
   "metadata": {},
   "outputs": [],
   "source": [
    "dict_json = json.dumps(json_list, ensure_ascii=False)\n",
    "\n",
    "root_folder = \"LegalSearcher/ReadFiles/Embeddings\"\n",
    "embedding_f = f'../ReadFiles/Embeddings/constitucion-embedding.json'\n",
    "\n",
    "filepath = path.abspath(embedding_f)\n",
    "\n",
    "\n",
    "file = open(embedding_f, \"w\")\n",
    "file.write(dict_json)\n",
    "file.close()"
   ]
  },
  {
   "cell_type": "markdown",
   "metadata": {},
   "source": [
    "### Quick check of the articles state\n",
    "Here is observed that the lexical_diversity is removed and that objects that every cathegory has."
   ]
  },
  {
   "cell_type": "code",
   "execution_count": 39,
   "metadata": {},
   "outputs": [
    {
     "name": "stdout",
     "output_type": "stream",
     "text": [
      "index : constitucion\n",
      "legal_source : Constitución Política de Colombia\n",
      "id : constitucion00000100000002\n",
      "headline : {'title': 'DISPOSICIONES TRANSITORIAS\\n', 'name': 'DE LA REFORMA DE LA CONSTITUCION\\n'}\n",
      "section : {'title': None, 'name': None}\n",
      "book : {'title': None, 'name': None}\n",
      "chapter : {'title': None, 'name': None}\n",
      "part : {'title': None, 'name': None}\n",
      "article : {'name': 'Artículo 2.', 'content': ['Artículo 2. Son fines esenciales del Estado: servir a la comunidad, promover la prosperidad general y garantizar la efectividad de los principios, derechos y deberes consagrados en la Constitución; facilitar la participación de todos en las decisiones que los afectan y en la vida económica, política, administrativa y cultural de la Nación; defender la independencia nacional, mantener la integridad territorial y asegurar la convivencia pacifica y la vigencia de un orden justo.\\n', 'Las autoridades de la República están instituidas para proteger a todas las personas residentes en Colombia, en su vida, honra, bienes, creencias, y demás derechos y libertades, y para asegurar el cumplimiento de los deberes sociales del Estado y de los particulares.\\n']}\n",
      "dot_comma_sep : ['Artículo 2. Son fines esenciales del Estado: servir a la comunidad, promover la prosperidad general y garantizar la efectividad de los principios, derechos y deberes consagrados en la Constitución; facilitar la participación de todos en las decisiones que los afectan y en la vida económica, política, administrativa y cultural de la Nación; defender la independencia nacional, mantener la integridad territorial y asegurar la convivencia pacifica y la vigencia de un orden justo.\\n', 'Las autoridades de la República están instituidas para proteger a todas las personas residentes en Colombia, en su vida, honra, bienes, creencias, y demás derechos y libertades, y para asegurar el cumplimiento de los deberes sociales del Estado y de los particulares.\\n']\n"
     ]
    }
   ],
   "source": [
    "article = json_list[1]\n",
    "for key, value in article.items():\n",
    "    print(key, ':', value)"
   ]
  },
  {
   "cell_type": "markdown",
   "metadata": {},
   "source": [
    "### Load of articles to localhost\n",
    "Here it will be used the PUT method, in order to make the index in Elastic Search the same as in our Data Base. For it, the local_url variable would be a formated string, where the article id will be added for every iteration.\n",
    "\n",
    "In order to watch the result of every _\"put request\"_, log_info will be created in order to be used with the **tabulate** tool. In case there is no error, that column will be empty."
   ]
  },
  {
   "cell_type": "code",
   "execution_count": 40,
   "metadata": {},
   "outputs": [],
   "source": [
    "log_info = {'id': None,\n",
    "            'status': None,\n",
    "            'error': None,\n",
    "            'message': None,\n",
    "            }"
   ]
  },
  {
   "cell_type": "markdown",
   "metadata": {},
   "source": [
    "Something to consider is the fact that a succesfull load of an article, will not return a status code of 200, instead, it will return a success document with all the data of the new object created or overwrited."
   ]
  },
  {
   "cell_type": "code",
   "execution_count": 41,
   "metadata": {
    "scrolled": true
   },
   "outputs": [],
   "source": [
    "for article in json_list:\n",
    "    es_article_url = f\"http://localhost:9200/test_all/_doc/{article['id']}\"\n",
    "    request_response = requests.put(es_article_url, json=article)\n",
    "    log_info = add_to_log(log_info, request_response, article)\n",
    "\n",
    "# print(tabulate(log_info, headers='keys'))"
   ]
  },
  {
   "cell_type": "markdown",
   "metadata": {},
   "source": [
    "## Query test to Elastic Search\n",
    "In order to confirm the state of our info, here it will be made an Elastic Search query. The request will be past on a python dict trough json attribute. The query word in this case will be \"Colombia\", being the most obvious word to appear on the Colombian Constitution."
   ]
  },
  {
   "cell_type": "code",
   "execution_count": 42,
   "metadata": {},
   "outputs": [],
   "source": [
    "local_test = \"http://localhost:9200/test_all/_search\"\n",
    "query_test = {\n",
    "    \"query\": {\n",
    "        \"simple_query_string\": {\n",
    "            \"query\": \"Constitucion\"\n",
    "        }\n",
    "    }\n",
    "}\n",
    "query_test = requests.get(local_test, json=query_test)"
   ]
  },
  {
   "cell_type": "markdown",
   "metadata": {},
   "source": [
    "Because the query text is a little \"dirty\", it will be share at the end as a commented line, in case you desire to look at the content, just uncoment the last cell. A cleaner view, is to call the relevant data for now, like it will be the number of articles that match with the query, the max score, and the best article rated."
   ]
  },
  {
   "cell_type": "code",
   "execution_count": 43,
   "metadata": {},
   "outputs": [
    {
     "name": "stdout",
     "output_type": "stream",
     "text": [
      "440\n",
      "0.0007571456\n"
     ]
    },
    {
     "data": {
      "text/plain": [
       "{'_index': 'test_all',\n",
       " '_type': '_doc',\n",
       " '_id': 'constitucion00000100000001',\n",
       " '_score': 0.0007571456,\n",
       " '_source': {'index': 'constitucion',\n",
       "  'legal_source': 'Constitución Política de Colombia',\n",
       "  'id': 'constitucion00000100000001',\n",
       "  'headline': {'title': 'DISPOSICIONES TRANSITORIAS\\n',\n",
       "   'name': 'DE LA REFORMA DE LA CONSTITUCION\\n'},\n",
       "  'section': {'title': None, 'name': None},\n",
       "  'book': {'title': None, 'name': None},\n",
       "  'chapter': {'title': None, 'name': None},\n",
       "  'part': {'title': None, 'name': None},\n",
       "  'article': {'name': 'Artículo 1.',\n",
       "   'content': ['Artículo 1. Colombia es un Estado social de derecho, organizado en forma de República unitaria, descentralizada, con autonomía de sus entidades territoriales, democrática, participativa y pluralista, fundada en el respeto de la dignidad humana, en el trabajo y la solidaridad de las personas que la integran y en la prevalencia del interés general.\\n']},\n",
       "  'dot_comma_sep': ['Artículo 1. Colombia es un Estado social de derecho, organizado en forma de República unitaria, descentralizada, con autonomía de sus entidades territoriales, democrática, participativa y pluralista, fundada en el respeto de la dignidad humana, en el trabajo y la solidaridad de las personas que la integran y en la prevalencia del interés general.\\n']}}"
      ]
     },
     "execution_count": 43,
     "metadata": {},
     "output_type": "execute_result"
    }
   ],
   "source": [
    "result = json.loads(query_test.text)\n",
    "print(result['hits']['total']['value'])\n",
    "print(result['hits']['max_score'])\n",
    "best_rated = result['hits']['hits'][0]\n",
    "best_rated"
   ]
  },
  {
   "cell_type": "code",
   "execution_count": 44,
   "metadata": {},
   "outputs": [],
   "source": [
    "# query_test.text"
   ]
  }
 ],
 "metadata": {
  "julynter-check-type-hiddenstate": false,
  "julynter-check-view": false,
  "julynter-results": {
   "filteredId": [],
   "filteredIndividual": [],
   "filteredRestart": [],
   "filteredType": [
    {
     "cellId": 1,
     "hash": "f82e9c7243c35e7a40974f12784b61ad3c07811f",
     "reason": "A cell with results of a previous session may fail to execute or produce different results in this one, hampering the reproducibility.",
     "reportId": "h1",
     "reportType": "hiddenstate",
     "suggestion": "Please consider executing it to guarantee the reproducibility.",
     "text": "Cell 1 has execution results, but it wasn't executed on this session"
    },
    {
     "cellId": 2,
     "hash": "c66388847eb5bc9bc47316cea720a15f887bee32",
     "reason": "A cell with results of a previous session may fail to execute or produce different results in this one, hampering the reproducibility.",
     "reportId": "h1",
     "reportType": "hiddenstate",
     "suggestion": "Please consider executing it to guarantee the reproducibility.",
     "text": "Cell 2 has execution results, but it wasn't executed on this session"
    },
    {
     "cellId": 5,
     "hash": "c3c7be6548be0024154bf31b872804c479e870d9",
     "reason": "A cell with results of a previous session may fail to execute or produce different results in this one, hampering the reproducibility.",
     "reportId": "h1",
     "reportType": "hiddenstate",
     "suggestion": "Please consider executing it to guarantee the reproducibility.",
     "text": "Cell 5 has execution results, but it wasn't executed on this session"
    },
    {
     "cellId": 7,
     "hash": "92b679492593f525598e87f2e309379d0b6b7e00",
     "reason": "A cell with results of a previous session may fail to execute or produce different results in this one, hampering the reproducibility.",
     "reportId": "h1",
     "reportType": "hiddenstate",
     "suggestion": "Please consider executing it to guarantee the reproducibility.",
     "text": "Cell 7 has execution results, but it wasn't executed on this session"
    },
    {
     "cellId": 9,
     "hash": "47ca1438536df587898c7f5bb5b8d0e7a65b6cf8",
     "reason": "A cell with results of a previous session may fail to execute or produce different results in this one, hampering the reproducibility.",
     "reportId": "h1",
     "reportType": "hiddenstate",
     "suggestion": "Please consider executing it to guarantee the reproducibility.",
     "text": "Cell 9 has execution results, but it wasn't executed on this session"
    },
    {
     "cellId": 10,
     "hash": "51ac60e6b3a1f4cd8d5b813fa86479c3baf6ae15",
     "reason": "A cell with results of a previous session may fail to execute or produce different results in this one, hampering the reproducibility.",
     "reportId": "h1",
     "reportType": "hiddenstate",
     "suggestion": "Please consider executing it to guarantee the reproducibility.",
     "text": "Cell 10 has execution results, but it wasn't executed on this session"
    },
    {
     "cellId": 13,
     "hash": "38162998aea815dbe0be7961206e2499ae430bc0",
     "reason": "A cell with results of a previous session may fail to execute or produce different results in this one, hampering the reproducibility.",
     "reportId": "h1",
     "reportType": "hiddenstate",
     "suggestion": "Please consider executing it to guarantee the reproducibility.",
     "text": "Cell 13 has execution results, but it wasn't executed on this session"
    },
    {
     "cellId": 15,
     "hash": "5ab48afffffcaddd17cb2159d622dbb8dc8300d9",
     "reason": "A cell with results of a previous session may fail to execute or produce different results in this one, hampering the reproducibility.",
     "reportId": "h1",
     "reportType": "hiddenstate",
     "suggestion": "Please consider executing it to guarantee the reproducibility.",
     "text": "Cell 15 has execution results, but it wasn't executed on this session"
    },
    {
     "cellId": 17,
     "hash": "682d9ec65e18ab4810ba08445c763525af7a8b3b",
     "reason": "A cell with results of a previous session may fail to execute or produce different results in this one, hampering the reproducibility.",
     "reportId": "h1",
     "reportType": "hiddenstate",
     "suggestion": "Please consider executing it to guarantee the reproducibility.",
     "text": "Cell 17 has execution results, but it wasn't executed on this session"
    },
    {
     "cellId": 19,
     "hash": "aefe73fd7d524633fc4ab12f36b1ab21f7919ae8",
     "reason": "A cell with results of a previous session may fail to execute or produce different results in this one, hampering the reproducibility.",
     "reportId": "h1",
     "reportType": "hiddenstate",
     "suggestion": "Please consider executing it to guarantee the reproducibility.",
     "text": "Cell 19 has execution results, but it wasn't executed on this session"
    },
    {
     "cellId": 22,
     "hash": "3d53c60cc973ed920d7b3a3057e8681a666d1022",
     "reason": "A cell with results of a previous session may fail to execute or produce different results in this one, hampering the reproducibility.",
     "reportId": "h1",
     "reportType": "hiddenstate",
     "suggestion": "Please consider executing it to guarantee the reproducibility.",
     "text": "Cell 22 has execution results, but it wasn't executed on this session"
    },
    {
     "cellId": 23,
     "hash": "e1457498794a60b9c75f0b887f0184bef8bde8d4",
     "reason": "A cell with results of a previous session may fail to execute or produce different results in this one, hampering the reproducibility.",
     "reportId": "h1",
     "reportType": "hiddenstate",
     "suggestion": "Please consider executing it to guarantee the reproducibility.",
     "text": "Cell 23 has execution results, but it wasn't executed on this session"
    },
    {
     "cellId": 25,
     "hash": "f502e408673cb7558504eac99bcc84a16a4064cc",
     "reason": "A cell with results of a previous session may fail to execute or produce different results in this one, hampering the reproducibility.",
     "reportId": "h1",
     "reportType": "hiddenstate",
     "suggestion": "Please consider executing it to guarantee the reproducibility.",
     "text": "Cell 25 has execution results, but it wasn't executed on this session"
    },
    {
     "cellId": 26,
     "hash": "8a85f4c8ba06bd76ddfb55f405164f6f4eaad1c6",
     "reason": "A cell with results of a previous session may fail to execute or produce different results in this one, hampering the reproducibility.",
     "reportId": "h1",
     "reportType": "hiddenstate",
     "suggestion": "Please consider executing it to guarantee the reproducibility.",
     "text": "Cell 26 has execution results, but it wasn't executed on this session"
    },
    {
     "cellId": 28,
     "hash": "97928d84e0493f3621ebf9f6dfc013310689c133",
     "reason": "A cell with results of a previous session may fail to execute or produce different results in this one, hampering the reproducibility.",
     "reportId": "h1",
     "reportType": "hiddenstate",
     "suggestion": "Please consider executing it to guarantee the reproducibility.",
     "text": "Cell 28 has execution results, but it wasn't executed on this session"
    },
    {
     "cellId": 30,
     "hash": "8e1b60d51386fc19e4d64c82900862f745a8cac3",
     "reason": "A cell with results of a previous session may fail to execute or produce different results in this one, hampering the reproducibility.",
     "reportId": "h1",
     "reportType": "hiddenstate",
     "suggestion": "Please consider executing it to guarantee the reproducibility.",
     "text": "Cell 30 has execution results, but it wasn't executed on this session"
    },
    {
     "cellId": 32,
     "hash": "b3aa9ab1ab2a7640e990a33990db65b2442651f5",
     "reason": "A cell with results of a previous session may fail to execute or produce different results in this one, hampering the reproducibility.",
     "reportId": "h1",
     "reportType": "hiddenstate",
     "suggestion": "Please consider executing it to guarantee the reproducibility.",
     "text": "Cell 32 has execution results, but it wasn't executed on this session"
    },
    {
     "cellId": 34,
     "hash": "57f4210151e6bc5389f6cd97f2f91616c322f581",
     "reason": "A cell with results of a previous session may fail to execute or produce different results in this one, hampering the reproducibility.",
     "reportId": "h1",
     "reportType": "hiddenstate",
     "suggestion": "Please consider executing it to guarantee the reproducibility.",
     "text": "Cell 34 has execution results, but it wasn't executed on this session"
    },
    {
     "cellId": 36,
     "hash": "2b22ebadc3b0531781825b322fdbab1c7bff56e9",
     "reason": "A cell with results of a previous session may fail to execute or produce different results in this one, hampering the reproducibility.",
     "reportId": "h1",
     "reportType": "hiddenstate",
     "suggestion": "Please consider executing it to guarantee the reproducibility.",
     "text": "Cell 36 has execution results, but it wasn't executed on this session"
    },
    {
     "cellId": 38,
     "hash": "5321b4a74047d1737c7113bdcafcf7271ae0bccb",
     "reason": "A cell with results of a previous session may fail to execute or produce different results in this one, hampering the reproducibility.",
     "reportId": "h1",
     "reportType": "hiddenstate",
     "suggestion": "Please consider executing it to guarantee the reproducibility.",
     "text": "Cell 38 has execution results, but it wasn't executed on this session"
    },
    {
     "cellId": 40,
     "hash": "6972f3a0fa6b7ba1a0f6988c1dc94298b6c0a08a",
     "reason": "A cell with results of a previous session may fail to execute or produce different results in this one, hampering the reproducibility.",
     "reportId": "h1",
     "reportType": "hiddenstate",
     "suggestion": "Please consider executing it to guarantee the reproducibility.",
     "text": "Cell 40 has execution results, but it wasn't executed on this session"
    },
    {
     "cellId": 41,
     "hash": "d349cc56b499a879335956ad890b4f3c356272f1",
     "reason": "A cell with results of a previous session may fail to execute or produce different results in this one, hampering the reproducibility.",
     "reportId": "h1",
     "reportType": "hiddenstate",
     "suggestion": "Please consider executing it to guarantee the reproducibility.",
     "text": "Cell 41 has execution results, but it wasn't executed on this session"
    },
    {
     "cellId": 1,
     "hash": "2aba55b0835e126b9c5d42bcbb6f3741082ff767",
     "reason": "A skip in the execution count might indicate the presence of a hidden state caused by a cell that does not exist anymore. Hidden states might prevent cells from executing or producing the same results, hampering the reproducibility.",
     "reportId": "h4",
     "reportType": "hiddenstate",
     "suggestion": "Please consider re-running the notebook to guarantee the reproducibility.",
     "text": "Cell 1 skips the execution count"
    }
   ],
   "hash": "355807ba119e12315b935bd2dc4b59a669212787",
   "visible": [
    {
     "cellId": "group",
     "hash": "19d3d3d153f22e318cbe061df9e685ba5165b0aa",
     "reason": "This groups other lint messages",
     "reportId": "group",
     "reportType": "confusenotebook",
     "suggestion": null,
     "text": "Confuse Notebook"
    },
    {
     "cellId": 4,
     "hash": "c820a9e9a457ba31acec4c5af77b8ff8df66acbf",
     "reason": "Empty cells in between executable ones occupy space and might impact the readability of the notebook.",
     "reportId": "c3",
     "reportType": "confusenotebook",
     "suggestion": "Please consider removing it to improve the readability.",
     "text": "Cell 4 is empty in the middle of the notebook"
    },
    {
     "cellId": 41,
     "hash": "14647c7731fb3de764929d4e35755457490fe552",
     "reason": "A markdown cell at the end of the notebook can conclude it, presenting a summary of the obtained results.",
     "reportId": "c5",
     "reportType": "confusenotebook",
     "suggestion": "Please consider adding a markdown cell to conclude the notebook.",
     "text": "The last cell of the notebook is not a markdown cell"
    }
   ]
  },
  "kernelspec": {
   "display_name": "Python 3",
   "language": "python",
   "name": "python3"
  },
  "language_info": {
   "codemirror_mode": {
    "name": "ipython",
    "version": 3
   },
   "file_extension": ".py",
   "mimetype": "text/x-python",
   "name": "python",
   "nbconvert_exporter": "python",
   "pygments_lexer": "ipython3",
   "version": "3.8.5"
  }
 },
 "nbformat": 4,
 "nbformat_minor": 4
}
