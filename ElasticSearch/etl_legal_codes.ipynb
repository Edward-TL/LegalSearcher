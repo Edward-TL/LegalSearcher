{
 "cells": [
  {
   "cell_type": "markdown",
   "metadata": {},
   "source": [
    "# Pass .txt to python list"
   ]
  },
  {
   "cell_type": "code",
   "execution_count": 1,
   "metadata": {},
   "outputs": [],
   "source": [
    "from classifier import *\n",
    "import os\n",
    "from support import *\n",
    "from text_filters import *\n",
    "\n",
    "import requests\n",
    "import json"
   ]
  },
  {
   "cell_type": "code",
   "execution_count": 2,
   "metadata": {
    "scrolled": true
   },
   "outputs": [],
   "source": [
    "# codes_folder = \"../ReadFiles/Codigos\"\n",
    "# codes_path = os.path.abspath(codes_folder)\n",
    "# entries = os.listdir(codes_path)\n",
    "\n",
    "# codes = []\n",
    "\n",
    "# for entry in entries:\n",
    "\n",
    "#     entry_path = os.path.join(codes_folder, entry)\n",
    "#     with open(entry_path, 'r', encoding='utf-8') as f:\n",
    "#         text = f.readlines()\n",
    "        \n",
    "#         f.close()\n",
    "    \n",
    "#     for line in text:\n",
    "#         if line == '\\n':\n",
    "#             text.remove(line)\n",
    "#         if line == ' \\n':\n",
    "#             text.remove(line)\n",
    "            \n",
    "#     codes.append(text)\n",
    "\n",
    "# removal = codes[1][2]\n",
    "# removal\n",
    "\n",
    "# for code in codes:\n",
    "#     for line in code:\n",
    "#         if line == removal:\n",
    "#             code.remove(line)\n",
    "            \n",
    "# for code, entry in zip(codes,entries):\n",
    "#     print(entry, '|', code[0])\n",
    "#     print(code[1:3])\n",
    "#     print(\"\\n-------------------------------\\n\")"
   ]
  },
  {
   "cell_type": "markdown",
   "metadata": {},
   "source": [
    "## ID of legal sources\n",
    "\n",
    "The ID of every legal source (codes, statutes, norms) are storage on the csv file \"codes_id\". The ID were made \"by hand\" in order to improve the human reading."
   ]
  },
  {
   "cell_type": "code",
   "execution_count": 3,
   "metadata": {},
   "outputs": [],
   "source": [
    "# import csv\n",
    "\n",
    "# codesid_folder = \"../ReadFiles/codes_id.csv\"\n",
    "\n",
    "# codesid_path = os.path.abspath(codesid_folder)\n",
    "# with open(codesid_path, 'r', encoding='utf-8-sig') as csv_file:\n",
    "#     csv_reader = csv.reader(csv_file, delimiter=',')\n",
    "#     codes_id = {}\n",
    "#     for row in csv_reader:\n",
    "#         codes_id[row[0]] = row[1]\n",
    "\n",
    "#     csv_file.close()\n",
    "\n",
    "# # codes_id"
   ]
  },
  {
   "cell_type": "markdown",
   "metadata": {},
   "source": [
    "## New hierarchy\n",
    "\n",
    "This hierarchy was made according to observed on the research "
   ]
  },
  {
   "cell_type": "code",
   "execution_count": 4,
   "metadata": {},
   "outputs": [],
   "source": [
    "hierarchy = {\n",
    "    # Agregados\n",
    "    'LIBRO': 'book',\n",
    "    'PARTE': 'part',\n",
    "    \n",
    "    # Original\n",
    "    'TITULO' : 'headline',\n",
    "    'DISPOSICIONES' : 'headline',\n",
    "    'CAPITULO' : 'chapter',\n",
    "    \n",
    "    # Agregado\n",
    "    'SECCION': 'section',\n",
    "    \n",
    "    #Original\n",
    "    'ARTICULO' : 'article',\n",
    "    \n",
    "    # Agregados\n",
    "    'CONSIDERANDO' : 'article',\n",
    "    'PREAMBULO' : 'article',\n",
    "}\n",
    "            \n"
   ]
  },
  {
   "cell_type": "code",
   "execution_count": 5,
   "metadata": {
    "scrolled": true
   },
   "outputs": [],
   "source": [
    "# main_list = []\n",
    "# for entry, code in zip(entries, codes):\n",
    "#     print(entry, code[0])\n",
    "    \n",
    "#     main_section = \"\"\n",
    "#     code_info = {'main' : None,\n",
    "#                   'n_sections': 0,\n",
    "#                   'sections': set(),\n",
    "#                  'last_section': None,\n",
    "#                  }\n",
    "\n",
    "#     sections_count = {\n",
    "#         'book': 0,\n",
    "#         'part' : 0,\n",
    "#         'headline': 0,\n",
    "#         'chapter': 0,\n",
    "#         'section': 0,\n",
    "#         'article' : 0\n",
    "#     }\n",
    "\n",
    "#     level = {\n",
    "#         'book': 6,\n",
    "#         'part' : 5,\n",
    "#         'headline': 4,\n",
    "#         'chapter': 3,\n",
    "#         'section': 2,\n",
    "#         'article' : 1\n",
    "#     }\n",
    "\n",
    "#     max_level = 0\n",
    "#     for line in code:\n",
    "#         hint = first_word(line).upper()\n",
    "#         hint = standarize(hint)\n",
    "#         if hint in hierarchy and hint != 'ARTICULO':\n",
    "#             reference = hierarchy[hint]\n",
    "#             code_info['last_section'] = reference\n",
    "\n",
    "#             if level[reference] > max_level:\n",
    "#                 code_info['main'] = reference\n",
    "#                 max_level = level[reference]\n",
    "\n",
    "#             # This will be done for sure\n",
    "#             code_info['n_sections'] += 1\n",
    "#             code_info['sections'].add(reference)\n",
    "\n",
    "#         if hint in hierarchy:\n",
    "#             reference = hierarchy[hint]\n",
    "#             sections_count[reference] += 1\n",
    "\n",
    "#             if reference == 'article':\n",
    "#                 sections_count[reference] += 1\n",
    "                \n",
    "#     main_list.append(code_info['main'])\n",
    "#     for key, value in code_info.items():\n",
    "#         print(key, ':', value)\n",
    "\n",
    "#     for key, value in sections_count.items():\n",
    "#         print(key, ':', value)\n",
    "\n",
    "#     print(\"\\n-------------------------------\\n\")\n"
   ]
  },
  {
   "cell_type": "code",
   "execution_count": 6,
   "metadata": {},
   "outputs": [],
   "source": [
    "# main_list"
   ]
  },
  {
   "cell_type": "code",
   "execution_count": 7,
   "metadata": {},
   "outputs": [],
   "source": [
    "# from alive_progress import alive_bar"
   ]
  },
  {
   "cell_type": "code",
   "execution_count": 8,
   "metadata": {
    "scrolled": true
   },
   "outputs": [],
   "source": [
    "# c = 1\n",
    "# total = len(codes)\n",
    "\n",
    "\n",
    "# for entry, code, main in zip(entries, codes, main_list):\n",
    "   \n",
    "#     code_id = codes_id[entry]\n",
    "#     code_info = {\n",
    "#         'id': code_id,\n",
    "#         'source_name': code[0],\n",
    "#     }\n",
    "#     print(f'LOADING: {c}/{total}', code[0])\n",
    "#     code.pop(0)\n",
    "#     text = code\n",
    "#     art_list = articles_info(code_info, text, debugging=False)\n",
    "    \n",
    "#     print('File:', entry,'total lines = ', len(art_list))\n",
    "    \n",
    "#     dot_text = split_text_in_lines(text, delimiter=\".\")\n",
    "#     print('File:', entry, 'Total elements by dot:', len(dot_text), '\\n----------------------')\n",
    "    \n",
    "#     ndot_text = text_removals(dot_text)\n",
    "#     dcomma_text = split_text_in_lines(ndot_text, delimiter=\";\")\n",
    "#     print('File:', entry, 'Total elements by dot-comma:', len(dcomma_text), '\\n----------------------')\n",
    "    \n",
    "#     dcomma_text = split_text_in_lines(ndot_text, delimiter=\"-\")\n",
    "#     print('File:', entry, 'Total elements by dot-comma:', len(dcomma_text), '\\n----------------------')\n",
    "    \n",
    "#     dcomma_text = split_text_in_lines(ndot_text, delimiter=\"°\")\n",
    "#     print('File:', entry, 'Total elements by dot-comma:', len(dcomma_text), '\\n----------------------')\n",
    "    \n",
    "#     embed_list = articles_info(code_info, dcomma_text, debugging=False)\n",
    "    \n",
    "#     for embed, article in zip(embed_list, art_list):\n",
    "#         article['dot_comma_sep'] = embed['article']['content']\n",
    "        \n",
    "#     levels = { 'book','part', 'headline', 'chapter', 'section', 'article' }\n",
    "#     json_list = format_articles(art_list, headers_dict=levels, debugging=False)\n",
    "    \n",
    "#     dict_json = json.dumps(json_list, ensure_ascii=False)\n",
    "#     embedding_f = f'../ReadFiles/Embeddings/{code_id}-embedding.json'\n",
    "#     filepath = os.path.abspath(embedding_f)\n",
    "\n",
    "\n",
    "#     file = open(embedding_f, \"w\")\n",
    "#     file.write(dict_json)\n",
    "#     file.close()\n",
    "    \n",
    "    \n",
    "\n",
    "#     print(' * - * * - * * - * * - * * - * * - * * - * * - * ')\n",
    "#     c = c + 1"
   ]
  },
  {
   "cell_type": "code",
   "execution_count": null,
   "metadata": {},
   "outputs": [],
   "source": [
    "main_url = \"http://localhost:9200/test_all\""
   ]
  },
  {
   "cell_type": "markdown",
   "metadata": {},
   "source": [
    "# BURN IT ALL TO THE GROWN!"
   ]
  },
  {
   "cell_type": "code",
   "execution_count": 9,
   "metadata": {},
   "outputs": [
    {
     "data": {
      "text/plain": [
       "'{\"acknowledged\":true}'"
      ]
     },
     "execution_count": 9,
     "metadata": {},
     "output_type": "execute_result"
    }
   ],
   "source": [
    "response = requests.delete(main_url)\n",
    "response.text"
   ]
  },
  {
   "cell_type": "markdown",
   "metadata": {},
   "source": [
    "# Mapping"
   ]
  },
  {
   "cell_type": "code",
   "execution_count": 10,
   "metadata": {},
   "outputs": [
    {
     "data": {
      "text/plain": [
       "'{\"acknowledged\":true,\"shards_acknowledged\":true,\"index\":\"test_all\"}'"
      ]
     },
     "execution_count": 10,
     "metadata": {},
     "output_type": "execute_result"
    }
   ],
   "source": [
    "with open('mapping.json', 'r') as json_file:\n",
    "    mapping = json.load(json_file)\n",
    "    json_file.close()\n",
    "\n",
    "    response = requests.put(main_url, json=mapping)\n",
    "response.text"
   ]
  },
  {
   "cell_type": "markdown",
   "metadata": {},
   "source": [
    "# Check mapping"
   ]
  },
  {
   "cell_type": "code",
   "execution_count": 66,
   "metadata": {},
   "outputs": [
    {
     "data": {
      "text/plain": [
       "'{\"test_all\":{\"aliases\":{},\"mappings\":{\"properties\":{\"article\":{\"properties\":{\"content\":{\"type\":\"text\",\"fields\":{\"keyword\":{\"type\":\"keyword\",\"ignore_above\":256}}},\"name\":{\"type\":\"text\"}}},\"book\":{\"properties\":{\"name\":{\"type\":\"text\"},\"title\":{\"type\":\"text\"}}},\"chapter\":{\"properties\":{\"name\":{\"type\":\"text\"},\"title\":{\"type\":\"text\"}}},\"embedds\":{\"type\":\"dense_vector\",\"dims\":512},\"headline\":{\"properties\":{\"name\":{\"type\":\"text\"},\"title\":{\"type\":\"text\"}}},\"id\":{\"type\":\"text\"},\"index\":{\"type\":\"text\"},\"legal_source\":{\"type\":\"text\"},\"part\":{\"properties\":{\"name\":{\"type\":\"text\"},\"title\":{\"type\":\"text\"}}},\"section\":{\"properties\":{\"name\":{\"type\":\"text\"},\"title\":{\"type\":\"text\"}}}}},\"settings\":{\"index\":{\"creation_date\":\"1616529377921\",\"number_of_shards\":\"1\",\"number_of_replicas\":\"1\",\"uuid\":\"4xu-hRSHRDSuNehYNdxIdA\",\"version\":{\"created\":\"7060099\"},\"provided_name\":\"test_all\"}}}}'"
      ]
     },
     "execution_count": 66,
     "metadata": {},
     "output_type": "execute_result"
    }
   ],
   "source": [
    "response = requests.get(main_url)\n",
    "response.text"
   ]
  },
  {
   "cell_type": "markdown",
   "metadata": {},
   "source": [
    "# Load to ES"
   ]
  },
  {
   "cell_type": "markdown",
   "metadata": {},
   "source": [
    "## Load of embedds vector"
   ]
  },
  {
   "cell_type": "code",
   "execution_count": null,
   "metadata": {},
   "outputs": [],
   "source": [
    "import pandas as pd\n",
    "from fastparquet import ParquetFile"
   ]
  },
  {
   "cell_type": "code",
   "execution_count": 41,
   "metadata": {},
   "outputs": [],
   "source": [
    "pf = ParquetFile('cons_codes.parq')\n",
    "\n",
    "df = pf.to_pandas()\n",
    "df = df[['id', 'embedds']]\n",
    "\n",
    "embedds = df['embedds'].tolist()\n",
    "ids = df['id'].tolist()\n",
    "\n",
    "embeddings = {}\n",
    "for art_id, embedd in zip(ids, embedds):\n",
    "    embeddings[art_id] = embedd\n",
    "    \n",
    "# embeddings['336transporte00000201000001']"
   ]
  },
  {
   "cell_type": "code",
   "execution_count": 44,
   "metadata": {},
   "outputs": [
    {
     "data": {
      "text/plain": [
       "512"
      ]
     },
     "execution_count": 44,
     "metadata": {},
     "output_type": "execute_result"
    }
   ],
   "source": [
    "len(embedds[0])"
   ]
  },
  {
   "cell_type": "markdown",
   "metadata": {},
   "source": [
    "## Replace dot_comma with embedds vector"
   ]
  },
  {
   "cell_type": "code",
   "execution_count": 50,
   "metadata": {
    "scrolled": true
   },
   "outputs": [
    {
     "name": "stdout",
     "output_type": "stream",
     "text": [
      "Uploading to Elastic Search 1/45: 336transporte-embedding.json \n",
      "\n",
      "{\"_index\":\"test_all\",\"_type\":\"_doc\",\"_id\":\"336transporte00000201000001\",\"_version\":3,\"result\":\"updated\",\"_shards\":{\"total\":2,\"successful\":1,\"failed\":0},\"_seq_no\":16332,\"_primary_term\":1}\n",
      "Finished the upload of 336transporte-embedding.json \n",
      "\n",
      " * - * - * - * - * - * - * - * - * - * \n",
      "Uploading to Elastic Search 2/45: abogado-embedding.json \n",
      "\n",
      "{\"_index\":\"test_all\",\"_type\":\"_doc\",\"_id\":\"abogado00000100000001\",\"_version\":3,\"result\":\"updated\",\"_shards\":{\"total\":2,\"successful\":1,\"failed\":0},\"_seq_no\":16333,\"_primary_term\":1}\n",
      "Finished the upload of abogado-embedding.json \n",
      "\n",
      " * - * - * - * - * - * - * - * - * - * \n",
      "Uploading to Elastic Search 3/45: ambiente-embedding.json \n",
      "\n",
      "{\"_index\":\"test_all\",\"_type\":\"_doc\",\"_id\":\"ambiente00000101000001\",\"_version\":3,\"result\":\"updated\",\"_shards\":{\"total\":2,\"successful\":1,\"failed\":0},\"_seq_no\":16334,\"_primary_term\":1}\n",
      "Finished the upload of ambiente-embedding.json \n",
      "\n",
      " * - * - * - * - * - * - * - * - * - * \n",
      "Uploading to Elastic Search 4/45: animales-embedding.json \n",
      "\n",
      "{\"_index\":\"test_all\",\"_type\":\"_doc\",\"_id\":\"animales00000001000001\",\"_version\":3,\"result\":\"updated\",\"_shards\":{\"total\":2,\"successful\":1,\"failed\":0},\"_seq_no\":16335,\"_primary_term\":1}\n",
      "Finished the upload of animales-embedding.json \n",
      "\n",
      " * - * - * - * - * - * - * - * - * - * \n",
      "Uploading to Elastic Search 5/45: antitramites-embedding.json \n",
      "\n",
      "{\"_index\":\"test_all\",\"_type\":\"_doc\",\"_id\":\"antitramites00000101000001\",\"_version\":3,\"result\":\"updated\",\"_shards\":{\"total\":2,\"successful\":1,\"failed\":0},\"_seq_no\":16336,\"_primary_term\":1}\n",
      "Finished the upload of antitramites-embedding.json \n",
      "\n",
      " * - * - * - * - * - * - * - * - * - * \n",
      "Uploading to Elastic Search 6/45: carad-embedding.json \n",
      "\n",
      "{\"_index\":\"test_all\",\"_type\":\"_doc\",\"_id\":\"carad00000101000001\",\"_version\":3,\"result\":\"updated\",\"_shards\":{\"total\":2,\"successful\":1,\"failed\":0},\"_seq_no\":16337,\"_primary_term\":1}\n",
      "Finished the upload of carad-embedding.json \n",
      "\n",
      " * - * - * - * - * - * - * - * - * - * \n",
      "Uploading to Elastic Search 7/45: carcelario-embedding.json \n",
      "\n",
      "{\"_index\":\"test_all\",\"_type\":\"_doc\",\"_id\":\"carcelario00000100000001\",\"_version\":3,\"result\":\"updated\",\"_shards\":{\"total\":2,\"successful\":1,\"failed\":0},\"_seq_no\":16338,\"_primary_term\":1}\n",
      "Finished the upload of carcelario-embedding.json \n",
      "\n",
      " * - * - * - * - * - * - * - * - * - * \n",
      "Uploading to Elastic Search 8/45: carga-terrestre-embedding.json \n",
      "\n",
      "{\"_index\":\"test_all\",\"_type\":\"_doc\",\"_id\":\"carga-terrestre00010101000001\",\"_version\":3,\"result\":\"updated\",\"_shards\":{\"total\":2,\"successful\":1,\"failed\":0},\"_seq_no\":16339,\"_primary_term\":1}\n",
      "Finished the upload of carga-terrestre-embedding.json \n",
      "\n",
      " * - * - * - * - * - * - * - * - * - * \n",
      "Uploading to Elastic Search 9/45: cdlap-embedding.json \n",
      "\n",
      "{\"_index\":\"test_all\",\"_type\":\"_doc\",\"_id\":\"cdlap00000100000001\",\"_version\":3,\"result\":\"updated\",\"_shards\":{\"total\":2,\"successful\":1,\"failed\":0},\"_seq_no\":16340,\"_primary_term\":1}\n",
      "Finished the upload of cdlap-embedding.json \n",
      "\n",
      " * - * - * - * - * - * - * - * - * - * \n",
      "Uploading to Elastic Search 10/45: civil-embedding.json \n",
      "\n",
      "{\"_index\":\"test_all\",\"_type\":\"_doc\",\"_id\":\"civil00000101000001\",\"_version\":3,\"result\":\"updated\",\"_shards\":{\"total\":2,\"successful\":1,\"failed\":0},\"_seq_no\":16341,\"_primary_term\":1}\n",
      "Finished the upload of civil-embedding.json \n",
      "\n",
      " * - * - * - * - * - * - * - * - * - * \n",
      "Uploading to Elastic Search 11/45: comercio-embedding.json \n",
      "\n",
      "{\"_index\":\"test_all\",\"_type\":\"_doc\",\"_id\":\"comercio00000200000001\",\"_version\":3,\"result\":\"updated\",\"_shards\":{\"total\":2,\"successful\":1,\"failed\":0},\"_seq_no\":16342,\"_primary_term\":1}\n",
      "Finished the upload of comercio-embedding.json \n",
      "\n",
      " * - * - * - * - * - * - * - * - * - * \n",
      "Uploading to Elastic Search 12/45: conad-embedding.json \n",
      "\n",
      "{\"_index\":\"test_all\",\"_type\":\"_doc\",\"_id\":\"conad00000100000001\",\"_version\":3,\"result\":\"updated\",\"_shards\":{\"total\":2,\"successful\":1,\"failed\":0},\"_seq_no\":16343,\"_primary_term\":1}\n",
      "Finished the upload of conad-embedding.json \n",
      "\n",
      " * - * - * - * - * - * - * - * - * - * \n",
      "Uploading to Elastic Search 13/45: constitucion-embedding.json \n",
      "\n",
      "{\"_index\":\"test_all\",\"_type\":\"_doc\",\"_id\":\"constitucion00000100000001\",\"_version\":3,\"result\":\"updated\",\"_shards\":{\"total\":2,\"successful\":1,\"failed\":0},\"_seq_no\":16344,\"_primary_term\":1}\n",
      "Finished the upload of constitucion-embedding.json \n",
      "\n",
      " * - * - * - * - * - * - * - * - * - * \n",
      "Uploading to Elastic Search 14/45: corrupcion-tn-embedding.json \n",
      "\n",
      "{\"_index\":\"test_all\",\"_type\":\"_doc\",\"_id\":\"corrupcion-tn00000001000001\",\"_version\":3,\"result\":\"updated\",\"_shards\":{\"total\":2,\"successful\":1,\"failed\":0},\"_seq_no\":16345,\"_primary_term\":1}\n",
      "Finished the upload of corrupcion-tn-embedding.json \n",
      "\n",
      " * - * - * - * - * - * - * - * - * - * \n",
      "Uploading to Elastic Search 15/45: disciplinario-embedding.json \n",
      "\n",
      "{\"_index\":\"test_all\",\"_type\":\"_doc\",\"_id\":\"disciplinario00000100000001\",\"_version\":3,\"result\":\"updated\",\"_shards\":{\"total\":2,\"successful\":1,\"failed\":0},\"_seq_no\":16346,\"_primary_term\":1}\n",
      "Finished the upload of disciplinario-embedding.json \n",
      "\n",
      " * - * - * - * - * - * - * - * - * - * \n",
      "Uploading to Elastic Search 16/45: domiciliarios-embedding.json \n",
      "\n",
      "{\"_index\":\"test_all\",\"_type\":\"_doc\",\"_id\":\"domiciliarios00000101000001\",\"_version\":3,\"result\":\"updated\",\"_shards\":{\"total\":2,\"successful\":1,\"failed\":0},\"_seq_no\":16347,\"_primary_term\":1}\n",
      "Finished the upload of domiciliarios-embedding.json \n",
      "\n",
      " * - * - * - * - * - * - * - * - * - * \n",
      "Uploading to Elastic Search 17/45: electoral-embedding.json \n",
      "\n",
      "{\"_index\":\"test_all\",\"_type\":\"_doc\",\"_id\":\"electoral00000100000001\",\"_version\":3,\"result\":\"updated\",\"_shards\":{\"total\":2,\"successful\":1,\"failed\":0},\"_seq_no\":16348,\"_primary_term\":1}\n",
      "Finished the upload of electoral-embedding.json \n",
      "\n",
      " * - * - * - * - * - * - * - * - * - * \n",
      "Uploading to Elastic Search 18/45: electricidad-embedding.json \n",
      "\n",
      "{\"_index\":\"test_all\",\"_type\":\"_doc\",\"_id\":\"electricidad00000001000001\",\"_version\":3,\"result\":\"updated\",\"_shards\":{\"total\":2,\"successful\":1,\"failed\":0},\"_seq_no\":16349,\"_primary_term\":1}\n",
      "Finished the upload of electricidad-embedding.json \n",
      "\n",
      " * - * - * - * - * - * - * - * - * - * \n",
      "Uploading to Elastic Search 19/45: estam-embedding.json \n",
      "\n",
      "{\"_index\":\"test_all\",\"_type\":\"_doc\",\"_id\":\"estam00000100000001\",\"_version\":3,\"result\":\"updated\",\"_shards\":{\"total\":2,\"successful\":1,\"failed\":0},\"_seq_no\":16350,\"_primary_term\":1}\n",
      "Finished the upload of estam-embedding.json \n",
      "\n",
      " * - * - * - * - * - * - * - * - * - * \n",
      "Uploading to Elastic Search 20/45: estupe-embedding.json \n",
      "\n",
      "{\"_index\":\"test_all\",\"_type\":\"_doc\",\"_id\":\"estupe00000001000001\",\"_version\":3,\"result\":\"updated\",\"_shards\":{\"total\":2,\"successful\":1,\"failed\":0},\"_seq_no\":16351,\"_primary_term\":1}\n",
      "Finished the upload of estupe-embedding.json \n",
      "\n",
      " * - * - * - * - * - * - * - * - * - * \n",
      "Uploading to Elastic Search 21/45: exdo-embedding.json \n",
      "\n",
      "{\"_index\":\"test_all\",\"_type\":\"_doc\",\"_id\":\"exdo00000100000001\",\"_version\":3,\"result\":\"updated\",\"_shards\":{\"total\":2,\"successful\":1,\"failed\":0},\"_seq_no\":16352,\"_primary_term\":1}\n",
      "Finished the upload of exdo-embedding.json \n",
      "\n",
      " * - * - * - * - * - * - * - * - * - * \n",
      "Uploading to Elastic Search 22/45: funadpu-embedding.json \n",
      "\n",
      "{\"_index\":\"test_all\",\"_type\":\"_doc\",\"_id\":\"funadpu00000100000001\",\"_version\":3,\"result\":\"updated\",\"_shards\":{\"total\":2,\"successful\":1,\"failed\":0},\"_seq_no\":16353,\"_primary_term\":1}\n",
      "Finished the upload of funadpu-embedding.json \n",
      "\n",
      " * - * - * - * - * - * - * - * - * - * \n",
      "Uploading to Elastic Search 23/45: impuestos-embedding.json \n",
      "\n",
      "{\"_index\":\"test_all\",\"_type\":\"_doc\",\"_id\":\"impuestos00000100000001\",\"_version\":3,\"result\":\"updated\",\"_shards\":{\"total\":2,\"successful\":1,\"failed\":0},\"_seq_no\":16354,\"_primary_term\":1}\n",
      "Finished the upload of impuestos-embedding.json \n",
      "\n",
      " * - * - * - * - * - * - * - * - * - * \n",
      "Uploading to Elastic Search 24/45: inad-embedding.json \n",
      "\n",
      "{\"_index\":\"test_all\",\"_type\":\"_doc\",\"_id\":\"inad00000201000001\",\"_version\":3,\"result\":\"updated\",\"_shards\":{\"total\":2,\"successful\":1,\"failed\":0},\"_seq_no\":16355,\"_primary_term\":1}\n",
      "Finished the upload of inad-embedding.json \n",
      "\n",
      " * - * - * - * - * - * - * - * - * - * \n",
      "Uploading to Elastic Search 25/45: internacional-embedding.json \n",
      "\n",
      "{\"_index\":\"test_all\",\"_type\":\"_doc\",\"_id\":\"internacional00000001010001\",\"_version\":3,\"result\":\"updated\",\"_shards\":{\"total\":2,\"successful\":1,\"failed\":0},\"_seq_no\":16356,\"_primary_term\":1}\n",
      "Finished the upload of internacional-embedding.json \n",
      "\n",
      " * - * - * - * - * - * - * - * - * - * \n",
      "Uploading to Elastic Search 26/45: menor-embedding.json \n",
      "\n",
      "{\"_index\":\"test_all\",\"_type\":\"_doc\",\"_id\":\"menor00000101000001\",\"_version\":3,\"result\":\"updated\",\"_shards\":{\"total\":2,\"successful\":1,\"failed\":0},\"_seq_no\":16357,\"_primary_term\":1}\n",
      "Finished the upload of menor-embedding.json \n",
      "\n",
      " * - * - * - * - * - * - * - * - * - * \n",
      "Uploading to Elastic Search 27/45: militar-embedding.json \n",
      "\n",
      "{\"_index\":\"test_all\",\"_type\":\"_doc\",\"_id\":\"militar00000101000001\",\"_version\":3,\"result\":\"updated\",\"_shards\":{\"total\":2,\"successful\":1,\"failed\":0},\"_seq_no\":16358,\"_primary_term\":1}\n",
      "Finished the upload of militar-embedding.json \n",
      "\n",
      " * - * - * - * - * - * - * - * - * - * \n",
      "Uploading to Elastic Search 28/45: minas-embedding.json \n",
      "\n",
      "{\"_index\":\"test_all\",\"_type\":\"_doc\",\"_id\":\"minas00000201000001\",\"_version\":3,\"result\":\"updated\",\"_shards\":{\"total\":2,\"successful\":1,\"failed\":0},\"_seq_no\":16359,\"_primary_term\":1}\n",
      "Finished the upload of minas-embedding.json \n",
      "\n",
      " * - * - * - * - * - * - * - * - * - * \n",
      "Uploading to Elastic Search 29/45: paca-embedding.json \n",
      "\n",
      "{\"_index\":\"test_all\",\"_type\":\"_doc\",\"_id\":\"paca00000201000001\",\"_version\":3,\"result\":\"updated\",\"_shards\":{\"total\":2,\"successful\":1,\"failed\":0},\"_seq_no\":16360,\"_primary_term\":1}\n",
      "Finished the upload of paca-embedding.json \n",
      "\n",
      " * - * - * - * - * - * - * - * - * - * \n",
      "Uploading to Elastic Search 30/45: penal-embedding.json \n",
      "\n",
      "{\"_index\":\"test_all\",\"_type\":\"_doc\",\"_id\":\"penal00000101000001\",\"_version\":3,\"result\":\"updated\",\"_shards\":{\"total\":2,\"successful\":1,\"failed\":0},\"_seq_no\":16361,\"_primary_term\":1}\n",
      "Finished the upload of penal-embedding.json \n",
      "\n",
      " * - * - * - * - * - * - * - * - * - * \n",
      "Uploading to Elastic Search 31/45: pre-corrup-embedding.json \n",
      "\n",
      "{\"_index\":\"test_all\",\"_type\":\"_doc\",\"_id\":\"pre-corrup00000001000001\",\"_version\":3,\"result\":\"updated\",\"_shards\":{\"total\":2,\"successful\":1,\"failed\":0},\"_seq_no\":16362,\"_primary_term\":1}\n",
      "Finished the upload of pre-corrup-embedding.json \n",
      "\n",
      " * - * - * - * - * - * - * - * - * - * \n",
      "Uploading to Elastic Search 32/45: procedimiento-civil-embedding.json \n",
      "\n",
      "{\"_index\":\"test_all\",\"_type\":\"_doc\",\"_id\":\"procedimiento-civil00000100000001\",\"_version\":3,\"result\":\"updated\",\"_shards\":{\"total\":2,\"successful\":1,\"failed\":0},\"_seq_no\":16363,\"_primary_term\":1}\n",
      "Finished the upload of procedimiento-civil-embedding.json \n",
      "\n",
      " * - * - * - * - * - * - * - * - * - * \n",
      "Uploading to Elastic Search 33/45: proceso-embedding.json \n",
      "\n",
      "{\"_index\":\"test_all\",\"_type\":\"_doc\",\"_id\":\"proceso00000200000001\",\"_version\":3,\"result\":\"updated\",\"_shards\":{\"total\":2,\"successful\":1,\"failed\":0},\"_seq_no\":16364,\"_primary_term\":1}\n",
      "Finished the upload of proceso-embedding.json \n",
      "\n",
      " * - * - * - * - * - * - * - * - * - * \n",
      "Uploading to Elastic Search 34/45: prope-embedding.json \n",
      "\n",
      "{\"_index\":\"test_all\",\"_type\":\"_doc\",\"_id\":\"prope00000100000001\",\"_version\":3,\"result\":\"updated\",\"_shards\":{\"total\":2,\"successful\":1,\"failed\":0},\"_seq_no\":16365,\"_primary_term\":1}\n",
      "Finished the upload of prope-embedding.json \n",
      "\n",
      " * - * - * - * - * - * - * - * - * - * \n",
      "Uploading to Elastic Search 35/45: puertos-embedding.json \n",
      "\n",
      "{\"_index\":\"test_all\",\"_type\":\"_doc\",\"_id\":\"puertos00000201000001\",\"_version\":3,\"result\":\"updated\",\"_shards\":{\"total\":2,\"successful\":1,\"failed\":0},\"_seq_no\":16366,\"_primary_term\":1}\n",
      "Finished the upload of puertos-embedding.json \n",
      "\n",
      " * - * - * - * - * - * - * - * - * - * \n",
      "Uploading to Elastic Search 36/45: redep-embedding.json \n",
      "\n",
      "{\"_index\":\"test_all\",\"_type\":\"_doc\",\"_id\":\"redep00000000000001\",\"_version\":3,\"result\":\"updated\",\"_shards\":{\"total\":2,\"successful\":1,\"failed\":0},\"_seq_no\":16367,\"_primary_term\":1}\n",
      "Finished the upload of redep-embedding.json \n",
      "\n",
      " * - * - * - * - * - * - * - * - * - * \n",
      "Uploading to Elastic Search 37/45: registro-civil-embedding.json \n",
      "\n",
      "{\"_index\":\"test_all\",\"_type\":\"_doc\",\"_id\":\"registro-civil00000100000001\",\"_version\":3,\"result\":\"updated\",\"_shards\":{\"total\":2,\"successful\":1,\"failed\":0},\"_seq_no\":16368,\"_primary_term\":1}\n",
      "Finished the upload of registro-civil-embedding.json \n",
      "\n",
      " * - * - * - * - * - * - * - * - * - * \n",
      "Uploading to Elastic Search 38/45: remu-embedding.json \n",
      "\n",
      "{\"_index\":\"test_all\",\"_type\":\"_doc\",\"_id\":\"remu00000000000001\",\"_version\":3,\"result\":\"updated\",\"_shards\":{\"total\":2,\"successful\":1,\"failed\":0},\"_seq_no\":16369,\"_primary_term\":1}\n",
      "Finished the upload of remu-embedding.json \n",
      "\n",
      " * - * - * - * - * - * - * - * - * - * \n",
      "Uploading to Elastic Search 39/45: remun-embedding.json \n",
      "\n",
      "{\"_index\":\"test_all\",\"_type\":\"_doc\",\"_id\":\"remun00000100000001\",\"_version\":3,\"result\":\"updated\",\"_shards\":{\"total\":2,\"successful\":1,\"failed\":0},\"_seq_no\":16370,\"_primary_term\":1}\n",
      "Finished the upload of remun-embedding.json \n",
      "\n",
      " * - * - * - * - * - * - * - * - * - * \n",
      "Uploading to Elastic Search 40/45: secuestro-embedding.json \n",
      "\n",
      "{\"_index\":\"test_all\",\"_type\":\"_doc\",\"_id\":\"secuestro00000001000001\",\"_version\":3,\"result\":\"updated\",\"_shards\":{\"total\":2,\"successful\":1,\"failed\":0},\"_seq_no\":16371,\"_primary_term\":1}\n",
      "Finished the upload of secuestro-embedding.json \n",
      "\n",
      " * - * - * - * - * - * - * - * - * - * \n",
      "Uploading to Elastic Search 41/45: serpudom-embedding.json \n",
      "\n",
      "{\"_index\":\"test_all\",\"_type\":\"_doc\",\"_id\":\"serpudom00000001000001\",\"_version\":3,\"result\":\"updated\",\"_shards\":{\"total\":2,\"successful\":1,\"failed\":0},\"_seq_no\":16372,\"_primary_term\":1}\n",
      "Finished the upload of serpudom-embedding.json \n",
      "\n",
      " * - * - * - * - * - * - * - * - * - * \n",
      "Uploading to Elastic Search 42/45: sismo-embedding.json \n",
      "\n",
      "{\"_index\":\"test_all\",\"_type\":\"_doc\",\"_id\":\"sismo00000100000001\",\"_version\":3,\"result\":\"updated\",\"_shards\":{\"total\":2,\"successful\":1,\"failed\":0},\"_seq_no\":16373,\"_primary_term\":1}\n",
      "Finished the upload of sismo-embedding.json \n",
      "\n",
      " * - * - * - * - * - * - * - * - * - * \n",
      "Uploading to Elastic Search 43/45: trabajo-embedding.json \n",
      "\n",
      "{\"_index\":\"test_all\",\"_type\":\"_doc\",\"_id\":\"trabajo00000100000001\",\"_version\":3,\"result\":\"updated\",\"_shards\":{\"total\":2,\"successful\":1,\"failed\":0},\"_seq_no\":16374,\"_primary_term\":1}\n",
      "Finished the upload of trabajo-embedding.json \n",
      "\n",
      " * - * - * - * - * - * - * - * - * - * \n",
      "Uploading to Elastic Search 44/45: tranter-embedding.json \n",
      "\n",
      "{\"_index\":\"test_all\",\"_type\":\"_doc\",\"_id\":\"tranter00000201000001\",\"_version\":3,\"result\":\"updated\",\"_shards\":{\"total\":2,\"successful\":1,\"failed\":0},\"_seq_no\":16375,\"_primary_term\":1}\n",
      "Finished the upload of tranter-embedding.json \n",
      "\n",
      " * - * - * - * - * - * - * - * - * - * \n",
      "Uploading to Elastic Search 45/45: viseprip-embedding.json \n",
      "\n",
      "{\"_index\":\"test_all\",\"_type\":\"_doc\",\"_id\":\"viseprip00000000000001\",\"_version\":3,\"result\":\"updated\",\"_shards\":{\"total\":2,\"successful\":1,\"failed\":0},\"_seq_no\":16376,\"_primary_term\":1}\n",
      "Finished the upload of viseprip-embedding.json \n",
      "\n",
      " * - * - * - * - * - * - * - * - * - * \n"
     ]
    }
   ],
   "source": [
    "codes_folder = \"../ReadFiles/Embeddings\"\n",
    "codes_path = os.path.abspath(codes_folder)\n",
    "toLoad_entries = os.listdir(codes_path)\n",
    "e = 0\n",
    "total = len(toLoad_entries)\n",
    "for entry in toLoad_entries:\n",
    "    log_info = {'id': None,\n",
    "            'status': None,\n",
    "            'error': None,\n",
    "            'message': None,\n",
    "            }\n",
    "    e += 1\n",
    "    entry_path = os.path.join(codes_folder, entry)\n",
    "    \n",
    "    with open(entry_path, 'r') as json_file:\n",
    "        data = json.load(json_file)\n",
    "        \n",
    "        print(f'Uploading to Elastic Search {e}/{total}:', entry, '\\n')\n",
    "        a = 0\n",
    "        for article in data:\n",
    "            if a == 0:\n",
    "                article.pop('dot_comma_sep', None)\n",
    "                article['embedds'] = embeddings[article['id']]\n",
    "\n",
    "                es_article_url = f\"{main_url}/_doc/{article['id']}\"\n",
    "                request_response = requests.put(es_article_url, json=article)\n",
    "                print(request_response.text)\n",
    "                log_info = add_to_log(log_info, request_response, article)\n",
    "\n",
    "                if log_info['status'][-1] != 200:\n",
    "                    for key, value in log_info.items():\n",
    "                        print(key, ':', value)\n",
    "            a += 1\n",
    "        print('Finished the upload of', entry, '\\n')\n",
    "        print(' * - * - * - * - * - * - * - * - * - * ')\n",
    "        json_file.close()"
   ]
  },
  {
   "cell_type": "code",
   "execution_count": 51,
   "metadata": {},
   "outputs": [
    {
     "data": {
      "text/plain": [
       "{'count': 16287,\n",
       " '_shards': {'total': 1, 'successful': 1, 'skipped': 0, 'failed': 0}}"
      ]
     },
     "execution_count": 51,
     "metadata": {},
     "output_type": "execute_result"
    }
   ],
   "source": [
    "count_docs = f\"{main_url}/_count?q=*\"\n",
    "count_test = requests.get(count_docs)\n",
    "\n",
    "result = json.loads(count_test.text)\n",
    "result"
   ]
  },
  {
   "cell_type": "code",
   "execution_count": 52,
   "metadata": {
    "scrolled": true
   },
   "outputs": [
    {
     "name": "stdout",
     "output_type": "stream",
     "text": [
      "{'took': 186, 'timed_out': False, '_shards': {'total': 1, 'successful': 1, 'skipped': 0, 'failed': 0}, 'hits': {'total': {'value': 472, 'relation': 'eq'}, 'max_score': 15.273798, 'hits': [{'_index': 'test_all', '_type': '_doc', '_id': 'civil00009702002438', '_score': 15.273798, '_source': {'index': 'civil', 'legal_source': 'CÓDIGO CIVIL\\n', 'id': 'civil00009702002438', 'book': {'title': None, 'name': None}, 'section': {'title': None, 'name': None}, 'chapter': {'title': 'CAPITULO II.\\n', 'name': 'DE LA CONSTITUCION DE RENTA VITALICIA\\n'}, 'headline': {'title': 'TITULO XLIV.\\n', 'name': 'OBSERVANCIA DE ESTE CÓDIGO\\n'}, 'part': {'title': None, 'name': None}, 'article': {'name': 'ARTICULO 2288.', 'content': ['ARTICULO 2288. CONSTITUCION DE LA RENTA VITALICIA. La renta vitalicia podrá constituirse a favor de dos o más personas que gocen de ella simultáneamente, con derecho de acrecer o sin él, o sucesivamente, según el orden convenido, con tal que todas existan al tiempo del contrato.\\n']}, 'embedds': [-0.020007137209177017, 0.05375419184565544, 0.014116250909864902, 0.09420165419578552, -0.12563768029212952, 0.019435836002230644, -0.009620810858905315, 0.024384673684835434, -0.047894157469272614, -0.0006139776087366045, -0.04072612151503563, 0.08682235330343246, 0.025243960320949554, 0.0012630409328266978, -0.04853183776140213, -0.02947002835571766, -0.03272321820259094, -0.03766234219074249, -0.0031349859200417995, 0.05379459261894226, 0.016150224953889847, -0.02849152497947216, 0.014099146239459515, 0.00634515518322587, -0.0255830567330122, -0.03350689634680748, 0.02572609856724739, 0.007807331159710884, 0.03878284990787506, 0.02607768587768078, 0.008368344977498055, -0.015993572771549225, 0.04619894176721573, 0.019691528752446175, -0.02500241994857788, -0.01061202771961689, -0.08926220238208771, 0.007174201775342226, -0.023177046328783035, -0.12295317649841309, 0.031157948076725006, -0.037074219435453415, -0.02217228151857853, -0.022199982777237892, 0.014873629435896873, 0.009277201257646084, -0.01724614016711712, 0.06543787568807602, -0.07561520487070084, 0.02842274121940136, -0.06647346168756485, -0.03791765123605728, 0.041520655155181885, 0.03903408348560333, 0.06039278581738472, 0.04286319389939308, 0.05005178973078728, -0.008081682957708836, 0.11247240006923676, 0.08212146908044815, 0.04362985119223595, -0.04559105262160301, 0.011675792746245861, 0.017253577709197998, 0.0701068863272667, 0.005415390711277723, -0.013804605230689049, -0.04034087061882019, -0.06977725028991699, 0.053371064364910126, 0.021607454866170883, 0.054667603224515915, 0.035215605050325394, 0.06839191913604736, -0.022710615769028664, 0.06109092757105827, 0.016996752470731735, -0.04966946318745613, -0.10283275693655014, 0.07067111134529114, -0.016328983008861542, -0.022930528968572617, -0.0872562974691391, 0.03330550715327263, 0.006454687565565109, 0.039812639355659485, 0.00790783204138279, -0.07876229286193848, 0.07390471547842026, -0.06468944251537323, 0.03885876387357712, 0.015524893067777157, -0.03309423476457596, -0.04047246649861336, 0.035552978515625, 0.13957084715366364, 0.0550684779882431, 0.03588998317718506, 0.04266948625445366, -0.044621143490076065, -0.012384049594402313, -0.008739238604903221, -0.006806655321270227, 0.11417210102081299, -0.0015648810658603907, 0.040300942957401276, -0.06679772585630417, -0.08805243670940399, -0.07527251541614532, 0.02542179636657238, -0.012308035977184772, -0.06878268718719482, -0.030341722071170807, -0.042123712599277496, 0.023251065984368324, 0.03716551512479782, 0.012993219308555126, 0.0006368810427375138, -0.08724813908338547, 0.03875381126999855, -0.06386446952819824, -0.013382797129452229, -0.015870342031121254, -0.027425440028309822, 0.0355866439640522, 0.00444723991677165, -0.0296405591070652, -0.01000912208110094, -0.026303410530090332, -0.018215380609035492, -0.007810041308403015, 0.05572915077209473, -0.02311285212635994, 0.016216354444622993, -0.04307931289076805, -0.010973494499921799, 0.038387078791856766, 0.018948029726743698, -0.05713333189487457, -0.031500525772571564, 0.024083955213427544, 0.03129094839096069, 0.009659657254815102, 0.026894045993685722, 0.0813511535525322, -0.018915338441729546, 0.04709360748529434, -0.04861662536859512, 0.081722192466259, -0.06173127144575119, 0.04519142210483551, 0.07161857187747955, -0.018143760040402412, -0.03026125580072403, 0.08594958484172821, -0.02992451749742031, -0.03262973949313164, 0.013362380675971508, -0.02436795085668564, 0.004514660220593214, 0.06065146625041962, 0.05428231135010719, -0.036945413798093796, -0.010868700221180916, 0.02935286983847618, 0.06697525084018707, 0.07557917386293411, 0.03197586163878441, -0.003528021741658449, -0.04296811670064926, -0.05039054527878761, 0.023344138637185097, -0.06813284754753113, 0.022141752764582634, 0.02756461873650551, 0.0747787356376648, -0.030903516337275505, -0.07102364301681519, 0.020074952393770218, -0.005568654276430607, 0.03556792065501213, 0.005669542122632265, 0.003334919922053814, -0.038833994418382645, 0.04619765654206276, -0.002242286456748843, 0.007622880395501852, 0.07162285596132278, 0.0005029696621932089, -0.01916099339723587, -0.0789773017168045, 0.009410493075847626, 0.08355849981307983, 0.0574909970164299, -0.03911179304122925, -0.02352372743189335, -0.01385977678000927, -0.035013411194086075, -0.004865481983870268, -0.05933708697557449, -0.03972535952925682, -0.01909799315035343, 0.02130792662501335, 0.028458502143621445, 0.060077790170907974, -0.0011948124738410115, 0.0015544164925813675, 0.052614644169807434, 0.03676939383149147, -0.020744018256664276, 0.03898102045059204, 0.016029667109251022, -0.01667994074523449, 0.01924259029328823, 0.004995252937078476, -0.0137933986261487, 0.02189141884446144, 0.012052452191710472, 0.0820605680346489, 0.02097720466554165, -0.001151821343228221, -0.02962661348283291, 0.021185360848903656, 0.04992038756608963, 0.03018593043088913, 0.03263493999838829, 0.07238274812698364, -0.005740104243159294, 0.006453810725361109, -0.011625323444604874, 0.003321386408060789, -0.0151453148573637, 0.06845059245824814, -0.04073645919561386, 0.04262051358819008, 0.04216873273253441, -0.019397195428609848, -0.023400550708174706, -0.03535007685422897, 0.06388144940137863, 0.0206499882042408, -0.037399135529994965, -0.061191823333501816, -0.04691079631447792, 0.0437384694814682, 0.010402774438261986, 0.013117189519107342, 0.002794545143842697, 0.0644509419798851, -0.041154734790325165, 0.04794446378946304, 0.008193119429051876, -0.0372219942510128, -0.009339142590761185, 0.008106673136353493, 0.15028034150600433, -0.022460801526904106, -0.03664301335811615, 0.003378513967618346, -0.008168508298695087, -0.005575820337980986, -0.0283300019800663, 0.06534598767757416, 0.020984549075365067, -0.022839918732643127, -0.00371151277795434, -0.03086245246231556, 0.028622644022107124, -0.004057799931615591, -0.07080622762441635, 0.018666770309209824, 0.059257686138153076, -0.0885206013917923, 0.00857282243669033, 0.03694901615381241, -0.04829926788806915, -0.03073505312204361, 0.05478674918413162, 0.04782091826200485, -0.007202398031949997, -0.004359257407486439, 0.005973960272967815, -0.040176719427108765, 0.03141843527555466, 0.01089176069945097, -0.004968374036252499, -0.03169134631752968, 0.009280655533075333, 0.027033552527427673, -0.07360523194074631, -0.03846016526222229, -0.006084946915507317, -0.025439709424972534, 0.05704955756664276, -0.07600902765989304, -0.01522079762071371, -0.043750859797000885, 0.02240266092121601, -0.0014176659751683474, -0.028853069990873337, -0.03492768853902817, 0.004156733397394419, 0.012981770560145378, -0.023821067065000534, -0.07612913101911545, -0.0163107980042696, 0.016546376049518585, -0.01339173223823309, -0.0022857049480080605, 0.005722911097109318, -0.030921777710318565, 0.04490147903561592, -0.052785973995923996, -0.019789569079875946, -0.007691254373639822, 0.00497853197157383, -0.05901998281478882, 0.014963376335799694, -0.08057498931884766, 0.0261161420494318, -0.020357675850391388, -0.012178889475762844, -0.035678680986166, -0.008111460134387016, 0.018780123442411423, 0.030309733003377914, 0.02529134787619114, -0.03201122581958771, 0.042752705514431, -0.08220510184764862, 0.01923411153256893, 0.0873720720410347, -0.05639238283038139, -0.01326951663941145, 0.0153645109385252, -0.06070750579237938, -0.014370856806635857, 0.04499496519565582, 0.009849569760262966, -0.036792341619729996, -0.046482812613248825, 0.008145091123878956, 0.058861296623945236, 0.04955095425248146, -0.0018053227104246616, -0.029970776289701462, 0.0003402692964300513, 0.027816351503133774, 0.04220955818891525, -0.06543835252523422, 0.05748964846134186, 0.04962089657783508, -0.054806482046842575, 0.000475671433378011, -0.1055380254983902, -0.03995545580983162, -0.06400778144598007, -0.014092054218053818, -0.0292738638818264, -0.06243906915187836, -0.04791714996099472, 0.06586139649152756, 0.011891009286046028, 0.03190142288804054, 0.03177572041749954, -0.01659185066819191, -0.01602310873568058, 0.050104718655347824, -0.013448278419673443, -0.04678614065051079, -0.03983617201447487, -0.009680409915745258, 0.0625610500574112, 0.0072874147444963455, 0.049328722059726715, 0.008230254985392094, -0.05403152108192444, -0.004572624806314707, -0.0026259419973939657, 0.04451218619942665, 0.006529783830046654, -0.02630935050547123, -0.022101841866970062, 0.01595296338200569, -0.06861920654773712, 0.006854471750557423, 0.07111487537622452, -0.08835891634225845, -0.020899737253785133, 0.03459836542606354, -0.013054903596639633, 0.013097628019750118, -0.003541436977684498, -0.0010360736632719636, -0.03163730725646019, -0.08961480110883713, -0.01502204779535532, -0.009780210442841053, -0.06720432639122009, -6.431917427107692e-05, 0.10338255763053894, 0.005152631085366011, -0.07172945141792297, 0.039988525211811066, 0.0012732914183288813, 0.010361488908529282, 0.023572970181703568, 0.01983981393277645, 0.034606724977493286, 0.015261497348546982, 0.03531355410814285, -0.02620849944651127, -0.042905133217573166, 0.002441242802888155, -0.04981376975774765, 0.016389362514019012, 0.04847550764679909, 0.02873431332409382, -0.035503145307302475, -0.08065665513277054, 0.09407790005207062, -0.07347661256790161, -0.011374232359230518, -0.027664657682180405, -0.02705976739525795, -0.05570976436138153, -0.07614921778440475, 0.05469372868537903, -0.07661423832178116, 0.028955897316336632, 0.05779320374131203, -0.0038814947474747896, 0.08599650114774704, 0.0011279669124633074, -0.039143458008766174, 0.04374039173126221, 0.04512190818786621, 0.03483865037560463, 0.019044285640120506, -0.01161581464111805, -0.04262617975473404, -0.10812406241893768, -0.01572650671005249, -0.08486513048410416, 0.01981961540877819, -0.05618296563625336, -0.003674180479720235, 0.038547582924366, -0.049666691571474075, -0.07487142086029053, 1.0661439773684833e-05, -0.038418956100940704, -0.047689080238342285, -0.021206066012382507, -0.10177984833717346, -0.0696602463722229, -0.020129870623350143, -0.0030552451498806477, -0.011725489050149918, 0.01751006580889225, 0.07223647087812424, -0.06459774076938629, -0.02112700790166855, 0.07263266295194626, -0.02635420486330986, -0.0501660592854023, -0.009660017676651478, -0.033685408532619476, 0.0078447749838233, 0.004584121517837048, -0.08416160941123962, -0.00963553972542286, -0.037890467792749405, 0.018799632787704468, -0.06342363357543945, 0.03835687041282654, 0.012618863955140114, -0.04409876838326454, -0.03902864456176758, -0.050925739109516144, -0.02128567546606064, 0.05134715139865875, 0.0980367362499237, 0.025181103497743607, -0.00883996207267046, -0.0027392194606363773, -0.04382443055510521, 0.0016539838397875428, 0.024594049900770187, -0.03503270819783211, 0.03214665874838829, 0.018943777307868004, -0.028691278770565987, -0.0015490942168980837, 0.01754648983478546, 0.017666641622781754, 0.04542236030101776, 0.055358052253723145, 0.08485597372055054, 0.018204009160399437, 0.015651321038603783, -0.017947012558579445, 0.0015947604551911354, -0.052268147468566895, -0.0018359392415732145, 0.09235898405313492, -0.06030353903770447, 0.01394689455628395, 0.033742062747478485, 0.015669802203774452, 0.03292844817042351, 0.07811205089092255]}}, {'_index': 'test_all', '_type': '_doc', '_id': 'constitucion00000100000002', '_score': 11.0571785, '_source': {'index': 'constitucion', 'legal_source': 'CONSTITUCION POLITICA DE COLOMBIA\\n', 'id': 'constitucion00000100000002', 'book': {'title': None, 'name': None}, 'section': {'title': None, 'name': None}, 'chapter': {'title': None, 'name': None}, 'headline': {'title': 'DISPOSICIONES TRANSITORIAS\\n', 'name': 'DE LA REFORMA DE LA CONSTITUCION\\n'}, 'part': {'title': None, 'name': None}, 'article': {'name': 'Artículo 2.', 'content': ['Artículo 2. Son fines esenciales del Estado: servir a la comunidad, promover la prosperidad general y garantizar la efectividad de los principios, derechos y deberes consagrados en la Constitución; facilitar la participación de todos en las decisiones que los afectan y en la vida económica, política, administrativa y cultural de la Nación; defender la independencia nacional, mantener la integridad territorial y asegurar la convivencia pacifica y la vigencia de un orden justo.\\n', 'Las autoridades de la República están instituidas para proteger a todas las personas residentes en Colombia, en su vida, honra, bienes, creencias, y demás derechos y libertades, y para asegurar el cumplimiento de los deberes sociales del Estado y de los particulares.\\n']}, 'embedds': [0.0040732030756771564, 0.09081056714057922, 0.040212735533714294, 0.04955104738473892, -0.05924663692712784, 0.010849910788238049, -0.0038856405299156904, -0.03093850240111351, -0.040331192314624786, -0.02620087005198002, 0.02515156753361225, 0.0038038904312998056, 0.032769154757261276, 0.018140215426683426, -0.018945472314953804, -0.0031245218124240637, -0.060746483504772186, -0.010712447576224804, -0.04995596781373024, 0.022021880373358727, 0.002255156170576811, 0.050739649683237076, -0.009438428096473217, 0.010455948300659657, -0.023670243099331856, -0.023484954610466957, 0.047825079411268234, -0.04186110198497772, -0.03987051546573639, 0.02798287943005562, -0.0019537501502782106, 0.032073792070150375, -0.044920213520526886, 0.017216604202985764, 0.013220326043665409, -0.0730879083275795, -0.034484267234802246, 0.034883178770542145, 0.016151683405041695, -0.11389680206775665, -0.0008423065883107483, 0.04062420502305031, -0.01910373382270336, -0.009363294579088688, -0.0506899394094944, 0.005104560870677233, -0.04886611923575401, 0.05348505824804306, -0.03370236977934837, 0.06613397598266602, -0.029193522408604622, -0.03882503882050514, 0.052551429718732834, 0.0520765520632267, 0.04640421271324158, 0.026228079572319984, 0.0015236687613651156, -0.08126124739646912, 0.1154102236032486, 0.06556342542171478, 0.01041503343731165, -0.037377722561359406, 0.012387601658701897, 0.02682339772582054, 0.0497346892952919, 0.06002119928598404, 0.038754064589738846, -0.04323146492242813, -0.0006947505753487349, 0.035462331026792526, -0.004610169678926468, 0.03344416990876198, -0.016647715121507645, 0.04988837242126465, -0.009777357801795006, 0.036789003759622574, -0.01346905343234539, 0.014141692779958248, -0.031112508848309517, 0.08967646956443787, -0.03206153213977814, 0.019148610532283783, -0.1068025603890419, 0.016143787652254105, -0.030626848340034485, -0.058933552354574203, -0.025131333619356155, -0.03545726463198662, 0.028274165466427803, -0.0027431859634816647, 0.06562333554029465, -0.011853798292577267, -0.06983457505702972, -0.02891160175204277, 0.07533327490091324, 0.1182447001338005, 0.049985431134700775, 0.04104878008365631, 0.0827549621462822, -0.022014152258634567, -0.020150262862443924, -0.0024902140721678734, 0.015329229645431042, 0.05532329902052879, -0.0516379289329052, 0.015585711225867271, -0.0004127983993384987, -0.035521991550922394, -0.030675316229462624, 0.010829422622919083, 0.0648244172334671, -0.06066000834107399, -0.09316156804561615, 0.04782627522945404, 0.0649120956659317, 0.03165260702371597, 0.0010201575933024287, 0.017431870102882385, -0.08504845947027206, 0.02911597490310669, -0.03372201696038246, 0.019019216299057007, 0.005361382383853197, -0.02382691018283367, 0.09633710980415344, -0.011371142230927944, -0.06079893559217453, -0.024210574105381966, -0.053831495344638824, -0.023064883425831795, -0.001863066921941936, 0.06554555892944336, -0.05412641912698746, 0.011232614517211914, -0.023482538759708405, 0.012318465858697891, 0.00765647878870368, 0.01262827217578888, -0.09685885906219482, -0.0685499757528305, 0.04857047274708748, -0.002644098363816738, 0.007085302844643593, -0.02118218131363392, 0.07990693300962448, 0.014781245030462742, 0.04347878694534302, -0.018862923607230186, 0.06629820913076401, 0.039459098130464554, 0.03676776587963104, 0.07348037511110306, -0.02532699704170227, 0.03665066137909889, 0.04503180459141731, -0.01613491401076317, 0.02416420914232731, -0.006900610402226448, -0.00463302293792367, 0.05073396861553192, 0.01831284537911415, 0.08952057361602783, -0.08855360746383667, 0.02376656047999859, 0.05365937948226929, 0.05919526517391205, 0.021504893898963928, 0.049502644687891006, -0.07141884416341782, 0.0028758584521710873, -0.04340897500514984, 0.043994586914777756, -0.05942865461111069, 0.07013803720474243, 0.04131690785288811, 0.08399102836847305, -0.03744113817811012, -0.07211460173130035, 0.08693104237318039, 0.028206633403897285, 0.04138880595564842, 0.08141138404607773, -0.019801337271928787, 0.0016052407445386052, 0.0305546373128891, -0.012617448344826698, -0.022039271891117096, 0.03960937634110451, 0.035512540489435196, -0.003532412927597761, -0.010000386275351048, 0.041367143392562866, 0.05292534455657005, -0.01784406416118145, -0.03876044973731041, -0.023658879101276398, 0.05778014659881592, -0.05015770345926285, -0.012794600799679756, -0.07478498667478561, -0.09278346598148346, -0.03309478983283043, 0.028678663074970245, 0.04526232182979584, -0.001868927851319313, 0.03895501047372818, -0.049668848514556885, 0.06549481302499771, 0.02614099346101284, 0.016286443918943405, 0.06283532828092575, -0.017534645274281502, 0.04716340824961662, -0.054615434259176254, 0.03778119012713432, -0.017848705872893333, 0.02760806493461132, 0.03142219036817551, 0.09213517606258392, -0.038559962064027786, -0.03471960872411728, -0.037553783506155014, -0.02280391752719879, -0.0021911596413701773, -0.009556245058774948, 0.00321836001239717, 0.06833145767450333, 0.05607837066054344, -0.01469147764146328, 0.024924861267209053, -0.05325528606772423, -0.06456088274717331, 0.006095516495406628, 0.045145973563194275, 0.0764586478471756, 0.07178627699613571, 0.03895115107297897, 0.00792216882109642, -0.0020044208504259586, 0.05485958606004715, 0.05976692959666252, 0.01660638302564621, -0.03954920917749405, -0.04648743197321892, 0.035533271729946136, -0.05584832653403282, 0.03787950426340103, -0.014449948444962502, 0.03965187072753906, -0.06784166395664215, 0.02449411153793335, -0.03136912360787392, 0.0038590061012655497, 0.0367216020822525, 0.004414366092532873, 0.14828354120254517, -0.00243437010794878, -0.041284821927547455, 0.059617407619953156, 0.0111197829246521, -0.010363184846937656, 0.027428660541772842, 0.05285761505365372, -0.017014367505908012, 0.008156013675034046, 0.021971426904201508, -0.03885478526353836, 0.04386487603187561, -0.014673485420644283, -0.024409979581832886, -0.011088606901466846, 0.053731437772512436, 0.005246152635663748, 0.005921490956097841, 0.034825753420591354, -0.04410163313150406, -0.02994917519390583, -9.865128231467679e-05, 0.08295322954654694, -0.019300173968076706, -0.006269207689911127, -0.036318808794021606, -0.030384859070181847, -0.01790378801524639, 0.0026669895742088556, -0.06302262842655182, -0.05966150388121605, 0.01929536648094654, 0.0006033102981746197, -0.0029645184986293316, 0.019447071477770805, -0.033078983426094055, -0.0027507951017469168, 0.01898384466767311, -0.07189689576625824, 0.022991206496953964, -0.014356479980051517, -0.04505424574017525, -0.02339344657957554, -0.020700959488749504, -0.06652842462062836, 0.06712640076875687, 0.008592191152274609, 0.07818596065044403, -0.07861639559268951, -0.008505555801093578, 0.03518971800804138, 0.03056582808494568, -0.05754172056913376, -0.0062172734178602695, -0.015789374709129333, 0.01511088665574789, 0.013566671870648861, -0.07315917313098907, 0.02387596294283867, -0.025881778448820114, -0.056478407233953476, 0.007473306264728308, -0.08886658400297165, 0.037342917174100876, 0.014660061337053776, 0.010199496522545815, 0.04015098884701729, 0.003780375001952052, 0.028659475967288017, 0.045288946479558945, -0.018168173730373383, 0.029045958071947098, 0.013070555403828621, -0.027818409726023674, 0.06932438164949417, 0.049640074372291565, -0.07974424958229065, -0.07443571835756302, 0.024141496047377586, -0.09214920550584793, -0.04978615418076515, -0.014588793739676476, 0.009232692420482635, 0.053097836673259735, -0.043135128915309906, 0.010968616232275963, 0.024803001433610916, 0.050588712096214294, -0.006658955477178097, -0.041709452867507935, 0.04392464831471443, 0.015964463353157043, 0.033870816230773926, -0.07766301184892654, 0.09803696721792221, -0.005750047508627176, -0.07946392148733139, -0.042581990361213684, -0.09118486195802689, -0.054417528212070465, -0.11258795857429504, 0.03110014647245407, -0.010944565758109093, -0.004761986900120974, -0.0484963022172451, 0.018168112263083458, -0.014942317269742489, 0.0015450580976903439, 0.044514697045087814, -0.04955283924937248, -0.04846064746379852, 0.020460497587919235, 0.04179918020963669, -0.016641445457935333, -0.012294631451368332, 0.0034148453269153833, 0.08307026326656342, 0.056986913084983826, 0.02662699483335018, -0.0018147870432585478, -0.049762047827243805, 0.06905946880578995, 0.010646726004779339, 0.03357813134789467, 0.023198693990707397, -0.016618937253952026, -0.04480068013072014, -0.03412792831659317, 0.01675252430140972, 0.0004968714783899486, 0.03560683876276016, -0.03587863966822624, 0.0023646829649806023, -0.06265963613986969, 0.054786521941423416, 0.006710615940392017, -0.021143486723303795, -0.022793300449848175, -0.020253386348485947, -0.08345270156860352, 0.05935004726052284, 0.03138028457760811, -0.04969188943505287, 0.025205034762620926, 0.04831923171877861, 0.014266540296375751, -0.06861378252506256, 0.046951428055763245, -0.002128798980265856, -0.04384911432862282, -0.034011829644441605, -0.009186623618006706, -0.003611585358157754, -8.377520862268284e-05, 0.06002279371023178, 0.006671908777207136, 0.017777813598513603, -0.03349028527736664, -0.061565008014440536, -0.016192864626646042, -0.016365641728043556, 0.027612214908003807, 0.006493433844298124, -0.04218597337603569, 0.07207989692687988, -0.057433586567640305, -0.015938885509967804, -0.013900174759328365, -0.008578197099268436, -0.07449837028980255, -0.03814169391989708, 0.05237792059779167, 0.010294746607542038, 0.022034477442502975, 0.030878933146595955, -0.04630056023597717, 0.04874802753329277, -0.006547568831592798, 0.0261367280036211, 0.045659277588129044, 0.04074570909142494, 0.009622479788959026, 0.05095328763127327, -0.0013846887741237879, -0.024163726717233658, -0.13821418583393097, -0.02231510356068611, 0.030524104833602905, 0.0606166310608387, -0.04060631990432739, 0.019435377791523933, 0.06024671345949173, -0.02264859713613987, -0.042994070798158646, -0.02078825607895851, -0.006683530751615763, -0.04299291968345642, -0.039443179965019226, -0.04177750274538994, -0.044629961252212524, -0.05595637485384941, -0.004753026645630598, -0.05204983800649643, 0.05512240529060364, 0.060909148305654526, -0.040173567831516266, -0.0445992685854435, 0.05999157577753067, 0.023570485413074493, 0.030066674575209618, -0.05379379540681839, -0.04081190750002861, 0.0128939813002944, 0.021532069891691208, -0.0789005383849144, -0.008900676853954792, -0.03855077177286148, 0.04963554069399834, -0.053273916244506836, 0.05414776876568794, -0.023729296401143074, -0.06757476180791855, -0.007509280927479267, 0.041524533182382584, 0.029644323512911797, 0.073233462870121, 0.07287943363189697, 0.10638520121574402, -0.01234392262995243, 0.018455248326063156, 0.00125458266120404, -0.009978953748941422, 0.006209063343703747, -0.004019002430140972, 0.07531016319990158, 0.015047683380544186, -0.008060157299041748, 0.00591622618958354, 0.004928844049572945, 0.06646327674388885, 0.02347959391772747, 0.07262107729911804, 0.07589180022478104, 0.00569780683144927, -0.02139906957745552, -0.027467168867588043, 0.03638872876763344, -0.0035658874548971653, 0.018406951799988747, -0.0020761252380907536, -0.009329513646662235, -0.02240307256579399, 0.05511774495244026, -0.0003225759428460151, 0.01546984538435936, 0.02625570259988308]}}, {'_index': 'test_all', '_type': '_doc', '_id': 'constitucion00000100000003', '_score': 11.0571785, '_source': {'index': 'constitucion', 'legal_source': 'CONSTITUCION POLITICA DE COLOMBIA\\n', 'id': 'constitucion00000100000003', 'book': {'title': None, 'name': None}, 'section': {'title': None, 'name': None}, 'chapter': {'title': None, 'name': None}, 'headline': {'title': 'DISPOSICIONES TRANSITORIAS\\n', 'name': 'DE LA REFORMA DE LA CONSTITUCION\\n'}, 'part': {'title': None, 'name': None}, 'article': {'name': 'Artículo 3.', 'content': ['Artículo 3. La soberanía reside exclusivamente en el pueblo, del cual emana el poder público. El pueblo la ejerce en forma directa o por medio de sus representantes, en los términos que la Constitución establece.\\n']}, 'embedds': [0.010173899121582508, 0.08467913419008255, 0.00512612285092473, 0.04162700101733208, -0.0724114254117012, -0.004756329581141472, 0.03291114419698715, 0.033216603100299835, 0.004062179010361433, -0.03875533118844032, 0.04381014406681061, 0.023547524586319923, 0.06162158027291298, 0.022908341139554977, 0.026694288477301598, -0.017998192459344864, -0.046580590307712555, 0.010221730917692184, -0.011526383459568024, 0.009478729218244553, -0.00445601949468255, 0.01979709416627884, 0.01702965795993805, 0.030418260022997856, -0.02335505373775959, -0.03421736881136894, -0.03331664949655533, -0.06338472664356232, 0.003090068232268095, 0.029727671295404434, -0.037808164954185486, -0.0744885727763176, 0.022935902699828148, 0.007645477075129747, 0.018719598650932312, -0.07473040372133255, -0.014467638917267323, 0.032694559544324875, -0.02241481840610504, -0.10565293580293655, -0.009377533569931984, 0.024756288155913353, -0.022995108738541603, 0.010818079113960266, -0.027455884963274002, -0.001534842886030674, -0.020201921463012695, 0.028459593653678894, -0.009865278378129005, 0.05271527171134949, -0.029712891206145287, -0.05125277489423752, 0.03504270315170288, 0.053365860134363174, 0.016917476430535316, -0.04410091042518616, -0.0106969540938735, -0.06857912242412567, -0.024228675290942192, 0.037281665951013565, 0.0370846651494503, -0.03904994577169418, 0.01752207987010479, -0.0035275956615805626, 0.05671863630414009, 0.027213266119360924, 0.04381369426846504, -0.049452316015958786, 0.01110663078725338, 0.038916364312171936, -0.017323002219200134, 0.028422260656952858, -0.007107910700142384, 0.07042019814252853, -0.03458348661661148, 0.0007008062675595284, -0.028647685423493385, 0.020953252911567688, -0.00686342129483819, 0.06292567402124405, -0.022378848865628242, 0.007862566970288754, -0.10270656645298004, -0.023579923436045647, 0.0219613928347826, -0.018292440101504326, -0.02535093016922474, -0.050372570753097534, 0.026100128889083862, -0.009587675333023071, 0.03245542570948601, -0.006672011688351631, -0.06625574827194214, -0.018085911870002747, 0.05129213258624077, 0.11698037385940552, 0.05922621488571167, 0.03356538340449333, 0.07290931046009064, -0.02319471910595894, -0.030010398477315903, 0.044555239379405975, -0.020433491095900536, 0.05244337394833565, -0.05993153527379036, 0.017056941986083984, 0.0342780239880085, -0.013462347909808159, -0.031549062579870224, 0.030850237235426903, 0.06941564381122589, -0.04321473091840744, 0.012498958967626095, 0.043872471898794174, 0.04920028895139694, 0.008297212421894073, -0.0008557160617783666, -0.009047083556652069, -0.07371093332767487, 0.047986000776290894, -0.012277252972126007, 0.02035137452185154, -0.0030954445246607065, -0.07646197080612183, 0.042089156806468964, 0.012199271470308304, -0.05196268856525421, -0.07050511986017227, -0.030178124085068703, -0.060993317514657974, -0.03276366367936134, 0.05793147534132004, -0.0507989227771759, -0.006466808263212442, -0.04097218066453934, 0.0544932596385479, -0.00205218861810863, -0.024042557924985886, -0.08376955986022949, -0.05068587511777878, 0.0779629498720169, -0.025178497657179832, 0.010455644689500332, -0.049725327640771866, 0.10204668343067169, -0.0010364099871367216, 0.04378176108002663, 0.01434250082820654, 0.0681203156709671, 0.02465318888425827, 0.03649672865867615, 0.05589049682021141, -0.03662162274122238, 0.05078791826963425, -0.003293578512966633, -0.05844689533114433, 0.03789072483778, 0.01098649576306343, -0.04927005618810654, 0.09180527925491333, -0.01474417932331562, 0.004053635988384485, -0.11477895081043243, 0.007318034302443266, 0.008232971653342247, 0.07979312539100647, 0.017057523131370544, 0.02882094494998455, -0.05369294434785843, 0.0029578201938420534, -0.03631824627518654, 0.046929389238357544, -0.04185543581843376, 0.05057189613580704, -0.003738096449524164, 0.07231349498033524, -0.04348098486661911, -0.04633794724941254, 0.07147231698036194, -0.0600070022046566, 0.01908297650516033, 0.07825856655836105, -0.024920545518398285, -0.039796944707632065, 0.02918587066233158, -0.02050149440765381, 0.003570478642359376, 0.04558580368757248, 0.039219100028276443, -0.005569990258663893, -0.06133566424250603, 0.069625623524189, 0.04450596123933792, -0.01794152706861496, -0.04602751508355141, -0.020151136443018913, 0.0019238087115809321, -0.042405128479003906, -0.004173750057816505, -0.009794714860618114, -0.10724778473377228, -0.03733295947313309, 0.023344215005636215, 0.03996743634343147, 0.019606731832027435, 0.008725106716156006, -0.01580277644097805, 0.06275485455989838, 0.01743210107088089, -0.009309687651693821, 0.08164826780557632, -0.04912388324737549, 0.0832384005188942, -0.057584185153245926, 0.0782584398984909, 0.01862366311252117, 0.027539199218153954, 0.0269000381231308, 0.0632849708199501, -0.051679082214832306, 0.009733125567436218, 0.03792008012533188, 0.029607947915792465, -0.024253645911812782, 0.017194995656609535, 0.0040115355513989925, 0.07571590691804886, 0.07157211750745773, 0.05902321636676788, 0.028770605102181435, -0.03567427024245262, -0.025088181719183922, 0.02183506451547146, 0.04371741786599159, 0.07502903044223785, 0.029144935309886932, 0.0974448099732399, 0.025267742574214935, -0.04714360460639, 0.04127643629908562, 0.062111131846904755, 0.04751823469996452, -0.04022436589002609, -0.05039820447564125, 0.026759682223200798, -0.03807893395423889, 0.027536718174815178, -0.005040945950895548, 0.0419994592666626, -0.06083259731531143, 0.039387285709381104, -0.031441833823919296, 0.03306110203266144, 0.0091029591858387, 0.014617233537137508, 0.04922012239694595, -0.0390164814889431, -0.03541728854179382, 0.0373230017721653, 0.03668428212404251, 0.0006018998101353645, 0.033203259110450745, 0.06772077083587646, -0.03864190727472305, 0.014664522372186184, 0.01724761351943016, -0.0691387951374054, 0.03391316160559654, -0.01890469156205654, -0.02384120784699917, 0.020944302901625633, 0.03020002879202366, 0.017057284712791443, 0.011847149580717087, 0.039256252348423004, -0.01986895687878132, -0.018516970798373222, 0.018671078607439995, 0.07951126992702484, 0.021935580298304558, -0.03550482541322708, 0.0031880068127065897, -0.0012627877295017242, -0.0499926432967186, 0.04870003089308739, -0.0652194693684578, 0.019795313477516174, 0.04100213199853897, -0.019556811079382896, -0.01933998428285122, 0.05501287430524826, 0.005222518462687731, -0.007981620728969574, 0.014286008663475513, -0.06525182723999023, -0.0008585476316511631, 0.03547142446041107, -0.002608280861750245, -0.0053871311247348785, -0.012481044046580791, -0.07425235956907272, 0.04964321479201317, 0.03983786329627037, 0.05056239292025566, -0.08225329220294952, -0.027226747944951057, 0.06652127951383591, 0.014142454601824284, -0.07357430458068848, 0.019126081839203835, -0.004976034630089998, 0.07046414166688919, -0.005734072998166084, -0.06587157398462296, 0.027695653960108757, -0.02571742609143257, -0.02842744067311287, 0.023055844008922577, -0.08074426651000977, 0.062128033488988876, -0.026006950065493584, -0.008344155736267567, 0.06640181690454483, -0.010539455339312553, 0.05170541629195213, 0.08136860281229019, 0.02537587285041809, 0.04840847849845886, 0.00016647660231683403, -0.03851967304944992, 0.013338633812963963, 0.06482280045747757, -0.04339419677853584, -0.06348816305398941, 0.041233424097299576, -0.08020438253879547, -0.0784621611237526, -0.009320723824203014, 0.021459002047777176, 0.06904955208301544, -0.04660114273428917, -0.013641570694744587, -0.0027171438559889793, -0.01341223530471325, -0.03677644208073616, -0.05955757200717926, 0.04914230853319168, 0.06831283867359161, -0.062098003923892975, -0.08765143156051636, 0.06195005774497986, -0.0030571084935218096, -0.09028089046478271, 0.01097534317523241, -0.09328342974185944, -0.05149374157190323, -0.11794807016849518, 0.030300339683890343, -0.012485124170780182, 0.02527431957423687, -0.01415248867124319, 0.040692444890737534, -0.0005354163586162031, -0.0629434585571289, 0.05330353230237961, -0.048631031066179276, -0.034182216972112656, -0.0038324350025504827, 0.012103496119379997, -0.04144056886434555, 0.012032588943839073, -0.015325691550970078, 0.05241917818784714, 0.0823810026049614, 0.023952167481184006, 0.026476668193936348, -0.019470559433102608, 0.06515320390462875, 0.013683470897376537, 0.0752612054347992, 0.002560726134106517, -0.020390398800373077, -0.037288106977939606, -0.03535459190607071, 0.01629292219877243, 0.009348493069410324, 0.06869465857744217, -0.008159246295690536, -0.006173963192850351, -0.04467145353555679, 0.012665399350225925, -0.0017163943266496062, -0.025407031178474426, -0.06309983134269714, -0.06331230700016022, -0.0820247158408165, 0.09793958067893982, 0.003560410114005208, -0.003605104051530361, 0.030870284885168076, 0.04600049555301666, 0.04458211734890938, -0.05146403983235359, 0.03966998681426048, -0.016467547044157982, -0.03615780919790268, -0.013760089874267578, 0.006188414059579372, -0.0044791013933718204, 0.07166330516338348, 0.08920899033546448, 0.009666639380156994, 0.004185355734080076, -0.0399780310690403, 0.055569250136613846, -0.04069720208644867, -0.05440612882375717, 0.019388964399695396, -0.029284844174981117, -0.030500857159495354, 0.03931571915745735, 0.04547758772969246, -0.05604473128914833, 0.011017248034477234, 0.013929760083556175, -0.06443070620298386, -0.026939764618873596, 0.03989063575863838, 0.04202999174594879, 0.07804878056049347, 0.012251319363713264, -0.02972269430756569, 0.055961549282073975, -0.02725762315094471, 0.016070272773504257, 0.04962149262428284, 0.03497669845819473, 0.007335529197007418, 0.07003176212310791, -0.012391665019094944, -0.0005193145480006933, -0.1364157348871231, -0.015227440744638443, -0.014903667382895947, 0.06891189515590668, -0.02938290685415268, 0.02584889531135559, 0.06413103640079498, -0.0030231745913624763, -0.01749655231833458, 0.003331125946715474, -0.015016037039458752, -0.019327273592352867, -0.028438681736588478, -0.04847073554992676, -0.019169343635439873, -0.043295834213495255, 0.003200916340574622, -0.020715583115816116, 0.058886267244815826, 0.04996625334024429, -0.05480920150876045, 0.024753408506512642, 0.1009160652756691, 0.02965284138917923, -0.0027508169878274202, 0.01935705542564392, 0.019886596128344536, 0.03486604616045952, 0.009254325181245804, -0.08393159508705139, 0.027450185269117355, 0.05027955770492554, 0.027983633801341057, -0.03945643827319145, 0.03307841718196869, 0.019669000059366226, -0.08739806711673737, -0.0038947472348809242, 0.0823776125907898, -0.010408071801066399, 0.03889426961541176, 0.08683591336011887, 0.11292972415685654, 0.013233214616775513, 0.03381585329771042, -0.030699802562594414, -0.004492683336138725, -0.022569378837943077, -0.029155828058719635, 0.04014233127236366, 0.05038236826658249, -0.011285155080258846, 0.018589375540614128, -0.012350606732070446, 0.0563732348382473, 0.019840499386191368, 0.010182035155594349, 0.096198171377182, 0.012050739489495754, -0.0420561283826828, -0.05771826207637787, 0.007936074398458004, 0.006992245092988014, 0.04811994731426239, 0.01463952288031578, 0.008372407406568527, 0.01197003573179245, 0.028072107583284378, -0.025241604074835777, -0.02440275438129902, 0.08773954957723618]}}, {'_index': 'test_all', '_type': '_doc', '_id': 'constitucion00000100000004', '_score': 11.0571785, '_source': {'index': 'constitucion', 'legal_source': 'CONSTITUCION POLITICA DE COLOMBIA\\n', 'id': 'constitucion00000100000004', 'book': {'title': None, 'name': None}, 'section': {'title': None, 'name': None}, 'chapter': {'title': None, 'name': None}, 'headline': {'title': 'DISPOSICIONES TRANSITORIAS\\n', 'name': 'DE LA REFORMA DE LA CONSTITUCION\\n'}, 'part': {'title': None, 'name': None}, 'article': {'name': 'Artículo 4.', 'content': ['Artículo 4. La Constitución es norma de normas. En todo caso de incompatibilidad entre la Constitución y la ley u otra norma jurídica, se aplicarán las disposiciones constitucionales.\\n', 'Es deber de los nacionales y de los extranjeros en Colombia acatar la Constitución y las leyes, y respetar y obedecer a las autoridades.\\n']}, 'embedds': [0.004502664320170879, 0.09044172614812851, 0.057775724679231644, 0.039775360375642776, -0.08532026410102844, 0.022945163771510124, 0.02722405269742012, -0.012829870916903019, -0.05492003634572029, -0.03516027703881264, 0.026182595640420914, 0.04222403094172478, 0.07866936922073364, 0.007198315113782883, 0.04433401674032211, -0.024930285289883614, -0.02252550609409809, -0.012389943934977055, -0.016194147989153862, -0.002517139771953225, -0.020967504009604454, -0.004111162386834621, 0.027889274060726166, 0.02791917696595192, 0.008440670557320118, 0.004487813450396061, 0.04516182094812393, -0.04731163755059242, -0.0011338182957842946, -0.00681987265124917, -0.029771175235509872, -0.040775611996650696, 0.018046144396066666, 0.013019845820963383, 0.05064713954925537, -0.0327267087996006, 0.0030382652767002583, 0.02094435505568981, -0.0013307052431628108, -0.10238400101661682, -0.01139124296605587, -0.025796767324209213, -0.03717886656522751, 0.05561552569270134, -0.007657078094780445, 0.050823938101530075, -0.022466858848929405, -0.003929507452994585, -0.0025245093274861574, 0.048750147223472595, -0.0302885714918375, -0.06590060889720917, 0.010137681849300861, 0.05119004100561142, -0.004571808502078056, 0.014365010894834995, -0.027682268992066383, -0.07244406640529633, -0.08278176933526993, 0.03594096750020981, 0.06675674766302109, -0.03364980220794678, -0.002215804997831583, -0.041295770555734634, 0.02452690526843071, 0.06384871900081635, 0.03714628145098686, -0.10863544046878815, 0.03220592066645622, 0.08093459904193878, -0.033482398837804794, 0.010319850407540798, 0.00567502249032259, 0.07834918797016144, -0.043171320110559464, -0.01139726024121046, -0.03636271506547928, 0.033956922590732574, -0.014914309605956078, 0.08680317550897598, -0.022151224315166473, 0.021415485069155693, -0.10535317659378052, 0.026012402027845383, 0.013186686672270298, 0.042985785752534866, 0.001729294192045927, -0.04018619284033775, 0.0482601523399353, -0.014259549789130688, 0.01906605251133442, 0.0061610047705471516, -0.05436251685023308, -0.003036846872419119, 0.053565967828035355, 0.1246470957994461, 0.018001317977905273, 0.06672512739896774, 0.06553569436073303, 0.0034648897126317024, -0.024591101333498955, 0.006954011972993612, -0.01329933013767004, 0.0506267249584198, -0.04529280960559845, 0.01599203236401081, 0.005964424926787615, 0.0043524787761271, -0.03315504267811775, -0.0008292403072118759, 0.06814894080162048, -0.04521452262997627, -0.0008670739480294287, 0.023781668394804, 0.03767858445644379, 0.023809799924492836, 0.01333365123718977, 0.09743859618902206, -0.09374018013477325, 0.014815405942499638, -0.03533824905753136, -0.02395329810678959, 0.00901840627193451, -0.03892344608902931, 0.09557797014713287, 0.0010033795842900872, -0.07070864737033844, -0.04704466462135315, -0.01859959028661251, -0.052192412316799164, 0.006186317186802626, 0.06826908141374588, -0.013046814128756523, 0.032143570482730865, -0.022702746093273163, 0.03320479765534401, -0.02215343900024891, -0.003716318169608712, -0.040704019367694855, -0.04172078147530556, 0.06521818041801453, -0.004052910953760147, 0.015381984412670135, -0.025564176961779594, 0.06586005538702011, 0.01873425953090191, 0.03311295807361603, -0.025920962914824486, 0.07182692736387253, 0.02487511746585369, 0.00617735181003809, 0.04579981788992882, -0.07165245711803436, 0.023661693558096886, -0.02880844473838806, -0.04226856306195259, 0.050983186811208725, 0.010492192581295967, -0.014808651991188526, 0.03855869546532631, -0.012574716471135616, 0.007377925328910351, -0.09869297593832016, 0.01232392992824316, 0.010738545097410679, 0.09254145622253418, 0.0030407756567001343, 0.06083309277892113, -0.017253024503588676, -0.026781313121318817, -0.04074663668870926, 0.02534380741417408, -0.04932146519422531, 0.039370689541101456, 0.013990437611937523, 0.06463012099266052, -0.03435847908258438, -0.06564383953809738, 0.071614570915699, -0.0022741719149053097, 0.04489150270819664, 0.09894180297851562, -0.04513557627797127, -0.022333642467856407, 0.03147709369659424, -0.003181211184710264, 0.0039028022438287735, 0.012805825099349022, 0.07414596527814865, -0.023569423705339432, -0.022497912868857384, 0.06347192823886871, 0.05296323820948601, -0.06397228688001633, -0.044137585908174515, -0.001284279627725482, 0.015488131903111935, -0.05172157287597656, 0.04512472450733185, -0.0305634792894125, -0.09722696244716644, -0.03952133655548096, -0.015735477209091187, 0.05127762630581856, 0.035412970930337906, 0.017513826489448547, 0.013651447370648384, 0.05012205243110657, -0.020763594657182693, -0.017309360206127167, 0.02523927576839924, -0.007586800958961248, 0.0749482661485672, -0.07631410658359528, 0.047750264406204224, -0.024697696790099144, 0.010732758790254593, 0.03785322234034538, 0.044823840260505676, -0.06779636442661285, -0.05078712850809097, 0.01635882444679737, 0.007945896126329899, -0.009961443953216076, 0.04919881746172905, 0.024055534973740578, 0.07278410345315933, 0.03681862726807594, -0.053027406334877014, -0.011078924871981144, -0.027252359315752983, -0.010611753910779953, 0.010231203399598598, 0.041221313178539276, 0.0622386671602726, 0.05787969380617142, 0.08077273517847061, 0.03466467186808586, -0.02214219979941845, 0.04289163276553154, 0.03848130255937576, 0.06533939391374588, -0.033007025718688965, -0.023854488506913185, 0.03590257838368416, -0.05125036463141441, 0.03284728527069092, 0.01634315960109234, 0.05321865156292915, -0.0444955937564373, 0.04779597744345665, -0.0020657104905694723, 0.039176907390356064, 0.04529115930199623, -0.018986864015460014, 0.003488906193524599, -0.029220927506685257, -0.035279225558042526, 0.014485540799796581, 0.0498003326356411, -0.022832214832305908, 0.025427095592021942, 0.05800040438771248, -0.0274374857544899, 0.017465785145759583, 0.014832192100584507, -0.07102607190608978, 0.01718881167471409, -0.015593067742884159, -0.040049485862255096, 0.02262050099670887, 0.010676516219973564, 0.044090285897254944, -8.281862392323092e-05, 0.06374123692512512, -0.07341161370277405, 0.016730522736907005, 0.03875161334872246, 0.07023686170578003, 0.005797781515866518, -0.04010920971632004, -0.016322460025548935, -0.025323985144495964, -0.04665808007121086, 0.05421352759003639, -0.05436700955033302, 0.013038729317486286, 0.038990359753370285, 0.11078986525535583, 0.018840588629245758, 0.04791905730962753, 0.012700851075351238, -0.011611669324338436, 0.03679196164011955, -0.08015426993370056, -0.021250011399388313, 0.02058464288711548, -0.0058477190323174, 0.005703332833945751, -0.006243045441806316, -0.07499706000089645, 0.03356270119547844, 0.02468753047287464, 0.048775866627693176, -0.07751879096031189, -0.01972089894115925, 0.021244002506136894, 0.021043838933110237, -0.07086604833602905, -0.01124964002519846, -0.008694604970514774, 0.05856890603899956, 0.007712087128311396, -0.05069280415773392, -0.033265165984630585, -0.021378593519330025, -0.03154856339097023, 0.04989852011203766, -0.09596897661685944, 0.06763987988233566, -0.013931448571383953, -0.04608463868498802, 0.061768848448991776, -0.03633635491132736, 0.05813324451446533, 0.023968257009983063, -0.006838747300207615, -0.00213075359351933, 0.008798696100711823, -0.08711647987365723, 0.02211116999387741, 0.06047363206744194, -0.012144448235630989, -0.042759206146001816, 0.03841713070869446, -0.10244092345237732, -0.10247734934091568, -0.001695045968517661, 0.01648774743080139, 0.10627690702676773, -0.08649520576000214, 0.005340511444956064, 0.015576689504086971, 0.02200770378112793, -0.009379317983984947, -0.015738463029265404, 0.0618782639503479, 0.03011373057961464, 0.01341917272657156, -0.07857263833284378, 0.02698354423046112, -0.008732224814593792, -0.08224640786647797, -0.05616052821278572, -0.07381757348775864, -0.01087939366698265, -0.10313823074102402, 0.02968277595937252, 0.009415481239557266, 0.04710075631737709, -0.005232230294495821, -0.008875916711986065, 0.005986849777400494, -0.030695321038365364, 0.029149245470762253, -0.031596358865499496, -0.03781520947813988, 0.009665419347584248, 0.03382336348295212, -0.05795588344335556, 0.021189985796809196, 0.014115016907453537, 0.0754101350903511, 0.05470869690179825, 0.025539632886648178, 0.01649383082985878, -0.052066702395677567, 0.0680181160569191, -0.0037182902451604605, 0.027515968307852745, 0.024041423574090004, -0.021018175408244133, -0.03142526373267174, -0.02478444017469883, 0.05047290027141571, 0.01708194985985756, 0.09072888642549515, 0.01934092305600643, 0.04629909619688988, -0.039133790880441666, 9.338655218016356e-05, 0.00921586249023676, -0.027454107999801636, -0.014572023414075375, -0.036431826651096344, -0.06867403537034988, 0.08834140002727509, -0.020889556035399437, -0.03333050757646561, 0.0033391511533409357, 0.013395060785114765, -0.07075903564691544, -0.08076627552509308, 0.008857977576553822, -0.010087371803820133, -0.07184188067913055, 0.04701053351163864, -0.010022268630564213, 0.006688978523015976, 0.023102715611457825, 0.04463867470622063, 0.02121248096227646, 0.014616473577916622, -0.04933948442339897, -0.010133488103747368, 0.007087016012519598, -0.056585367769002914, 0.05645972490310669, 0.015071638859808445, -0.016206949949264526, 0.030164601281285286, -0.011422487907111645, -0.031746845692396164, -0.036889806389808655, 0.01322264689952135, -0.08036439120769501, -0.01909293606877327, 0.06813056766986847, 0.012079951353371143, 0.0339774414896965, 0.017523596063256264, -0.05374067649245262, 0.07303932309150696, 0.013498778454959393, 0.008315815590322018, 0.028730066493153572, 0.03781161084771156, 0.021418409422039986, 0.05037587508559227, 0.04738079756498337, -0.0026712638791650534, -0.14295463263988495, -0.016457855701446533, -0.009720653295516968, 0.09139727056026459, -0.02834886685013771, 0.009565521962940693, 0.07757216691970825, -0.052561502903699875, -0.03445538878440857, -0.032079704105854034, -0.016549693420529366, -0.021330498158931732, -0.010347902774810791, -0.0694303959608078, -0.010587619617581367, -0.04102311283349991, 0.049458131194114685, -0.04064357280731201, 0.03774510696530342, 0.03468559682369232, -0.05024437978863716, 0.007366955745965242, 0.0918751135468483, 0.06769350916147232, -0.03268134221434593, 0.08204793184995651, -0.013306952081620693, 0.019765684381127357, -0.008465291000902653, -0.10821974277496338, 0.03603868559002876, 0.026990359649062157, 0.04896603524684906, -0.04451291263103485, 0.02916482836008072, -0.05310430750250816, -0.0854421854019165, 0.00452506635338068, 0.044425759464502335, 0.011269682087004185, 0.01436892244964838, 0.06903427839279175, 0.10929007083177567, -0.0295391995459795, 0.014375127851963043, -0.01340571604669094, -0.01737283170223236, -0.03875567391514778, 0.0047362204641103745, 0.06359020620584488, -0.011279605329036713, -0.01847175322473049, -0.0021522894967347383, -0.0343947596848011, 0.04556848481297493, 0.04241044819355011, 0.00906637217849493, 0.003989147488027811, 0.027365239337086678, -0.006301979534327984, 0.0016816506395116448, 0.005698211491107941, 0.03433964028954506, 0.0504109263420105, 0.07586541026830673, 0.019947821274399757, -0.04901904985308647, 0.022211024537682533, -0.03256046026945114, -0.025185270234942436, 0.058337751775979996]}}, {'_index': 'test_all', '_type': '_doc', '_id': 'constitucion00000100000005', '_score': 11.0571785, '_source': {'index': 'constitucion', 'legal_source': 'CONSTITUCION POLITICA DE COLOMBIA\\n', 'id': 'constitucion00000100000005', 'book': {'title': None, 'name': None}, 'section': {'title': None, 'name': None}, 'chapter': {'title': None, 'name': None}, 'headline': {'title': 'DISPOSICIONES TRANSITORIAS\\n', 'name': 'DE LA REFORMA DE LA CONSTITUCION\\n'}, 'part': {'title': None, 'name': None}, 'article': {'name': 'Artículo 5.', 'content': ['Artículo 5. El Estado reconoce, sin discriminación alguna, la primacía de los derechos inalienables de la persona y ampara a la familia como institución básica de la sociedad.\\n']}, 'embedds': [-0.03632644936442375, 0.058461349457502365, 0.027071453630924225, 0.0544995553791523, -0.08780496567487717, 0.05479884520173073, -0.022124892100691795, -0.017177827656269073, -0.051357824355363846, -0.03549474477767944, 0.0728609710931778, 0.027762489393353462, 0.06096731126308441, 0.0037276113871484995, 0.02160557545721531, -0.017121905460953712, -0.04677645117044449, 0.0003147131355945021, -0.012153004296123981, 0.011951846070587635, -0.03894154354929924, 0.01449638046324253, -0.011257974430918694, -0.011138531379401684, 0.020744716748595238, -0.0273119043558836, 0.032127197831869125, -0.00598160969093442, 0.011057988740503788, 0.007836895994842052, -0.021642297506332397, -0.04725271463394165, -0.009705587290227413, -0.01714455522596836, 0.0013566352427005768, -0.05853048712015152, 0.03552545607089996, -0.024801034480333328, 0.011965745128691196, -0.06547204405069351, -0.02756251022219658, 0.019840367138385773, -0.06354763358831406, 0.011590962298214436, 0.029662922024726868, -0.03523331135511398, -0.02571200020611286, -0.016944728791713715, 0.05585749074816704, 0.05504025146365166, -0.04766824468970299, -0.04118635132908821, 0.008272006176412106, 0.0686444491147995, -0.018572833389043808, 0.04741298407316208, -0.011006806045770645, -0.04989846423268318, -0.07440640032291412, 0.024848077446222305, 0.06924950331449509, -0.054993558675050735, 0.02968134544789791, -0.052504707127809525, 0.021479381248354912, 0.08789059519767761, 0.03443515673279762, -0.10810297727584839, 0.056307047605514526, 0.052833933383226395, -0.03066961281001568, 0.04588547721505165, 0.004485369194298983, 0.06732238084077835, -0.022161316126585007, -0.01100537646561861, -0.019837375730276108, 0.058102257549762726, -0.04281117022037506, 0.07130371034145355, -0.011829324997961521, 0.020751092582941055, -0.11508403718471527, 0.05576286464929581, 0.02961798384785652, -0.06257189065217972, 0.02632232755422592, -0.045603618025779724, 0.03175533935427666, -0.06661298871040344, 0.03828875720500946, 0.017391303554177284, -0.05776726454496384, 0.012620752677321434, 0.018875764682888985, 0.12509718537330627, 0.020285503938794136, 0.06733912974596024, 0.0780356302857399, 0.02450626902282238, -0.013284668326377869, 0.007591586094349623, 0.010887639597058296, 0.043894629925489426, -0.0347294956445694, -0.005804002285003662, -0.005253547336906195, 0.004741312004625797, -0.04184215888381004, 0.00689793610945344, 0.09604062885046005, -0.030472440645098686, -0.017632223665714264, 0.044615086168050766, -0.002647685119882226, 0.0065598622895777225, 0.018366843461990356, 0.09339805692434311, -0.09860379248857498, 0.011262268759310246, -0.047507427632808685, 0.02237069234251976, 0.032534368336200714, -0.021157022565603256, 0.09503025561571121, 0.018909120932221413, -0.05769602954387665, -0.04649803787469864, 0.002792580286040902, -0.06902982294559479, -0.024477533996105194, 0.05532759055495262, -0.037216801196336746, 0.02872569113969803, -0.01907600648701191, 0.004304144997149706, -0.057589199393987656, 0.03806472569704056, -0.07151349633932114, -0.02093413844704628, 0.06121885031461716, 0.004268074408173561, -0.0010027345269918442, -0.008330483920872211, 0.08726878464221954, 0.03245225548744202, 0.006075954530388117, -0.03735576197504997, 0.04521258547902107, -0.006764170713722706, 0.011345629580318928, 0.06649413704872131, -0.08562728762626648, 0.04250459745526314, -0.00022124085808172822, -0.036073237657547, 0.047291673719882965, -0.01649046130478382, -0.008250915445387363, 0.03700928017497063, 0.025907311588525772, -0.013534853234887123, -0.1024480015039444, 0.02355259656906128, -0.011822949163615704, 0.05077512562274933, 0.03487677872180939, 0.07221812754869461, 0.026265667751431465, -0.019836166873574257, -0.0387878343462944, 0.021640215069055557, -0.06285574287176132, 0.07580728828907013, 0.014781307429075241, 0.06623324751853943, -0.03998710215091705, -0.054357293993234634, 0.03373514488339424, -0.04383164271712303, -0.006062976084649563, 0.06986653804779053, 0.017556630074977875, -0.040282998234033585, 0.025615619495511055, -5.052726555732079e-05, 0.03298002481460571, 0.03876574710011482, 0.013269488699734211, 0.01902458444237709, -0.0038928489666432142, 0.06801706552505493, 0.053502168506383896, -0.044761739671230316, -0.03345621004700661, -0.03394327312707901, -0.0037183337844908237, -0.05174246057868004, 0.035974349826574326, -0.05520743131637573, -0.08505784720182419, -0.04033234715461731, -0.03205850347876549, 0.03231325000524521, 0.03956274315714836, 0.007360249292105436, -0.03700949624180794, 0.044815123081207275, -0.013257134705781937, 0.014868342317640781, 0.012911660596728325, -0.005273878574371338, 0.07659894227981567, -0.049724921584129333, 0.07539031654596329, -0.01921837404370308, 0.012982212007045746, 0.02284746617078781, -0.12239091843366623, -0.058483731001615524, -0.06650897115468979, -0.06243855506181717, 0.012365828268229961, -0.004888822324573994, -0.020026396960020065, 0.048774562776088715, 0.07368527352809906, 0.03852294757962227, -0.04370465129613876, 0.09894121438264847, -0.024340689182281494, -0.05569072067737579, 0.0255487859249115, 0.0487549751996994, 0.05454937741160393, 0.012873115949332714, 0.04474879801273346, 0.0037453121040016413, -0.030766991898417473, 0.04120321944355965, 0.02865835651755333, 0.06806471198797226, -0.03858567401766777, 0.021652640774846077, 0.053339581936597824, -0.023215821012854576, 0.020263848826289177, 0.01570921204984188, 0.052804168313741684, -0.060734670609235764, 0.07336295396089554, -0.012945612892508507, 0.025828728452324867, 0.042732834815979004, -0.024865778163075447, -0.030565885826945305, 0.022539932280778885, -0.047177206724882126, 0.01233746949583292, 0.03103017620742321, -0.016765540465712547, 0.033984601497650146, 0.059367209672927856, -0.01806323230266571, 0.02767891436815262, 0.03055032715201378, -0.045001473277807236, 0.015184481628239155, -0.0023467126302421093, -0.011432387866079807, 0.05841094255447388, -0.0033678808249533176, -0.01999170519411564, 0.002891405951231718, 0.042448367923498154, -0.054556526243686676, 0.002130113309249282, 0.007467685267329216, 0.05881207436323166, -0.0366269014775753, -0.04118023067712784, -0.010630480945110321, -0.024007290601730347, -0.06357205659151077, 0.022176921367645264, -0.06842298060655594, 0.03565839305520058, 0.029043152928352356, 0.007707762531936169, -0.000552887562662363, 0.05483481287956238, -0.025131670758128166, 0.011081509292125702, 0.027930298820137978, -0.07453184574842453, -0.018628360703587532, 0.01470930501818657, -0.05756531283259392, 0.015396809205412865, -0.014612645842134953, -0.07794717699289322, 0.004233945161104202, 0.009202651679515839, 0.02863745577633381, -0.06946180760860443, -0.018389273434877396, 0.024274183437228203, 0.03915052488446236, -0.07049527764320374, 0.012406873516738415, -0.02677670307457447, 0.0070505086332559586, 0.0006357227102853358, -0.08170309662818909, -0.022934598848223686, -0.020580090582370758, -0.023208122700452805, 0.03076576627790928, -0.06487315148115158, 0.09279230237007141, -0.015808751806616783, -0.0022004188504070044, 0.07784835994243622, -0.02088898792862892, 0.0028336357790976763, 0.004285215400159359, -0.023813948035240173, -0.029189569875597954, -0.006394910626113415, -0.052333611994981766, 0.03171708062291145, 0.05465807765722275, -0.0021328097209334373, -0.029265712946653366, 0.01365636382251978, -0.09176869690418243, -0.06381499767303467, -0.017619265243411064, 0.013751637190580368, 0.1188426986336708, -0.07036134600639343, -0.01358586922287941, -0.015070632100105286, 0.02518225647509098, -0.041340697556734085, -0.044871922582387924, 0.05567524582147598, 0.021086249500513077, 0.01641196943819523, -0.09018778800964355, -0.04229716584086418, 0.011837477795779705, -0.08786385506391525, -0.04159054160118103, -0.06734038144350052, -0.045123931020498276, -0.10959099978208542, 0.04303137585520744, -0.05568616837263107, 0.02802908793091774, -0.024904362857341766, -0.011246760375797749, -0.0035999498795717955, -0.005195337347686291, -0.006922360043972731, -0.05555924028158188, -0.0417688824236393, 0.04959271475672722, 0.02289385348558426, -0.06079554930329323, 0.016705432906746864, -0.0018125453498214483, 0.08576960861682892, 0.03276761621236801, 0.04082997143268585, 0.015586412511765957, -0.032997630536556244, 0.0573311485350132, 0.004895092453807592, 0.028897888958454132, 0.04477798193693161, -0.02846563793718815, -0.01036155130714178, -0.036247625946998596, 0.04741951823234558, 0.010729826055467129, 0.10506396740674973, -0.014855059795081615, -0.008886351250112057, -0.0705493912100792, 0.045759521424770355, 0.039003290235996246, -0.07148616015911102, -0.056824371218681335, -0.04640675336122513, -0.080470509827137, 0.07816904783248901, -0.05654173344373703, 0.009129068814218044, 0.012128825299441814, 0.0037557154428213835, 0.017281223088502884, -0.08080446720123291, 0.03291497752070427, 0.002869662595912814, -0.07439865171909332, -0.0018986314535140991, 0.028474673628807068, -0.0010646439623087645, 0.04219158738851547, 0.0716523826122284, 0.040920887142419815, -0.005182195454835892, -0.06565968692302704, -0.055212900042533875, 0.012902840971946716, -0.03438149392604828, 0.05078800022602081, -0.007878491654992104, -0.04038025811314583, 0.037896059453487396, -0.056093730032444, -0.03423681482672691, -0.051321133971214294, -0.014255666173994541, -0.042366765439510345, -0.06033345311880112, 0.054400138556957245, 0.04667952284216881, -0.00721152825281024, 0.016182608902454376, -0.05967288464307785, 0.07641777396202087, 0.00890264566987753, 0.03652011230587959, 0.028272580355405807, 0.04610903188586235, -0.002979099517688155, 0.02643689326941967, 0.019838565960526466, 0.0071782139129936695, -0.14430643618106842, -0.01758195459842682, -0.0001865481899585575, 0.052514877170324326, -0.03234880045056343, 0.0306116733700037, 0.07655532658100128, -0.050713956356048584, -0.04966266453266144, -0.042704902589321136, -0.015337721444666386, -0.02340719662606716, -0.0379197858273983, -0.05817002058029175, -0.03166557475924492, -0.047521866858005524, -0.03139043226838112, -0.05141212418675423, 0.009550480172038078, 0.05057414248585701, 0.0022257871460169554, 0.019969578832387924, 0.06690244376659393, 0.05191723257303238, -0.006800324190407991, 0.03743113577365875, -0.0024998688604682684, -0.015529004856944084, 0.011992142535746098, -0.09313133358955383, 0.045944321900606155, 0.041212622076272964, 0.032727599143981934, -0.05449046194553375, 0.04626569151878357, -0.10293162614107132, -0.0603853240609169, -0.000982277444563806, 0.027419080957770348, -0.005070776678621769, -0.00035622180439531803, 0.046556491404771805, 0.06725586950778961, -0.029422540217638016, 0.023145558312535286, 0.000681632780469954, -0.029636194929480553, -0.010894413106143475, -0.02531333453953266, 0.048404742032289505, -0.024615738540887833, -0.006407297682017088, 0.0008374572498723865, 0.01833883672952652, 0.06892368942499161, 0.015352682210505009, 0.031095704063773155, 0.03666512295603752, 0.01853487454354763, 0.05570876970887184, -0.04663759469985962, -0.013210971839725971, 0.03766002878546715, 0.036590494215488434, 0.044990815222263336, 0.024618109688162804, -0.022126454859972, 0.023599237203598022, -0.03951111435890198, 0.008429412730038166, 0.036318983882665634]}}, {'_index': 'test_all', '_type': '_doc', '_id': 'constitucion00000100000006', '_score': 11.0571785, '_source': {'index': 'constitucion', 'legal_source': 'CONSTITUCION POLITICA DE COLOMBIA\\n', 'id': 'constitucion00000100000006', 'book': {'title': None, 'name': None}, 'section': {'title': None, 'name': None}, 'chapter': {'title': None, 'name': None}, 'headline': {'title': 'DISPOSICIONES TRANSITORIAS\\n', 'name': 'DE LA REFORMA DE LA CONSTITUCION\\n'}, 'part': {'title': None, 'name': None}, 'article': {'name': 'Artículo 6.', 'content': ['Artículo 6. Los particulares sólo son responsables ante las autoridades por infringir la Constitución y las leyes. Los servidores públicos lo son por la misma causa y por omisión o extralimitación en el ejercicio de sus funciones.\\n']}, 'embedds': [0.011593654751777649, 0.08359113335609436, 0.002398096024990082, 0.057186245918273926, -0.06952778995037079, 0.06166299059987068, 0.0047853183932602406, -0.003525438252836466, -0.05827508866786957, -0.028503330424427986, 0.06920276582241058, 0.030515024438500404, 0.09106016904115677, 0.0020752716809511185, -0.009770705364644527, 0.004490215331315994, -0.07529260218143463, -0.03277986869215965, 0.006366061978042126, -0.0030824891291558743, 0.027341080829501152, 0.0465361662209034, -0.01846664398908615, 0.02688927762210369, 0.0041480776853859425, -0.018954738974571228, 0.014052377082407475, 0.023612037301063538, 0.006860741414129734, 0.021140649914741516, -0.052474044263362885, -0.008306902833282948, 0.01290515810251236, -0.04386178404092789, -0.024860618636012077, -0.06847874075174332, 0.01741974614560604, 0.0007777971331961453, -0.015631211921572685, -0.07746481895446777, -0.022282779216766357, 0.023442652076482773, -0.042059484869241714, -0.04641043022274971, -0.01200033538043499, 0.002065691165626049, -0.007301009725779295, -0.018691252917051315, 0.04267207533121109, 0.04761646315455437, -0.018965983763337135, -0.05994275212287903, -0.017799997702240944, 0.061649300158023834, 0.035954613238573074, 0.07207633554935455, 0.0018490863731130958, -0.06641367822885513, -0.08286983519792557, 0.0068898675963282585, 0.05994332954287529, 0.0165959894657135, 0.048978451639413834, -0.014889298938214779, 0.0072530596517026424, 0.07850167155265808, 0.06322050094604492, -0.06304644048213959, 0.025839632377028465, -0.02061653882265091, -0.0263102725148201, 0.05989758297801018, 0.023217158392071724, 0.05202879011631012, 0.00971913430839777, -0.025465581566095352, -0.027422448620200157, 0.06494097411632538, -0.03626476600766182, 0.026025315746665, -0.012953006662428379, 0.02627214975655079, -0.09246117621660233, 0.020033402368426323, 0.005085695534944534, -0.07618309557437897, 0.04310767725110054, 0.010175949893891811, 0.04060216620564461, -0.014849589206278324, 0.03242747485637665, 0.008725154213607311, -0.058176882565021515, -0.024520231410861015, 0.03097759746015072, 0.13608619570732117, -0.0035622245632112026, 0.03230840340256691, 0.049594275653362274, 0.010047797113656998, -0.016766831278800964, -0.004544947296380997, -0.014075118117034435, 0.07336290925741196, -0.0785098746418953, -0.042072124779224396, -0.02629462257027626, -0.01228127907961607, -0.0281694158911705, 0.005098785739392042, 0.07998689264059067, -0.0316731259226799, -0.02179701440036297, 0.052892055362463, 0.05467848852276802, 0.010490302927792072, 0.0004449041443876922, 0.04213847219944, -0.09471455961465836, 0.004557751584798098, -0.041068196296691895, -0.027093950659036636, 0.038069672882556915, -0.019726615399122238, 0.045990895479917526, 0.0035000653006136417, -0.048053886741399765, -0.02969149500131607, -0.016335511580109596, -0.08625210076570511, -0.04603488743305206, 0.018158089369535446, 0.04734531417489052, 0.00640239380300045, -0.02405562251806259, -0.02437305822968483, -0.037339694797992706, 0.009176530875265598, -0.08499246090650558, -0.040519341826438904, 0.060730237513780594, -0.06644979864358902, 0.030234981328248978, -0.05707225948572159, 0.11391380429267883, 0.014871595427393913, 0.03607069328427315, 0.029212066903710365, 0.10149725526571274, -0.002313754754140973, 0.05613303557038307, 0.057455211877822876, -0.06989191472530365, 0.06868692487478256, 0.041724659502506256, -0.03892793133854866, 0.05891840532422066, -0.02290940098464489, -0.01390206441283226, 0.0648527666926384, 0.0017465028213337064, -0.002664081985130906, -0.0896761491894722, 0.03252100571990013, 0.004692743066698313, 0.03467022255063057, 0.017665976658463478, 0.06042851507663727, 0.039206694811582565, -0.0013729261700063944, -0.039080552756786346, 0.01677587814629078, -0.041564371436834335, 0.093044213950634, 0.041275084018707275, 0.012559451162815094, -0.014070217497646809, -0.0918135792016983, 0.058819420635700226, -0.01999872736632824, 0.01738922670483589, 0.06724649667739868, -0.0033569622319191694, 0.001330879284068942, 0.061382997781038284, 0.014738484285771847, 0.048959434032440186, 0.030842827633023262, 0.027156250551342964, 0.02906971424818039, -0.04246664047241211, 0.06831897795200348, 0.07300059497356415, -0.0388675183057785, -0.012385353446006775, 0.0021886860486119986, -0.015182619914412498, -0.06916111707687378, 0.07644781470298767, -0.021213222295045853, -0.08879605680704117, -0.03185438737273216, -0.08758523315191269, 0.04963146150112152, 0.060333214700222015, -0.024789180606603622, -0.009497381746768951, 0.08019895106554031, -0.00271684885956347, 0.029677579179406166, 0.03297078609466553, 0.0004134734917897731, 0.0797722339630127, -0.028957750648260117, 0.09177108108997345, 0.0027619788888841867, -0.004761810880154371, 0.011192244477570057, -0.008787223137915134, -0.05109129101037979, -0.061464618891477585, -0.023819882422685623, 0.07177542895078659, -0.006951467599719763, 0.0005893361521884799, -0.002382813021540642, 0.03514532744884491, 0.04297838360071182, -0.04643850773572922, 0.03456945717334747, -0.017306920140981674, -0.04723023623228073, 0.026659373193979263, 0.040033865720033646, 0.07352791726589203, -0.012618106789886951, 0.07229305058717728, 0.01502272766083479, 0.002848035655915737, 0.018728654831647873, 0.07000512629747391, 0.06717114895582199, -0.05250117927789688, 0.0298216063529253, 0.03420419245958328, -0.007076366804540157, 0.03246723860502243, -0.013144141063094139, 0.049497295171022415, -0.07320795953273773, 0.07542858272790909, -0.011229845695197582, 0.00021066161571070552, 0.007647401187568903, 0.0319291427731514, -0.029198095202445984, 0.014427405782043934, -0.02404801920056343, 0.020873909816145897, 0.06605090945959091, -0.04190020635724068, 0.04460582137107849, 0.05473056063055992, 0.03481421247124672, 0.06041056290268898, -0.014223260805010796, -0.05981745198369026, 0.014311608858406544, -0.0026632756926119328, 0.01435240637511015, 0.007090795319527388, 0.029026001691818237, 0.02364114113152027, -0.012269029393792152, 0.04733480513095856, -0.03681422024965286, -0.007574790623039007, 0.013289042748510838, 0.05902784690260887, -0.05433236435055733, -0.009292462840676308, -0.062454938888549805, -0.05833609029650688, -0.07471700012683868, 0.018639883026480675, -0.08527010679244995, 0.014575815759599209, 0.01269244123250246, -0.06174479052424431, -0.016099337488412857, -0.010452964343130589, -0.00995771773159504, 0.009331204928457737, 0.0051364232785999775, -0.06857151538133621, -0.01680644601583481, 0.004290062468498945, -0.03170264512300491, 0.0034776581451296806, -0.019048910588026047, -0.06885561347007751, 0.03126050531864166, -0.00557830510661006, 0.03680063411593437, -0.0762496367096901, -0.03264250606298447, 0.00976125430315733, 0.03866926580667496, -0.052365854382514954, -0.072292260825634, -0.03304428607225418, 0.026814617216587067, -0.007634999696165323, -0.07364512234926224, -0.007395090069621801, -0.05326227843761444, -0.04761512205004692, 0.06163684278726578, -0.04739387705922127, 0.04643932357430458, 0.03947371989488602, 0.009465999901294708, 0.01709533855319023, -0.029391348361968994, 0.025393089279532433, 0.06421034783124924, -0.00827760249376297, 0.013731001876294613, -0.003448851639404893, -0.043033309280872345, 0.031890206038951874, 0.06933500617742538, -0.0074599506333470345, -0.047116950154304504, 0.04396568983793259, -0.098476342856884, -0.06961588561534882, -0.024847811087965965, 0.011408498510718346, 0.12242104858160019, -0.04604705050587654, -0.018641311675310135, 0.00559991504997015, 0.06429837644100189, -0.037860676646232605, -0.01735202968120575, 0.07949579507112503, 0.03928914666175842, 0.04946906119585037, -0.09163567423820496, -0.035478658974170685, 0.019336123019456863, -0.07407119870185852, -0.016664203256368637, -0.05722522363066673, -0.03800047188997269, -0.12485488504171371, 0.061901889741420746, -0.019299888983368874, 0.0011583281448110938, 0.0016322374576702714, 0.022165454924106598, 0.02563435398042202, -0.05388327315449715, -0.02345392294228077, -0.04303570091724396, -0.06030996888875961, 0.02985765039920807, 0.003519935067743063, 0.004069077782332897, -0.006428704131394625, -0.018856095150113106, 0.08145759999752045, 0.07112658768892288, -0.03532731160521507, 0.02687327191233635, -0.025117911398410797, 0.05546405166387558, 0.009203270077705383, -0.03582769259810448, 0.04929337650537491, -0.029546931385993958, -0.02680930495262146, -0.058770373463630676, 0.055648043751716614, 0.008480465970933437, 0.09615122526884079, -0.0032659575808793306, -0.024239560589194298, -0.03707034885883331, 0.034882985055446625, 0.028898701071739197, -0.006924319546669722, -0.026376517489552498, 0.01951586827635765, -0.0862511619925499, 0.06195627897977829, 0.017108868807554245, -0.0060874647460877895, 0.0129490215331316, 0.010342635214328766, 0.017367811873555183, -0.059503618627786636, 0.0037669579032808542, -0.030352020636200905, -0.07613097876310349, -0.005828249268233776, 0.00614148611202836, 0.00968374963849783, -0.0520949549973011, 0.029994947835803032, 0.025273460894823074, -0.008725333958864212, -0.07900834083557129, -0.08612930029630661, 0.04069061949849129, -0.030467143282294273, 0.07599767297506332, -0.0006064835470169783, -0.06058845669031143, 0.06026163324713707, 0.012795960530638695, 0.02176922932267189, -0.04928998276591301, -0.01839168183505535, -0.04486088827252388, -0.08379250764846802, 0.04143882542848587, 0.02927269972860813, 0.017456958070397377, 0.002161250915378332, -0.06063207611441612, 0.06882014125585556, 0.01842520385980606, -0.040769536048173904, 0.037072956562042236, 0.023575441911816597, 0.015676163136959076, 0.020614616572856903, 0.045141663402318954, 0.04935794696211815, -0.1429365575313568, -0.042791999876499176, -0.04955609142780304, 0.020015522837638855, -0.0338270328938961, 0.04933830350637436, 0.0411665253341198, 0.039698176085948944, -0.011472731828689575, -0.012275470420718193, 0.01318507082760334, -0.03577633574604988, -0.022137733176350594, -0.05798953026533127, -0.021578559651970863, -0.008823083713650703, -0.07763325423002243, -0.035171568393707275, 0.05034847930073738, 0.05280110985040665, -0.005782220046967268, 0.010136258788406849, 0.053144827485084534, 0.03292934596538544, -0.01974363811314106, -0.008804550394415855, -0.001229579676873982, -0.013699961826205254, 0.01761692203581333, -0.05873263254761696, 0.05770310387015343, 0.03927353024482727, 0.021442998200654984, -0.02578578144311905, 0.048626624047756195, -0.043587133288383484, -0.08342330902814865, -0.007450779899954796, 0.03577053174376488, -0.04866466671228409, -0.002042044186964631, 0.043667253106832504, 0.06065479665994644, -0.014994273893535137, 0.04966885223984718, -0.025294214487075806, -0.02275913581252098, -0.009682654403150082, -0.03393280878663063, 0.06429647654294968, -0.022868791595101357, -0.032119374722242355, -0.0003757303347811103, -0.03508710861206055, 0.07469400763511658, 0.035189349204301834, 0.06219293549656868, 0.04275091737508774, 0.00047721504233777523, 0.06781833618879318, -0.0024572189431637526, -0.007926959544420242, 0.004351149313151836, 0.019872229546308517, 0.03294255584478378, 0.014280004426836967, -0.01817183569073677, -0.010070749558508396, -0.0043482594192028046, 0.0030639467295259237, -0.012505018152296543]}}, {'_index': 'test_all', '_type': '_doc', '_id': 'constitucion00000100000007', '_score': 11.0571785, '_source': {'index': 'constitucion', 'legal_source': 'CONSTITUCION POLITICA DE COLOMBIA\\n', 'id': 'constitucion00000100000007', 'book': {'title': None, 'name': None}, 'section': {'title': None, 'name': None}, 'chapter': {'title': None, 'name': None}, 'headline': {'title': 'DISPOSICIONES TRANSITORIAS\\n', 'name': 'DE LA REFORMA DE LA CONSTITUCION\\n'}, 'part': {'title': None, 'name': None}, 'article': {'name': 'Artículo 7.', 'content': ['Artículo 7. El Estado reconoce y protege la diversidad étnica y cultural de la Nación colombiana.\\n']}, 'embedds': [0.07128351181745529, 0.06298010796308517, 0.04542747139930725, 0.03894544392824173, -0.10450237989425659, 0.04858070984482765, 0.026725925505161285, -0.007991041988134384, -0.012638586573302746, -0.030152129009366035, 0.028226353228092194, -0.00044649941264651716, 0.05557619780302048, 0.006533429492264986, -0.016713567078113556, -0.012921148911118507, -0.07378784567117691, -0.01819923333823681, -0.015582701191306114, -0.013734867796301842, 0.007413407787680626, 0.04038035869598389, -0.021458398550748825, 0.056553591042757034, -0.02191006764769554, 0.011291086673736572, 0.030387157574295998, -0.031975697726011276, -0.015530885197222233, 0.03593413904309273, -0.048989392817020416, 0.05432812124490738, 0.06552425026893616, -0.041540779173374176, 0.011693602427840233, -0.079679936170578, -0.008450846187770367, 0.0019432883709669113, -0.006836968008428812, -0.07424578815698624, 0.01727175898849964, -0.025527112185955048, -0.02830842323601246, -0.005527660716325045, -0.007341071031987667, 0.008501995354890823, -0.017665624618530273, -0.010297944769263268, 0.08654709160327911, 0.05804159864783287, -0.006223580799996853, -0.028965627774596214, -0.019059088081121445, 0.009443883784115314, 0.04122009128332138, 0.00030641615740023553, -0.0329161174595356, -0.0784771665930748, -0.09637778252363205, -0.013147733174264431, 0.0014645199989899993, 0.01274905726313591, 0.03584090992808342, -0.0027566361241042614, -0.007809286005795002, 0.04819927364587784, 0.04261568933725357, -0.004972103517502546, 0.052791398018598557, 0.005223625339567661, -0.004537287633866072, 0.02992788515985012, -0.0007775715785101056, 0.072920061647892, -0.013869816437363625, 0.04713296890258789, -0.017106253653764725, 0.03198409080505371, -0.05920587107539177, 0.04296698793768883, 0.005063783377408981, 0.013563442975282669, -0.1004563719034195, -0.024498621001839638, -0.0026959404349327087, -0.0020906163845211267, 0.004503509495407343, 0.005794031545519829, 0.041944775730371475, -0.019103731960058212, 0.04493262618780136, -0.04923899099230766, -0.05734788253903389, -0.02344212681055069, 0.029299717396497726, 0.13774220645427704, -0.04886758700013161, 0.03347424790263176, 0.046553079038858414, 0.013797475956380367, -0.007761497516185045, -0.03862747922539711, -0.02385985665023327, 0.06891167163848877, -0.07630043476819992, -0.023347727954387665, 0.02794826775789261, 0.0027202668134123087, -0.022869940847158432, 0.017213275656104088, 0.06738495081663132, -0.01804756559431553, -0.00613058265298605, 0.03703195974230766, 0.02431608736515045, 0.00724541861563921, -0.011511926539242268, 0.07631896436214447, -0.06980233639478683, 0.025142056867480278, -0.01678851805627346, -0.030704615637660027, 0.06259399652481079, -0.028313517570495605, 0.09617718309164047, -0.009246825240552425, -0.05591144785284996, -0.06679922342300415, -0.04960392042994499, -0.07590831816196442, 0.010013043880462646, 0.0011551767820492387, 0.0030013658106327057, 0.007180188782513142, -0.04085077717900276, 0.029324062168598175, -0.009243311360478401, 0.03387182950973511, -0.10061533749103546, -0.07649404555559158, 0.04037825018167496, -0.019134430214762688, 0.003431732067838311, 0.004268968477845192, 0.06311742961406708, -0.010906741954386234, 0.00686284014955163, -0.013415331952273846, 0.062112290412187576, 0.03288799896836281, 0.07093726098537445, 0.05488726496696472, -0.02958759106695652, 0.04616261646151543, 0.023754185065627098, -0.022464033216238022, 0.04813959822058678, -0.0016004372155293822, -0.06033676490187645, 0.03708841651678085, -0.010340441018342972, -0.0020903132390230894, -0.10313437134027481, 0.01248408667743206, 0.01414039358496666, 0.06969396770000458, 0.07209262996912003, 0.018749454990029335, 0.054506976157426834, 0.016731783747673035, -0.04372632876038551, 0.040531959384679794, -0.030229683965444565, 0.026708006858825684, 0.014380267821252346, 0.012414900586009026, -0.042451828718185425, -0.013361410237848759, 0.07059970498085022, -0.024548213928937912, 0.03220140561461449, 0.08101748675107956, -0.002946640597656369, -0.01811041496694088, 0.07639923691749573, 0.07511565089225769, 0.05793992429971695, 0.03802861273288727, -0.004686140920966864, 0.0467979721724987, -0.02959921956062317, 0.0813157930970192, 0.06760773062705994, -0.030244775116443634, -0.021555740386247635, -0.022411417216062546, 0.017839772626757622, -0.049567002803087234, 0.03711417317390442, -0.021327445283532143, -0.08117169886827469, -0.031594742089509964, -0.0962362140417099, 0.06553284823894501, 0.06987166404724121, -0.009365816600620747, -0.022827856242656708, 0.0683947280049324, -0.012584663927555084, 0.01335648912936449, 0.033354759216308594, -0.03555189073085785, 0.06743525713682175, -0.026066726073622704, 0.06971339881420135, 0.013712729327380657, 0.001584736630320549, 0.019759148359298706, 0.06294877082109451, -0.07859503477811813, -0.05981476604938507, -0.02010820433497429, 0.03610305115580559, -0.03438955172896385, -0.07199456542730331, 0.020113719627261162, 0.056323084980249405, 0.040420714765787125, -0.05385283753275871, -0.04796256870031357, -0.04524344578385353, -0.029482657089829445, -0.018357761204242706, 0.07991505414247513, 0.08379807323217392, -0.025931010022759438, 0.06481369584798813, 0.02465171553194523, -0.033963464200496674, -0.0004236955428496003, 0.05663742125034332, 0.022221365943551064, -0.048600129783153534, -0.041521888226270676, -0.0038489506114274263, -0.009536444209516048, 0.0017524934373795986, 0.004352479241788387, -0.011057071387767792, -0.06587909162044525, 0.06213860958814621, -0.028848694637417793, -0.03643372654914856, 0.008560403250157833, 0.04054718092083931, -0.022768240422010422, 0.018921121954917908, -0.06738578528165817, 0.011096648871898651, 0.03429672494530678, -0.02840230241417885, 0.08195941895246506, 0.04050203412771225, 0.027742424979805946, 0.009381690993905067, -0.008672499097883701, -0.08788998425006866, 0.03442564606666565, 0.006037428509443998, 0.03443596512079239, 0.05873585119843483, 0.05861217901110649, -0.003305237041786313, -0.06736208498477936, 0.031219778582453728, -0.06470338255167007, -0.06954912841320038, -0.015292218886315823, 0.08974204212427139, -0.04328497126698494, -0.036910202354192734, -0.08015941828489304, -0.040380485355854034, -0.023750586435198784, 0.024304455146193504, -0.0641142725944519, -0.04752592369914055, 0.022854188457131386, -0.04263492673635483, -0.01761074736714363, -0.010115250013768673, -0.01728169620037079, 0.046321842819452286, -0.024821126833558083, -0.06030232086777687, -0.018482614308595657, 0.029241936281323433, -0.02260407991707325, 0.031677745282649994, -0.024022912606596947, -0.07495701313018799, 0.10418382287025452, 0.007725580595433712, 0.052093904465436935, -0.09705039113759995, -0.02341070957481861, 0.016727706417441368, 0.02099663019180298, -0.0014296045992523432, -0.08056781440973282, -0.024100475013256073, 0.015245179645717144, 0.0597655288875103, -0.09623052179813385, -0.010489068925380707, -0.09645006060600281, -0.05036052316427231, 0.028458742424845695, -0.03994142636656761, 0.06492584198713303, -0.010203558020293713, 0.032954487949609756, -0.05599755421280861, -0.0015059048309922218, 0.03949159011244774, 0.000494043983053416, -0.0014958505053073168, 0.01157386228442192, -0.015673097223043442, -0.047797806560993195, 0.047711487859487534, 0.0205818060785532, -0.06737495213747025, -0.1100119948387146, 0.028499232605099678, -0.05477738752961159, -0.06036095321178436, -0.03350236639380455, -0.006441341247409582, 0.10477032512426376, -0.057581979781389236, -0.021080853417515755, 0.027213778346776962, 0.07132837921380997, -0.0038772711995989084, 0.014264385215938091, 0.015373260714113712, 0.026720210909843445, 0.02149074338376522, -0.06894325464963913, -0.03752324357628822, 0.019621094688773155, -0.06322762370109558, 0.02429661713540554, -0.0671972930431366, -0.019905829802155495, -0.1126728504896164, 0.07466204464435577, -0.056273072957992554, 0.007843638770282269, 0.0018350097816437483, -0.00412692641839385, 0.014661812223494053, -0.05430689454078674, -0.019982706755399704, 0.0129953408613801, -0.02659357339143753, 0.008666576817631721, 0.028843821957707405, 0.018212400376796722, 0.008307426236569881, -0.017603227868676186, 0.06102551519870758, 0.008007291704416275, 0.012851237319409847, 0.07167656719684601, -0.026627520099282265, 0.08711688965559006, 0.023710541427135468, 0.0028223160188645124, 0.029969947412610054, -0.04057670384645462, -0.041133709251880646, -0.05958153307437897, 0.07312379777431488, 0.035815801471471786, 0.048080094158649445, 0.03573155775666237, 0.00913527887314558, -0.04083868861198425, -0.003124599577859044, -0.0008090358460322022, 0.016114188358187675, -0.03744998201727867, -0.018865924328565598, -0.09609677642583847, -0.006289729382842779, 0.031068511307239532, -0.04226621985435486, 0.016104519367218018, 0.0748896449804306, 0.021236436441540718, -0.09594486653804779, 0.001618631067685783, -0.001462914515286684, -0.007918059825897217, 0.004350139759480953, -0.004012346733361483, -0.0205148346722126, -0.017655476927757263, 0.06009233742952347, 0.014875497668981552, -0.027505695819854736, -0.0358181856572628, -0.030533595010638237, -0.009042642079293728, -0.028885606676340103, 0.05994057282805443, 0.007622133940458298, -0.04111179709434509, 0.09193244576454163, 0.043227337300777435, -0.060646962374448776, 0.05121830105781555, -0.02906578779220581, -0.06682346016168594, -0.037245213985443115, 0.013142701238393784, 0.01504975650459528, 0.029087916016578674, -0.05031486600637436, -0.05075669288635254, 0.05637276917695999, 0.021834414452314377, -0.07708367705345154, 0.038450758904218674, 0.032350312918424606, 0.012561623007059097, -0.015596757642924786, 0.022639799863100052, 0.03369465842843056, -0.14040783047676086, -0.05452807620167732, -0.04764188826084137, 0.10030306130647659, -0.0052293832413852215, 0.05874534323811531, 0.024891957640647888, -0.015467125922441483, 0.04991656541824341, -0.004951932467520237, -0.028866121545433998, -0.01722976379096508, -0.010744770057499409, -0.08216256648302078, -0.0501476489007473, -0.04026878625154495, -0.038371630012989044, 0.00947378110140562, 0.06859744340181351, 0.036912381649017334, 0.027246873825788498, 0.004782130941748619, 0.030347155407071114, -0.014100905507802963, -0.025226442143321037, 0.010600129142403603, -0.03949445113539696, 0.0064342571422457695, 0.009424449875950813, -0.024796023964881897, 0.03694942593574524, 0.009777911938726902, 0.06200791150331497, -0.021660910919308662, 0.03807203471660614, 0.021286891773343086, -0.06794779002666473, -0.0413622111082077, 0.016016114503145218, 0.00450678588822484, -0.015114582143723965, 0.04635562375187874, 0.0524388924241066, -0.03739839047193527, 0.0124183539301157, -0.019312918186187744, -0.0181785486638546, -0.04382885992527008, -0.043085530400276184, 0.07675602287054062, 0.0118357352912426, -0.007795609999448061, 0.015067857690155506, -0.007093817926943302, 0.04079434275627136, -0.02760585956275463, 0.06882211565971375, 0.10265756398439407, 0.01778859831392765, 0.05233325809240341, 0.028350170701742172, -0.009603625163435936, -0.005165595095604658, 0.0011166319018229842, 0.015281127765774727, 0.01641317829489708, -0.03285553678870201, 0.016209254041314125, -0.022214917466044426, 0.011025789193809032, -0.007762419059872627]}}, {'_index': 'test_all', '_type': '_doc', '_id': 'constitucion00000100000008', '_score': 11.0571785, '_source': {'index': 'constitucion', 'legal_source': 'CONSTITUCION POLITICA DE COLOMBIA\\n', 'id': 'constitucion00000100000008', 'book': {'title': None, 'name': None}, 'section': {'title': None, 'name': None}, 'chapter': {'title': None, 'name': None}, 'headline': {'title': 'DISPOSICIONES TRANSITORIAS\\n', 'name': 'DE LA REFORMA DE LA CONSTITUCION\\n'}, 'part': {'title': None, 'name': None}, 'article': {'name': 'Artículo 8.', 'content': ['Artículo 8. Es obligación del Estado y de las personas proteger las riquezas culturales y naturales de la Nación.\\n']}, 'embedds': [0.05498691648244858, 0.08118001371622086, 0.025074543431401253, 0.05717039108276367, -0.08212073147296906, 0.04605706036090851, 0.018492616713047028, -0.005081884562969208, 0.005184858571738005, 0.0022779651917517185, 0.07267236709594727, -0.0025340390857309103, 0.03685766085982323, 0.00662324670702219, -0.03793632611632347, -0.0232380423694849, -0.07671090960502625, 0.0015799732645973563, -0.025031866505742073, 0.018899597227573395, -0.00896074716001749, 0.016268111765384674, -0.017388446256518364, 0.05087059736251831, 0.01544496975839138, -0.05787800997495651, 0.02794967032968998, -0.011469072662293911, 0.020763419568538666, 0.03733140230178833, -0.037077371031045914, 0.06296098232269287, 0.015130250714719296, -0.005602139048278332, 0.0013269154587760568, -0.016494914889335632, 0.035043712705373764, 0.023701680824160576, 0.00012937522842548788, -0.04917774721980095, 0.0207095667719841, 0.001738567603752017, 0.00849153008311987, -0.027835052460432053, 0.029744911938905716, 0.03486847132444382, -0.008357830345630646, 0.01980198360979557, 0.059279970824718475, 0.07879892736673355, -0.020465118810534477, -0.023479774594306946, 0.040194250643253326, 0.02179698459804058, -0.007625831291079521, 0.004764006473124027, 0.001068058074451983, -0.09202701598405838, -0.09177788347005844, -0.026934899389743805, -0.04072568193078041, 0.00991341657936573, 0.042255062609910965, -0.014029987156391144, 0.0057849399745464325, 0.03220410272479057, 0.033911243081092834, 0.03746076673269272, 0.0376725010573864, 0.04489796981215477, 0.0007306633051484823, 0.023339970037341118, -0.024989567697048187, 0.07449169456958771, -0.0006246085977181792, 0.024720707908272743, 0.00951795931905508, 0.04570874199271202, -0.040542878210544586, 0.09210354834794998, 0.007237409707158804, 0.01084944512695074, -0.10006345808506012, 0.06132807955145836, 0.0035422728396952152, -0.01920100301504135, 0.001809336943551898, 0.03983110561966896, 0.010728863067924976, -0.01724485494196415, 0.00852015521377325, -0.010078178718686104, -0.08004659414291382, -0.03210659325122833, 0.025977682322263718, 0.12725934386253357, 0.0013116243062540889, -0.0178994033485651, 0.03924323618412018, -0.030102156102657318, -0.005860547069460154, 0.011453229933977127, -0.060925859957933426, 0.06834390014410019, -0.05650293081998825, -0.014908035285770893, 0.06715834885835648, 0.01388686802238226, 0.003938273526728153, 0.0072752791456878185, 0.08748861402273178, -0.05915316939353943, -0.037969984114170074, 0.05303935706615448, 0.005091932602226734, 0.0346994586288929, 0.015509620308876038, 0.043846774846315384, -0.0882301852107048, 0.07168690860271454, -0.04833235964179039, -0.019441043958067894, 0.061331044882535934, -0.002573134610429406, 0.08718618750572205, -0.06642788648605347, -0.030970364809036255, -0.08211699873209, -0.05779765546321869, -0.05285217985510826, -0.0085851289331913, 0.029304051771759987, 0.007905357517302036, 0.01699378900229931, -0.011803699657320976, 0.027207929641008377, 0.022280309349298477, 0.00870991125702858, -0.08844070136547089, -0.08570173382759094, 0.053988996893167496, 0.013782975263893604, 0.004958729259669781, 0.09418777376413345, 0.041175879538059235, -0.023541729897260666, 0.050559282302856445, -0.013142901472747326, 0.07784013450145721, 0.000663347018416971, 0.07195749133825302, 0.0509323850274086, -0.03345058113336563, 0.05526908114552498, 0.006426334381103516, -0.021027062088251114, 0.057127103209495544, 0.013892368413507938, 0.00766941299661994, 0.018941404297947884, 0.04434605687856674, -0.012027235701680183, -0.10903718322515488, -0.002996350172907114, 0.05935920402407646, 0.0704474151134491, 0.0489293672144413, 0.016580922529101372, 0.010827116668224335, 0.029061801731586456, -0.044202666729688644, 0.014850636944174767, -0.03741486370563507, 0.030693333595991135, 0.02659226581454277, 0.04769117385149002, -0.032538387924432755, -0.040305256843566895, 0.05860552936792374, -0.02799970656633377, 0.02922915667295456, 0.09723975509405136, -0.00923363771289587, 0.025766072794795036, 0.04981670901179314, 0.01784055307507515, -0.00356965116225183, 0.01479997206479311, 0.04309457167983055, 0.021643536165356636, -0.03773342818021774, 0.06399910897016525, 0.08589376509189606, -0.008606967516243458, -0.04320157319307327, -0.03253446891903877, -0.004270609933882952, -0.09819070249795914, -0.023522909730672836, -0.0782955214381218, -0.0975775346159935, -0.01462749857455492, -0.04748860374093056, 0.04301312193274498, -0.0040365299209952354, 0.00943607185035944, -0.020671013742685318, 0.06299903243780136, -0.012615582905709743, 0.043652135878801346, 0.052214909344911575, -0.03975525498390198, 0.04414987564086914, -0.022431282326579094, 0.07448228448629379, 0.07713672518730164, -0.030848274007439613, 0.05379650369286537, 0.07886124402284622, -0.07470839470624924, -0.0007388988742604852, -0.08327256143093109, 0.09532703459262848, 0.004849836230278015, -0.09502848982810974, 0.01853989250957966, 0.026768524199724197, 0.008723730221390724, -0.03185359016060829, -0.003878746647387743, -0.03980793058872223, -0.015946967527270317, -0.005179712548851967, 0.07548218220472336, 0.06861191987991333, 0.011399341747164726, 0.09367586672306061, 0.015522693283855915, -0.015660718083381653, 0.010220280848443508, 0.06357218325138092, 0.038898032158613205, -0.01691603846848011, -0.02634526789188385, 0.04071437940001488, -0.04216378554701805, 0.02701866254210472, -0.002594488672912121, -0.019787250086665154, -0.04613408073782921, 0.055751293897628784, -0.025183310732245445, 0.008991857059299946, 0.012011482380330563, 0.059881098568439484, -0.06435767561197281, -0.01885715313255787, -0.04057804122567177, 0.06747961789369583, 0.02972451038658619, -0.01328565925359726, 0.025655288249254227, 0.04154592752456665, -0.01099600549787283, 0.017563916742801666, 0.055880773812532425, -0.0971616879105568, 0.04201716184616089, 0.00040073637501336634, 0.02965380810201168, -0.0057036238722503185, 0.08327101916074753, 0.010721621103584766, -0.01168319396674633, -0.015347748063504696, -0.008536742068827152, -0.05897916480898857, -0.037789829075336456, 0.055907052010297775, -0.002563223708420992, 0.001840437762439251, -0.05358162149786949, -0.021180322393774986, -0.06645561754703522, 0.07116639614105225, -0.07777089625597, -0.023411376401782036, 0.0419517420232296, 0.026723967865109444, 0.013609358109533787, -0.03203928843140602, -0.019322585314512253, 0.02211945876479149, -0.013614831492304802, -0.0404101125895977, -0.028331471607089043, 0.05571774020791054, -0.014745533466339111, 0.008028732612729073, -0.017507662996649742, -0.07647787034511566, 0.09684397280216217, 0.033481501042842865, 0.05798330157995224, -0.07689565420150757, -0.040270403027534485, -0.01258080080151558, 0.04521379992365837, 0.08373728394508362, -0.05436478182673454, -0.007000921294093132, 0.044879984110593796, 0.01067444495856762, -0.07047653198242188, -0.04024065285921097, -0.0677076131105423, -0.05278194695711136, 0.00398760661482811, -0.023979593068361282, 0.07482664287090302, 0.001843511825427413, -0.013967686332762241, 0.00864674337208271, 0.0030811817850917578, 0.009882423095405102, 0.05603085830807686, -0.019212044775485992, 0.04121250659227371, -0.017797399312257767, -0.039404720067977905, 0.073968805372715, 0.05037597194314003, -0.047978390008211136, -0.0668189749121666, -0.012215392664074898, -0.04647641256451607, -0.06483142077922821, -0.02271515130996704, -0.0035553565248847008, 0.12002487480640411, -0.03746696561574936, -0.023006943985819817, 0.03905611112713814, 0.012059077620506287, -0.03358055651187897, -0.03340638056397438, 0.07894313335418701, -0.005085614509880543, 0.015546625480055809, -0.036745671182870865, 0.01831074245274067, 0.0349186547100544, -0.07342903316020966, 0.0004542468814179301, -0.0938156321644783, 0.004713273141533136, -0.11096271872520447, 0.05531037226319313, -0.06968144327402115, 0.018308334052562714, 0.04925728589296341, 0.0062741562724113464, 0.0036655417643487453, -0.03909653425216675, 0.009121951647102833, -0.04387683793902397, -0.05087461695075035, 0.022089364007115364, 0.012991639785468578, 0.007418240886181593, 0.016455739736557007, 0.014996174722909927, 0.01199183240532875, 0.04239653795957565, 0.030542204156517982, 0.01953822374343872, 0.007364605087786913, 0.08055379986763, -0.0427522212266922, -0.015783732756972313, 0.053070854395627975, -0.046397216618061066, -0.0333353616297245, -0.023671040311455727, 0.03552401438355446, 0.012984378263354301, -0.01361236721277237, -0.006925618276000023, -0.010266085155308247, -0.03646106645464897, 0.024025456979870796, 0.030025703832507133, 0.016952214762568474, -0.04204162582755089, -0.042947638779878616, -0.08843512833118439, -0.008701996877789497, 0.025025364011526108, -0.03591321408748627, 0.004739188123494387, 0.048562292009592056, -5.231143222772516e-05, -0.05907777324318886, 0.006594412960112095, 0.03792262077331543, -0.04071341082453728, 0.025674212723970413, -0.02770782634615898, -0.014858455397188663, 0.007127819582819939, 0.03045852854847908, -0.008015040308237076, -0.005806229077279568, -0.02983534149825573, 0.005523796193301678, -0.031979359686374664, 0.005076708737760782, 0.045537255704402924, 0.04353472962975502, -0.033542510122060776, 0.047020189464092255, 0.020764365792274475, -0.07715951651334763, 0.002368955174461007, -0.04971001297235489, -0.06601156294345856, 0.04754228889942169, 0.06121612340211868, 0.040739163756370544, 0.007985886186361313, -0.027769148349761963, -0.04138072207570076, 0.047820303589105606, 0.018922721967101097, -0.10913366079330444, -0.0244885440915823, 0.02912162058055401, 0.03198228403925896, 0.02555031329393387, 0.044144563376903534, 0.04382685571908951, -0.13644026219844818, -0.014770579524338245, -0.04309229552745819, 0.10702551156282425, -0.02671286277472973, 0.050118546932935715, 0.07754482328891754, -0.05995216965675354, -0.013763725757598877, 0.023875601589679718, -0.012924018315970898, -0.004752377513796091, 0.01918027549982071, -0.0618298277258873, -0.036544036120176315, -0.06264612078666687, -0.021477563306689262, -0.018774917349219322, 0.02147301472723484, 0.012897217646241188, 0.0010965541005134583, -0.014091436751186848, 0.09363827109336853, -0.013357702642679214, -0.0055752964690327644, -0.006034805905073881, -0.03311244025826454, 0.01767897978425026, -0.047999057918787, -0.07471396028995514, 0.015658186748623848, -0.03255759924650192, 0.08259743452072144, 0.006615623366087675, 0.04053373634815216, -0.012914758175611496, -0.05714830383658409, 0.017408346757292747, 0.010154289193451405, -0.02266341634094715, -0.02023131027817726, 0.05227474868297577, 0.02933572791516781, -0.05066889896988869, -0.006006879732012749, -0.025591785088181496, 0.012800613418221474, 0.017885934561491013, -0.03359096124768257, 0.06554970890283585, 0.0632096379995346, 0.023362118750810623, 0.008806973695755005, 0.022015808150172234, 0.04029472917318344, -0.02713003195822239, 0.10304869711399078, 0.08329441398382187, 0.0013953024754300714, -0.04268389567732811, 0.017869431525468826, -0.04214436188340187, -0.018713954836130142, 0.0012906199553981423, -0.025876544415950775, -0.009284254163503647, -0.0486334003508091, 0.036152616143226624, -0.03028397634625435, -0.01971588283777237, -0.032129544764757156]}}, {'_index': 'test_all', '_type': '_doc', '_id': 'constitucion00000100000009', '_score': 11.0571785, '_source': {'index': 'constitucion', 'legal_source': 'CONSTITUCION POLITICA DE COLOMBIA\\n', 'id': 'constitucion00000100000009', 'book': {'title': None, 'name': None}, 'section': {'title': None, 'name': None}, 'chapter': {'title': None, 'name': None}, 'headline': {'title': 'DISPOSICIONES TRANSITORIAS\\n', 'name': 'DE LA REFORMA DE LA CONSTITUCION\\n'}, 'part': {'title': None, 'name': None}, 'article': {'name': 'Artículo 9.', 'content': ['Artículo 9. Las relaciones exteriores del Estado se fundamentan en la soberanía nacional, en el respeto a la autodeterminación de los pueblos y en el reconocimiento de los principios del derecho internacional aceptados por Colombia.\\n', 'De igual manera, la política exterior de Colombia se orientará hacia la integración latinoamericana y del Caribe.\\n']}, 'embedds': [0.057396892458200455, 0.08099644631147385, -0.02948754094541073, 0.05308690667152405, -0.07195963710546494, 0.043815065175294876, -0.0030998820438981056, 0.008018585853278637, -0.0496644526720047, 0.0030971947126090527, 0.06679610162973404, -0.032433826476335526, 0.03657054156064987, 0.02339700423181057, -0.02056756615638733, -0.026918966323137283, -0.0521123893558979, 0.001691853511147201, -0.007632683031260967, 0.03522884473204613, 0.013801668770611286, -0.00293901888653636, -0.032572124153375626, 0.040995147079229355, 0.00875696912407875, -0.05207217112183571, 0.030452394858002663, -0.03265336528420448, 0.01121091190725565, 0.01851714961230755, -0.02802135795354843, 0.07630607485771179, 0.0195364598184824, 0.020439157262444496, 0.014874150976538658, 0.029386648908257484, 0.059603121131658554, 0.08359598368406296, 0.007741637993603945, -0.04488329216837883, 0.03551590442657471, -0.011690798215568066, 0.03310820832848549, -0.0053840093314647675, -0.009095663204789162, 0.015250436030328274, 0.01885870099067688, -0.016904685646295547, 0.008384615182876587, 0.05108042433857918, -0.0011149857891723514, -0.02304956130683422, 0.04907144606113434, 0.0363025926053524, 0.07650049030780792, 0.00278113828971982, -0.002448897808790207, -0.04977324604988098, -0.08262110501527786, -0.01823394186794758, 0.020822463557124138, -0.009329907596111298, 0.05851774290204048, -0.013936467468738556, 0.03912249952554703, 0.058700717985630035, 0.048324331641197205, 0.012296019122004509, -0.02028842270374298, 0.0033199801109731197, 0.0033334337640553713, -0.009870283305644989, -0.06948114931583405, 0.05265182629227638, 0.044103626161813736, -0.030883369967341423, 0.00848609209060669, -0.006864169612526894, -0.06363169848918915, 0.08932431787252426, 0.01765916310250759, 0.009730264544487, -0.09729204326868057, 0.03344960883259773, -0.006673896219581366, -0.004073462449014187, 0.039572812616825104, 0.061567872762680054, 0.0016417942242696881, -0.01491674967110157, 0.0329037643969059, 0.01036234200000763, -0.06500252336263657, 0.019221602007746696, 0.0017475076019763947, 0.1125529557466507, -0.0038103952538222075, -0.006740199401974678, 0.03917796537280083, -0.03537028282880783, 0.012484957464039326, -0.02812417596578598, 0.0023557611275464296, 0.06010317802429199, -0.07002714276313782, -0.04745490849018097, 0.059459902346134186, 0.0029428224079310894, -0.024723615497350693, -0.0032962101977318525, 0.07254070043563843, -0.06715542823076248, 0.0005691828555427492, 0.05866209790110588, -0.0009152913698926568, 0.017108244821429253, -0.01827269047498703, 0.04097751900553703, -0.07895926386117935, 0.08903002738952637, -0.037514958530664444, -0.0014535178197547793, 0.036215271800756454, -0.05410607531666756, 0.0670865923166275, -0.023699570447206497, -0.05200665816664696, -0.07022036612033844, -0.02625260502099991, -0.04807942360639572, 0.003911743406206369, 0.012418976053595543, 0.0009999775793403387, 0.03326673433184624, 0.0052947914227843285, 0.035568803548812866, 0.05600834637880325, 0.03136462718248367, -0.10426993668079376, -0.07454884052276611, 0.05110582709312439, -0.0090284189209342, 0.016756758093833923, 0.04781561344861984, 0.07315746694803238, -0.005962306167930365, 0.05140847712755203, -0.015310503542423248, 0.06184403598308563, -0.013197430409491062, 0.09479067474603653, 0.06810228526592255, -0.0423496812582016, 0.0587683841586113, 0.03019891120493412, -0.017566539347171783, -0.025972096249461174, 0.012237981893122196, 0.046312060207128525, 0.06711722910404205, 0.010347217321395874, -0.028619160875678062, -0.07145652174949646, 0.005801949184387922, 0.03672652691602707, 0.09784988313913345, 0.026521557942032814, 0.039235737174749374, 0.04501701518893242, -0.0025107276160269976, -0.00728188082575798, 0.027186604216694832, -0.061275750398635864, 0.046193405985832214, 0.03126287832856178, 0.04718827083706856, -0.02574959397315979, -0.006203478202223778, 0.021115273237228394, -0.049153562635183334, 0.014793765731155872, 0.09413676708936691, -0.007783323992043734, 0.01257349830120802, 0.06117599457502365, -0.004315499681979418, 0.020018165931105614, 0.004215118940919638, 0.04985063523054123, 0.06158558651804924, -0.07102738320827484, 0.04087049514055252, 0.0816953256726265, -0.015501493588089943, -0.05208447203040123, -0.024144655093550682, 0.00781470350921154, -0.061807818710803986, -0.006631962489336729, -0.041224315762519836, -0.08647468686103821, -0.005337424110621214, -0.029298286885023117, 0.021936576813459396, 0.021608103066682816, -0.0426352322101593, 0.0155405942350626, 0.026040473952889442, 0.004310195334255695, 0.02563021518290043, 0.01330825686454773, -0.06263873726129532, 0.09938343614339828, -0.07160604000091553, 0.07985027879476547, 0.02151498943567276, -0.015102008357644081, 0.03325049951672554, 0.09290273487567902, -0.06769690662622452, -0.0029510457534343004, -0.06487538665533066, 0.05355303734540939, 0.021884284913539886, -0.018274376168847084, -0.013387939892709255, 0.006873089354485273, 0.01677524670958519, -0.005435318686068058, 0.018926071003079414, -0.032510705292224884, -0.0380106046795845, 0.0039742691442370415, 0.0839809998869896, 0.07332336157560349, 0.04082082211971283, 0.09526433050632477, 0.010102558881044388, -0.02593659982085228, 0.046035174280405045, 0.04759117215871811, 0.05295877158641815, -0.07090269029140472, -0.00988584104925394, 0.024447359144687653, -0.05613694712519646, 0.0220804326236248, 0.05046258866786957, -0.034650616347789764, -0.07617714256048203, 0.03786739334464073, -0.02394546940922737, 0.011468634009361267, -0.01184038445353508, -0.005545095074921846, -0.07892980426549911, -0.04429216682910919, -0.039047300815582275, 0.08092892169952393, 0.041237834841012955, -0.011830260045826435, -0.02677878737449646, 0.04131501168012619, -0.028060758486390114, 0.051132701337337494, 0.03257284313440323, -0.0913524478673935, 0.04331810399889946, 0.0005020757671445608, 0.07262079417705536, 0.012233249843120575, 0.0772182047367096, 0.01989132910966873, 0.032205164432525635, 0.02039176970720291, 0.0054193586111068726, -0.06498617678880692, -0.009097045287489891, 0.029096459969878197, 0.006175666116178036, 0.03130674362182617, -0.022091098129749298, -0.06796111166477203, -0.05063803121447563, 0.0936681404709816, -0.047422997653484344, -0.00420935545116663, 0.04145590960979462, -0.007862093858420849, 0.021002765744924545, -0.02691366709768772, -0.03611546754837036, 0.031719546765089035, -0.03551356494426727, -0.03999879211187363, -0.026137404143810272, 0.046143993735313416, -0.023821242153644562, -0.033563632518053055, -0.01498814020305872, -0.05882367864251137, 0.07625257223844528, 0.045924343168735504, 0.018177201971411705, -0.07437353581190109, -0.029345177114009857, 0.027406128123402596, 0.036282625049352646, 0.03924357891082764, -0.0573071725666523, -0.006686183158308268, 0.0345129556953907, 0.008129704743623734, -0.057028673589229584, 0.016859235242009163, -0.05406147986650467, -0.06851073354482651, -0.013359722681343555, -0.019695913419127464, 0.05720089375972748, -0.002556001301854849, -0.025570809841156006, 0.05929616838693619, 0.022576259449124336, -0.02287360467016697, 0.07132980972528458, 0.036622304469347, 0.029596470296382904, -0.023681987076997757, -0.03645634278655052, 0.08129067718982697, 0.06863033026456833, -0.00710269995033741, -0.06309287250041962, -0.015442939475178719, -0.07027073204517365, -0.02751525677740574, -0.029919462278485298, -0.04470209404826164, 0.12006866186857224, -0.04872468486428261, -0.02746066078543663, 0.06495893746614456, 0.0007748996140435338, 0.017879532650113106, -0.035133279860019684, 0.045322634279727936, -0.011662159115076065, -0.015417459420859814, -0.06302035599946976, 0.025712767615914345, 0.03872571513056755, -0.08116491883993149, -0.006497642491012812, -0.09138417989015579, 0.004564528353512287, -0.0820632204413414, 0.05093764141201973, -0.07356487959623337, 0.0006080150487832725, 0.016041601076722145, 0.006841677241027355, 0.03653303161263466, -0.035456396639347076, -0.03566080704331398, -0.037835415452718735, -0.04943042993545532, 0.0063774739392101765, 0.03412137180566788, 0.0024239576887339354, -0.009874150156974792, 0.008320031687617302, 0.027982108294963837, 0.08933930844068527, 0.00591988954693079, -0.0055360980331897736, -0.0005066358135081828, 0.07767985016107559, -0.005760266911238432, 0.047656286507844925, 0.018697375431656837, -0.06275651603937149, -0.030408386141061783, -0.01441920455545187, -0.03262957185506821, 0.004878954961895943, 0.004196790046989918, -0.020914660766720772, -9.40615645959042e-05, -0.0613485611975193, 0.021748734638094902, 0.024991333484649658, 0.014120304957032204, -0.043239764869213104, -0.034181855618953705, -0.060659706592559814, -0.0009641135111451149, -0.0004202694399282336, -0.04457436129450798, 0.009950504638254642, 0.04863285645842552, 0.013526023365557194, -0.07798989862203598, 0.0049600000493228436, -0.016136715188622475, -0.05361972749233246, 0.048294030129909515, -0.056287191808223724, -0.016610195860266685, 0.022597992792725563, 0.04631185159087181, -0.025600537657737732, -0.014697018079459667, -0.02149706333875656, -0.010211406275629997, -0.04945855215191841, -0.005961986258625984, 0.09426073729991913, 0.019584432244300842, -0.045292992144823074, 0.02289765514433384, -0.03673603758215904, -0.058215443044900894, 0.012722487561404705, -0.03767348825931549, -0.035134896636009216, 0.02496599592268467, 0.07143224775791168, 0.0545511394739151, -0.03781544417142868, 0.003535892814397812, -0.06205232813954353, 0.05855339765548706, 0.0024996597785502672, -0.11720877885818481, 0.012315082363784313, 0.020653150975704193, 0.020385589450597763, 0.021823998540639877, 0.03551548346877098, -0.036859750747680664, -0.13064885139465332, -0.009948342107236385, -0.048217762261629105, 0.09875500947237015, -0.044252660125494, 0.05174676328897476, 0.07153570652008057, -0.00014019731315784156, -0.05395491048693657, 0.01354709081351757, 0.013664267025887966, -0.01501831877976656, 0.004202083218842745, -0.06006375327706337, -0.07232323288917542, -0.06593279540538788, 0.005007572006434202, -0.0442415252327919, 0.030327634885907173, 0.008206401951611042, 0.009913604706525803, 0.0009379275725223124, 0.08953764289617538, 0.007837689481675625, -0.028548896312713623, -0.015545075759291649, -0.05256055295467377, -0.03423907980322838, -0.042443763464689255, -0.12303216755390167, -0.019603384658694267, -0.010474990122020245, 0.04836355149745941, -0.008422354236245155, 0.04459061846137047, -0.021146096289157867, -0.07287508994340897, -0.011649290099740028, -0.00013924422091804445, -0.018016284331679344, 0.0071886079385876656, 0.06200999766588211, 0.04320294409990311, -0.046490367501974106, 0.03783072531223297, 0.008568799123167992, 0.03588708117604256, -0.020832156762480736, -0.026287417858839035, 0.051300063729286194, 0.047829337418079376, 0.005390360951423645, -0.03659570962190628, -0.0011116075329482555, 0.08874668926000595, -0.00454002944752574, 0.0676560178399086, 0.06170595437288284, 0.01519326027482748, -0.021198488771915436, -0.0006715237977914512, -0.03595367819070816, -0.04330109804868698, -0.002856874605640769, 0.027112646028399467, -0.03114374727010727, -0.08448974043130875, 0.05386045202612877, -0.03803093358874321, -0.041227273643016815, 0.017474545165896416]}}, {'_index': 'test_all', '_type': '_doc', '_id': 'constitucion00000100000010', '_score': 11.0571785, '_source': {'index': 'constitucion', 'legal_source': 'CONSTITUCION POLITICA DE COLOMBIA\\n', 'id': 'constitucion00000100000010', 'book': {'title': None, 'name': None}, 'section': {'title': None, 'name': None}, 'chapter': {'title': None, 'name': None}, 'headline': {'title': 'DISPOSICIONES TRANSITORIAS\\n', 'name': 'DE LA REFORMA DE LA CONSTITUCION\\n'}, 'part': {'title': None, 'name': None}, 'article': {'name': 'Artículo 10.', 'content': ['Artículo 10. El castellano es el idioma oficial de Colombia. Las lenguas y dialectos de los grupos étnicos son también oficiales en sus territorios. La enseñanza que se imparta en las comunidades con tradiciones lingüísticas propias será bilingüe.\\n']}, 'embedds': [0.020085414871573448, 0.042730897665023804, 0.01605558767914772, 0.04382191225886345, -0.06628040969371796, 0.06014280766248703, -0.028181277215480804, 0.00016224825230892748, -0.07904289662837982, -0.011258058249950409, 0.06178300827741623, -0.05018744245171547, 0.03209850192070007, 0.04609702527523041, -0.014760906808078289, -0.0439656600356102, -0.06437597423791885, 0.021471092477440834, -0.01998506486415863, 0.022416481748223305, 0.003555036149919033, 0.026599623262882233, -0.005610720720142126, 0.060478128492832184, 0.0025246550794690847, -0.023065486922860146, 0.04656042531132698, -0.03791781887412071, -0.016054006293416023, 0.018058883026242256, 0.020960405468940735, 0.06584713608026505, 0.019335657358169556, 0.02386922389268875, -0.012578505091369152, 0.011712059378623962, 0.04282698780298233, 0.06074794754385948, 0.012183589860796928, -0.07764595746994019, 0.006507778074592352, -0.021326987072825432, -0.05469604581594467, -0.0365329310297966, 0.0036486703902482986, -0.014975875616073608, -0.0530836246907711, -0.03175446763634682, 0.001128732692450285, 0.06134495511651039, -0.026843314990401268, -0.061461709439754486, 0.06125205382704735, 0.009066637605428696, 0.014840968884527683, -0.017947141081094742, -0.034553494304418564, -0.04783393815159798, -0.09025905281305313, 0.0187004916369915, 0.017706042155623436, 0.049201108515262604, 0.015274273231625557, 0.032312847673892975, 0.040291398763656616, 0.08413483202457428, -0.005265966989099979, -0.005923446733504534, 0.00045923766447231174, 0.01939188316464424, -0.009071546606719494, -0.039406053721904755, -0.04496583342552185, 0.061240054666996, -0.012964499182999134, -0.006559110712260008, -0.031871479004621506, 0.0028346101753413677, -0.08192334324121475, 0.11694371700286865, -0.034034810960292816, 0.012334681116044521, -0.0814378410577774, -0.014103824272751808, 0.016171375289559364, -0.009608453139662743, -0.0063340733759105206, 0.047162096947431564, 0.019485443830490112, 0.00838159117847681, 0.05324850231409073, -0.023631978780031204, -0.07657642662525177, 0.014683215878903866, 0.029232200235128403, 0.11497040838003159, 0.031877029687166214, 0.033062804490327835, 0.07799004018306732, 0.0028629484586417675, -0.019315510988235474, -0.013504257425665855, 0.01113026775419712, 0.050577763468027115, -0.04840878024697304, -0.01961834728717804, 0.033457331359386444, 0.01490034069865942, -0.05114561319351196, 0.026864420622587204, 0.0624571368098259, -0.03572477027773857, 0.014549000188708305, 0.03786081075668335, 0.036659497767686844, 0.03995798900723457, 0.005304647143930197, 0.03416331112384796, -0.05788765847682953, 0.048689622431993484, -0.02312586084008217, 0.015983479097485542, 0.039727818220853806, -0.05895339325070381, 0.09286592155694962, -0.02253042347729206, -0.08054514229297638, -0.04137963429093361, -0.02728693000972271, 0.022744489833712578, -0.00950867123901844, 0.01730358600616455, 0.011662117205560207, -0.015216534957289696, -0.013759121298789978, 0.02051655761897564, 0.03151320293545723, -0.027758954092860222, -0.07513967156410217, -0.06607672572135925, 0.045884884893894196, -0.0343424454331398, -0.013246973976492882, -0.015065247192978859, 0.06428863853216171, 0.05032354220747948, 0.05358613654971123, 0.034060459583997726, 0.05480528250336647, 0.017974795773625374, 0.07009384781122208, 0.06057510897517204, -0.042515646666288376, 0.07929395884275436, 0.007918834686279297, -0.01739996299147606, 0.002062599640339613, -0.0066654919646680355, 0.019365476444363594, 0.04407114163041115, 0.047784656286239624, -0.03232396021485329, -0.09169279783964157, -0.0010307544143870473, 0.035168055444955826, 0.11103667318820953, 0.025274114683270454, 0.034149419516325, 0.06394991278648376, -0.004339751321822405, -0.030528323724865913, 0.02644338831305504, -0.03439470753073692, 0.053309254348278046, 0.03047490492463112, 0.054940346628427505, -0.03921373933553696, 0.03899699077010155, 0.068842314183712, -0.04968978464603424, 0.01931679993867874, 0.08064671605825424, 0.01060776598751545, 0.025204915553331375, 0.058550622314214706, 0.014232590794563293, 0.03129672631621361, 0.04286641255021095, 0.003732360200956464, 0.05502830073237419, -0.03567352518439293, 0.045551855117082596, 0.09495897591114044, 0.006145770195871592, -0.03453298285603523, -0.01811564899981022, 0.00027722661616280675, -0.030703717842698097, 0.009533046744763851, -0.04855737090110779, -0.10413610190153122, -0.008153273724019527, -0.03281437233090401, 0.015119252726435661, 0.004756125155836344, -0.03142860159277916, 0.021779531612992287, 0.06868991255760193, -0.010835898108780384, -0.028069620952010155, 0.02646448276937008, -0.03333806246519089, 0.0644177496433258, -0.0836973488330841, 0.079014852643013, -0.006755819544196129, -0.034223522990942, 0.038968224078416824, 0.05625027045607567, -0.07397747784852982, -0.037224218249320984, -0.0668322741985321, 0.039881326258182526, 0.01214304193854332, -0.07839633524417877, -0.014246697537600994, 0.056435417383909225, 0.07036744058132172, -0.06169155240058899, 0.036998022347688675, -0.06474076956510544, -0.02401074953377247, 0.005774346180260181, 0.04260019585490227, 0.06745617091655731, 0.06086193025112152, 0.10941708832979202, 0.03701449930667877, -0.009812377393245697, 0.05939869582653046, 0.03624870628118515, 0.05039699003100395, -0.01768912561237812, -0.028688769787549973, -0.012013327330350876, -0.02774258889257908, 0.008419505320489407, 0.008222618140280247, -0.01639736071228981, -0.06178056076169014, 0.04542408511042595, -0.010815287008881569, 0.018057778477668762, 0.011034918949007988, -0.02277645654976368, -0.046265020966529846, -0.012206763960421085, -0.02449815720319748, 0.0778501033782959, 0.0129061508923769, -0.031299613416194916, 0.003711362136527896, 0.09974173456430435, -0.036960162222385406, 0.000727374863345176, 0.004192613996565342, -0.017320431768894196, 0.02162506803870201, -0.003224709304049611, 0.03709264099597931, 0.03324015438556671, 0.06976141780614853, -0.017773263156414032, 0.04212105646729469, 0.04642248898744583, -0.01804644614458084, -0.023709604516625404, -0.0015332273906096816, 0.046087030321359634, 0.03127986937761307, 0.009685381315648556, -0.02359030768275261, -0.032451242208480835, -0.039295706897974014, 0.0460907444357872, -0.06472624093294144, -0.016014354303479195, 0.054492101073265076, -0.013549773022532463, -0.022045427933335304, -0.014494231902062893, 0.027822088450193405, 0.007052559871226549, -0.015838265419006348, -0.04945903643965721, -0.010806184262037277, 0.0032605326268821955, -0.0706057921051979, -0.04862647503614426, -0.020062537863850594, -0.03957788646221161, 0.08753576129674911, -0.0032499658409506083, 0.0027862945571541786, -0.06676431000232697, -0.059407927095890045, 0.06378913670778275, 0.06551141291856766, -0.04045884683728218, -0.08304699510335922, -0.020424678921699524, 0.027144376188516617, 0.01868688501417637, -0.05817677080631256, 0.041877198964357376, -0.04855557531118393, -0.0009246686822734773, 0.015245072543621063, -0.06571381539106369, 0.07422591745853424, -0.005895718932151794, -0.031650785356760025, 0.0551317036151886, -0.013036484830081463, 0.015132369473576546, 0.007033538538962603, -0.046849608421325684, 0.012674289755523205, -0.006673506461083889, -0.014798014424741268, 0.04955995827913284, 0.09001307189464569, -0.0884128138422966, -0.0745181068778038, -0.011097374372184277, -0.08965440839529037, -0.059568244963884354, -0.0394163653254509, 0.008452970534563065, 0.09461603313684464, -0.08268315345048904, 0.04367392137646675, 0.08067591488361359, 0.05395030230283737, -0.0037566013634204865, -0.0738251656293869, 0.013811442069709301, -0.008319883607327938, -0.03706786409020424, -0.03971021622419357, 0.010120999999344349, 0.03804534301161766, -0.07370886206626892, -0.00040886757778935134, -0.050179701298475266, -0.04499618336558342, -0.09348484873771667, 0.049274783581495285, -0.046836625784635544, 0.012363557703793049, 0.00783722847700119, -0.045489951968193054, 0.05188719928264618, -0.025368057191371918, -0.05675007030367851, -0.022266028448939323, -0.02164899930357933, 0.04514168202877045, 0.021295756101608276, -0.04089701175689697, 0.023499686270952225, 0.04240487515926361, 0.039052873849868774, 0.060159824788570404, 0.019960297271609306, -0.00148676591925323, -0.013145972043275833, 0.08524622023105621, -0.00595289608463645, 0.06834126263856888, 0.052357662469148636, -0.03662276268005371, -0.0372367687523365, -0.052990205585956573, 0.030240507796406746, -0.056288328021764755, -0.0021380633115768433, -0.026965629309415817, 0.02287040464580059, -0.027412481606006622, -0.010806271806359291, -0.019943417981266975, -0.007458213716745377, -0.07549212127923965, -0.06432761251926422, -0.0565309002995491, 0.019916173070669174, -0.026109566912055016, -0.040514491498470306, 0.004365879576653242, 0.044175755232572556, -0.0037630072329193354, -0.08044705539941788, 0.03914053738117218, -0.017248257994651794, -0.034269269555807114, -0.027787866070866585, -0.02336673066020012, 0.025316370651125908, 0.03351876512169838, 0.08148638904094696, -0.035100892186164856, -0.0446152538061142, -0.04479752480983734, -0.015772368758916855, 0.009923066943883896, -0.04893685132265091, 0.05355225130915642, -0.006580658257007599, -0.07545173168182373, 0.03719748556613922, -0.012100718915462494, -0.04322440177202225, -0.05408381298184395, -0.023564040660858154, -0.02116195298731327, -0.038494810461997986, 0.05310811474919319, 0.04579624533653259, 0.035193365067243576, 0.036894701421260834, -0.045569781213998795, 0.04122379422187805, -0.015918301418423653, -0.10365194827318192, 0.011682476848363876, 0.050409264862537384, 0.028691137209534645, 0.060438383370637894, 0.007624237332493067, -0.00911527220159769, -0.13010084629058838, -0.03747180104255676, -0.054137323051691055, 0.0462413914501667, -0.04119104519486427, 0.04609823226928711, 0.09558393806219101, -0.01389529462903738, -0.016315307468175888, -0.0028013952542096376, 0.01973140798509121, -0.009975062683224678, 0.00047565411659888923, -0.0767449215054512, -0.06997308880090714, -0.024084923788905144, -0.0011348763946443796, -0.03220982849597931, 0.003766381647437811, 0.01680138148367405, 0.010402434505522251, -0.004575409460812807, 0.06701039522886276, 0.020753052085638046, -0.02952650748193264, -0.03999146819114685, -0.024762365967035294, -0.005818850826472044, -0.011776823550462723, -0.07912393659353256, 0.0003793324576690793, -0.04086901247501373, 0.05631747096776962, -0.015541520901024342, 0.008866749703884125, -0.012710022740066051, -0.047159645706415176, 0.004323121160268784, 0.041537947952747345, 0.017726071178913116, 0.03150220215320587, 0.09447699040174484, 0.06271689385175705, -0.06672702729701996, 0.0849042683839798, -0.03248731791973114, -0.0045506819151341915, -0.04015323519706726, 0.029409969225525856, 0.05883301794528961, 0.0056534456089138985, -0.02417062222957611, -0.057298626750707626, -0.052289873361587524, 0.07851878553628922, 0.05181531235575676, 0.10825628787279129, 0.03687622770667076, 0.00885939970612526, 0.035386789590120316, 0.01104621309787035, -0.02434660494327545, -0.012670377269387245, 0.010174591094255447, 0.016023656353354454, -0.016110451892018318, -0.07792919874191284, 0.017815465107560158, -0.03557642176747322, -0.013025542721152306, 0.005555521231144667]}}]}}\n",
      "472\n",
      "15.273798\n"
     ]
    }
   ],
   "source": [
    "local_test = f\"{main_url}/_search\"\n",
    "query_test = {\n",
    "    \"query\": {\n",
    "        \"simple_query_string\": {\n",
    "            \"query\": \"constitucion\"\n",
    "        }\n",
    "    }\n",
    "}\n",
    "query_test = requests.get(local_test, json=query_test)\n",
    "\n",
    "result = json.loads(query_test.text)\n",
    "print(result)\n",
    "print(result['hits']['total']['value'])\n",
    "print(result['hits']['max_score'])\n",
    "best_rated = result['hits']['hits'][1]\n"
   ]
  },
  {
   "cell_type": "code",
   "execution_count": null,
   "metadata": {},
   "outputs": [],
   "source": [
    "!pip3 install tensorflow_hub\n",
    "!pip3 install tensorflow_text"
   ]
  },
  {
   "cell_type": "code",
   "execution_count": 67,
   "metadata": {},
   "outputs": [],
   "source": [
    "from tf_model import embed_text\n",
    "import requests\n",
    "\n",
    "local_test = \"http://localhost:9200/test_all/_search\"\n",
    "query = \"adolescencia\"\n",
    "\n",
    "query_vector = embed_text(query)\n",
    "\n",
    "query_test = {\n",
    "    \"query\": { \"match_all\": {} },\n",
    "    \"script\": {\n",
    "      \"source\": \"cosineSimilarity(params.query_vector, doc['embedds']) + 1.0\",\n",
    "      \"params\": {\"query_vector\": query_vector}\n",
    "    }\n",
    "  }\n",
    "\n",
    "query_test = requests.get(local_test, json=query_test)\n",
    "query_test.text"
   ]
  },
  {
   "cell_type": "code",
   "execution_count": 69,
   "metadata": {},
   "outputs": [
    {
     "data": {
      "text/plain": [
       "'{\"error\":{\"root_cause\":[{\"type\":\"parsing_exception\",\"reason\":\"Unknown key for a START_OBJECT in [script].\",\"line\":1,\"col\":40}],\"type\":\"parsing_exception\",\"reason\":\"Unknown key for a START_OBJECT in [script].\",\"line\":1,\"col\":40},\"status\":400}'"
      ]
     },
     "execution_count": 69,
     "metadata": {},
     "output_type": "execute_result"
    }
   ],
   "source": [
    "query_test = {\n",
    "    \"query\": { \"match_all\": {} },\n",
    "    \"script\": {\n",
    "      \"source\": \"cosineSimilarity(params.query_vector, doc['embedds']) + 1.0\",\n",
    "      \"params\": {\"query_vector\": query_vector}\n",
    "    }\n",
    "  }\n",
    "\n",
    "query_test = requests.get(local_test, json=query_test)\n",
    "query_test.text"
   ]
  },
  {
   "cell_type": "code",
   "execution_count": null,
   "metadata": {},
   "outputs": [],
   "source": [
    "result = json.loads(query_test.text)\n",
    "print(result['hits']['total']['value'])\n",
    "print(result['hits']['max_score'])\n",
    "best_rated = result['hits']['hits'][1]\n",
    "best_rated"
   ]
  }
 ],
 "metadata": {
  "julynter-results": {
   "filteredId": [],
   "filteredIndividual": [],
   "filteredRestart": [],
   "filteredType": [],
   "hash": "b3ca75b9eea7aa1432ed8795cc17b385a9611444",
   "visible": [
    {
     "cellId": "group",
     "hash": "c0de46ba034d710c2b2406a37ee6816be9634aa0",
     "reason": "This groups other lint messages",
     "reportId": "group",
     "reportType": "hiddenstate",
     "suggestion": null,
     "text": "Hidden State"
    },
    {
     "cellId": 13,
     "hash": "2d9c755ec33dc655773e1db44e1c5139cf33ee3b",
     "reason": "A cell with code changes may produce different results than what it generated before the changes, hampering the reproducibility.",
     "reportId": "h2",
     "reportType": "hiddenstate",
     "suggestion": "Please consider re-executing it to guarantee the reproducibility.",
     "text": "Cell 13 has changed since its execution, but it wasn't executed after the changes"
    },
    {
     "cellId": 15,
     "hash": "32de0b1640c2bcbdbbe380bae994b203fa9ae9b9",
     "reason": "A cell with code changes may produce different results than what it generated before the changes, hampering the reproducibility.",
     "reportId": "h2",
     "reportType": "hiddenstate",
     "suggestion": "Please consider re-executing it to guarantee the reproducibility.",
     "text": "Cell 15 has changed since its execution, but it wasn't executed after the changes"
    },
    {
     "cellId": 21,
     "hash": "d54dc5574306ebd0b409edccc349fdaec3b57519",
     "reason": "A cell with code changes may produce different results than what it generated before the changes, hampering the reproducibility.",
     "reportId": "h2",
     "reportType": "hiddenstate",
     "suggestion": "Please consider re-executing it to guarantee the reproducibility.",
     "text": "Cell 21 has changed since its execution, but it wasn't executed after the changes"
    },
    {
     "cellId": 28,
     "hash": "52a5f5fae1b6edd57aa0d289726af27a6243b71d",
     "reason": "A cell with code changes may produce different results than what it generated before the changes, hampering the reproducibility.",
     "reportId": "h2",
     "reportType": "hiddenstate",
     "suggestion": "Please consider re-executing it to guarantee the reproducibility.",
     "text": "Cell 28 has changed since its execution, but it wasn't executed after the changes"
    },
    {
     "cellId": 21,
     "hash": "b18d0630d690ad3568c760598a21baa1f8afd98e",
     "reason": "A skip in the execution count might indicate the presence of a hidden state caused by a cell that does not exist anymore. Hidden states might prevent cells from executing or producing the same results, hampering the reproducibility.",
     "reportId": "h4",
     "reportType": "hiddenstate",
     "suggestion": "Please consider re-running the notebook to guarantee the reproducibility.",
     "text": "Cell 21 skips the execution count"
    },
    {
     "cellId": 22,
     "hash": "75df1342f71753d07b06f38d8684a93064238218",
     "reason": "A skip in the execution count might indicate the presence of a hidden state caused by a cell that does not exist anymore. Hidden states might prevent cells from executing or producing the same results, hampering the reproducibility.",
     "reportId": "h4",
     "reportType": "hiddenstate",
     "suggestion": "Please consider re-running the notebook to guarantee the reproducibility.",
     "text": "Cell 22 skips the execution count"
    },
    {
     "cellId": 24,
     "hash": "dc97999794c778c01792c36a843d01cbb9cf48b9",
     "reason": "A skip in the execution count might indicate the presence of a hidden state caused by a cell that does not exist anymore. Hidden states might prevent cells from executing or producing the same results, hampering the reproducibility.",
     "reportId": "h4",
     "reportType": "hiddenstate",
     "suggestion": "Please consider re-running the notebook to guarantee the reproducibility.",
     "text": "Cell 24 skips the execution count"
    },
    {
     "cellId": 24,
     "hash": "e472d5d9815dbc38f2d4450cb53d910e935dff24",
     "reason": "The cell uses a name that does not exist in this notebook. Using a name that does not exist prevents the reproducibility of the notebook.",
     "reportId": "h6",
     "reportType": "hiddenstate",
     "suggestion": "Please consider defining them to guarantee the reproducibility.",
     "text": "Cell 24 has the following undefined names: 'add_to_log'"
    },
    {
     "cellId": 17,
     "hash": "194d4cc8190ced270167c5b170e51629add69932",
     "reason": "A skip in the execution count might indicate the presence of a hidden state caused by a cell that does not exist anymore. Hidden states might prevent cells from executing or producing the same results, hampering the reproducibility.",
     "reportId": "h4",
     "reportType": "hiddenstate",
     "suggestion": "Please consider re-running the notebook to guarantee the reproducibility.",
     "text": "Cell 17 skips the execution count"
    },
    {
     "cellId": 29,
     "hash": "35ac6b07be908439c4d7a1f45ac928de2365b5ee",
     "reason": "A skip in the execution count might indicate the presence of a hidden state caused by a cell that does not exist anymore. Hidden states might prevent cells from executing or producing the same results, hampering the reproducibility.",
     "reportId": "h4",
     "reportType": "hiddenstate",
     "suggestion": "Please consider re-running the notebook to guarantee the reproducibility.",
     "text": "Cell 29 skips the execution count"
    },
    {
     "cellId": "group",
     "hash": "19d3d3d153f22e318cbe061df9e685ba5165b0aa",
     "reason": "This groups other lint messages",
     "reportId": "group",
     "reportType": "confusenotebook",
     "suggestion": null,
     "text": "Confuse Notebook"
    },
    {
     "cellId": 11,
     "hash": "edac16c3b78c5c53eebc2afbd8384e6ae1eedbf0",
     "reason": "When you try to run all cells following the top-down order, non-executed cells might fail to execute or produce different results, hampering the reproducibility.",
     "reportId": "c1",
     "reportType": "confusenotebook",
     "suggestion": "Please consider cleaning it to guarantee the reproducibility.",
     "text": "Cell 11 is a non-executed cell among executed ones"
    },
    {
     "cellId": 20,
     "hash": "e3be50044ab168d2346f86d1e1c4bb98fcdabd2b",
     "reason": "When you try to run all cells following the top-down order, non-executed cells might fail to execute or produce different results, hampering the reproducibility.",
     "reportId": "c1",
     "reportType": "confusenotebook",
     "suggestion": "Please consider cleaning it to guarantee the reproducibility.",
     "text": "Cell 20 is a non-executed cell among executed ones"
    },
    {
     "cellId": 21,
     "hash": "cf08fb8d0e2dc9def9431301e50202e23cb99a8d",
     "reason": "When you try to run all cells following the top-down order, cells in the wrong order might fail to execute or produce different results, hampering the reproducibility.",
     "reportId": "c2",
     "reportType": "confusenotebook",
     "suggestion": "Please consider re-running the notebook to guarantee the reproducibility.",
     "text": "Cell 21 has the execution count 41 in the wrong order"
    },
    {
     "cellId": 27,
     "hash": "68671932a587ba48a953e9d664846e0991465407",
     "reason": "When you try to run all cells following the top-down order, non-executed cells might fail to execute or produce different results, hampering the reproducibility.",
     "reportId": "c1",
     "reportType": "confusenotebook",
     "suggestion": "Please consider cleaning it to guarantee the reproducibility.",
     "text": "Cell 27 is a non-executed cell among executed ones"
    },
    {
     "cellId": 30,
     "hash": "e165166e6792d634cd3760b9a8a688a2063dff87",
     "reason": "A markdown cell at the end of the notebook can conclude it, presenting a summary of the obtained results.",
     "reportId": "c5",
     "reportType": "confusenotebook",
     "suggestion": "Please consider adding a markdown cell to conclude the notebook.",
     "text": "The last cell of the notebook is not a markdown cell"
    },
    {
     "cellId": "group",
     "hash": "d6fbc9d2bdd580e18ed0bc5805dc26db323d6f5f",
     "reason": "This groups other lint messages",
     "reportId": "group",
     "reportType": "import",
     "suggestion": null,
     "text": "Import"
    },
    {
     "cellId": 21,
     "hash": "ba7950f02de1440931b05e63e3f80781bb3997dc",
     "reason": "Imports at the beginning of the notebook allow for a quick failure in the case of a non-installed dependency. It prevents users from stopping their executions for installing dependencies. Additionally, imports in the middle might reduce notebooks' readability by taking the attention from the logic to the import constructs.",
     "reportId": "i1",
     "reportType": "import",
     "suggestion": "Please consider moving the import to the first cell of the notebook.",
     "text": "Cell 21 has imports but it is not the first cell"
    },
    {
     "cellId": 21,
     "hash": "206d0d0ce45247523873a694c71acab2d8d5d387",
     "reason": "Using a requirements file with pinned versions for all imported modules increases the reproducibility of the notebook.",
     "reportId": "i2",
     "reportType": "import",
     "suggestion": "Please consider adding them to guarantee the reproducibility.",
     "text": "Module pandas was imported by Cell 21, but it is not in the requirements file"
    },
    {
     "cellId": 21,
     "hash": "31e90fbaccc846f1ce2ba0eefbb30153269c1456",
     "reason": "Using a requirements file with pinned versions for all imported modules increases the reproducibility of the notebook.",
     "reportId": "i2",
     "reportType": "import",
     "suggestion": "Please consider adding them to guarantee the reproducibility.",
     "text": "Module fastparquet was imported by Cell 21, but it is not in the requirements file"
    },
    {
     "cellId": 28,
     "hash": "a590d6b7fc2e1cd3001e3e77bcfda6f4cdaf57b4",
     "reason": "Imports at the beginning of the notebook allow for a quick failure in the case of a non-installed dependency. It prevents users from stopping their executions for installing dependencies. Additionally, imports in the middle might reduce notebooks' readability by taking the attention from the logic to the import constructs.",
     "reportId": "i1",
     "reportType": "import",
     "suggestion": "Please consider moving the import to the first cell of the notebook.",
     "text": "Cell 28 has imports but it is not the first cell"
    }
   ]
  },
  "kernelspec": {
   "display_name": "Python 3",
   "language": "python",
   "name": "python3"
  },
  "language_info": {
   "codemirror_mode": {
    "name": "ipython",
    "version": 3
   },
   "file_extension": ".py",
   "mimetype": "text/x-python",
   "name": "python",
   "nbconvert_exporter": "python",
   "pygments_lexer": "ipython3",
   "version": "3.8.5"
  }
 },
 "nbformat": 4,
 "nbformat_minor": 4
}
